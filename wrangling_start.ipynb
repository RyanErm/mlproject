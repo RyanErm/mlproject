{
  "cells": [
    {
      "cell_type": "markdown",
      "metadata": {
        "id": "x8o4A5_-OMwr"
      },
      "source": [
        "Questions about the dataset\n",
        "\n",
        "1. What is in your data?\n",
        "\n",
        "Our dataset is about murders throughout the U.S. The dataset spans from 1976 to 2023, but for the purposes of this project we will be focusing on data from after the year 2010. This subset the data to a more manageable range. In the original dataset, there were some columns that were dropped due to them not being relevant, such as the filedata or the MSA. The columns in the current data set are:\n",
        "- State - The state of the Crime.\n",
        "- Agency - The city of the Crime.\n",
        "- Source - Where this data came from (i.e. the FBI)\n",
        "- Solved - Was the case solved?\n",
        "- Year - Year of Crime.\n",
        "- Month - Month of Crime.\n",
        "- Homicide - Type of Crime.\n",
        "- Situation - Situation in which the crime occurred.\n",
        "- VicAge - Age of Victim.\n",
        "- VicSex - Sex of Victim.\n",
        "- VicRace - Race of Victim.\n",
        "- VicEthnic - Ethnicity of Victim.\n",
        "- OffAge - Age of Offender.\n",
        "- OffSex - Sex of Offender.\n",
        "- OffRace - Race of Offender.\n",
        "- OffEthnic - Ethnicity of Offender.\n",
        "- Weapon - Weapon Used.\n",
        "- Relationship - Relationship between Victim and Offender.\n",
        "- VicCount - Amount of Victims.\n",
        "- OffCount - Amount of Offenders.\n",
        "\n",
        "\n",
        "\n",
        "\n",
        "\n",
        "2. How will these data be useful for studying the phenomenon you're interested in?\n",
        "\n",
        "\n",
        "\n",
        "Some trends we can use the data to analyze include age of offender based on location, how COVID years have affected crime rates (including who’s doing the crime and where it’s happening), if certain places are more inclined to use a certain type of weapon states with highest crime frequencies, season with highest crime rates and which months, whether or not crime rates have decreased since the start of data gathering, most common types of relationships that incite violence, etc. Many questions can be explored using this dataset.\n",
        "\n",
        "3. What are the challenges you've resolved or expect to face in using them?\n",
        "\n",
        "\n",
        "There are a lot of missing values or placeholder values that would interfere with analysis, so cleaning those and converting values into integers if needed will be a longer process. If an observation has 4+ missing values, it will be dropped. If a column has 20%+ entries missing, it will be removed. Additionally, if it's decided to replace data with means, medians, a range, common values, or simply leave them as unknowns, then we will need to determine what they are first before deciding further action. At the same time, categories like offender race shouldn't be assumed. Missing values will make it hard to tell if there were any preventive or safety measures put in place, and whether or not they have helped at all. So far, similar inputs are grouped like firearms, but more complex relations could be kept separate depending on the specific question to answer.\n",
        "The possible are all listed from the tables after replacing unknown values and grouping other entries together.\n",
        "\n"
      ]
    },
    {
      "cell_type": "code",
      "execution_count": 53,
      "metadata": {
        "id": "FJ8O4GAWH3Aa"
      },
      "outputs": [],
      "source": [
        "import pandas as pd\n",
        "import seaborn as sns\n",
        "import numpy as np\n",
        "\n",
        "# ignore warnings about \"Setting with copy\" and keep all others\n",
        "import warnings\n",
        "warnings.simplefilter(action=\"ignore\", category=pd.errors.SettingWithCopyWarning)"
      ]
    },
    {
      "cell_type": "code",
      "execution_count": 54,
      "metadata": {
        "id": "wKHsPxi_ISqW"
      },
      "outputs": [],
      "source": [
        "df = pd.read_csv(\"SHR65_23.csv\")"
      ]
    },
    {
      "cell_type": "code",
      "execution_count": 29,
      "metadata": {
        "colab": {
          "base_uri": "https://localhost:8080/"
        },
        "id": "CrdoNM0kPQG6",
        "outputId": "6117d604-3c54-4b0e-9e06-c48a5c273372"
      },
      "outputs": [
        {
          "output_type": "stream",
          "name": "stdout",
          "text": [
            "Index(['ID', 'CNTYFIPS', 'Ori', 'State', 'Agency', 'Agentype', 'Source',\n",
            "       'Solved', 'Year', 'Month', 'Incident', 'ActionType', 'Homicide',\n",
            "       'Situation', 'VicAge', 'VicSex', 'VicRace', 'VicEthnic', 'OffAge',\n",
            "       'OffSex', 'OffRace', 'OffEthnic', 'Weapon', 'Relationship',\n",
            "       'Circumstance', 'Subcircum', 'VicCount', 'OffCount', 'FileDate', 'MSA'],\n",
            "      dtype='object')\n"
          ]
        }
      ],
      "source": [
        "print(df.columns)"
      ]
    },
    {
      "cell_type": "code",
      "execution_count": 55,
      "metadata": {
        "colab": {
          "base_uri": "https://localhost:8080/",
          "height": 964
        },
        "id": "ZxBdKWi8JqfL",
        "outputId": "57ef055c-3084-41d1-ae94-8c4100782d5e"
      },
      "outputs": [
        {
          "output_type": "execute_result",
          "data": {
            "text/plain": [
              "          State             Agency Source Solved  Year   Month  \\\n",
              "0        Alaska          Anchorage    FBI    Yes  1976   March   \n",
              "1        Alaska          Anchorage    FBI    Yes  1976   April   \n",
              "2        Alaska          Anchorage    FBI    Yes  1976    June   \n",
              "3        Alaska          Anchorage    FBI    Yes  1976    June   \n",
              "4        Alaska          Anchorage    FBI    Yes  1976    July   \n",
              "...         ...                ...    ...    ...   ...     ...   \n",
              "894631  Wyoming  Wind River Agency    FBI     No  2018  August   \n",
              "894632  Wyoming  Wind River Agency    FBI    Yes  2019  August   \n",
              "894633  Wyoming  Wind River Agency    FBI    Yes  2023   March   \n",
              "894634  Wyoming  Wind River Agency    FBI    Yes  2023   March   \n",
              "894635  Wyoming  Wind River Agency    FBI    Yes  2023  August   \n",
              "\n",
              "                                     Homicide  \\\n",
              "0       Murder and non-negligent manslaughter   \n",
              "1       Murder and non-negligent manslaughter   \n",
              "2       Murder and non-negligent manslaughter   \n",
              "3       Murder and non-negligent manslaughter   \n",
              "4       Murder and non-negligent manslaughter   \n",
              "...                                       ...   \n",
              "894631  Murder and non-negligent manslaughter   \n",
              "894632  Murder and non-negligent manslaughter   \n",
              "894633  Murder and non-negligent manslaughter   \n",
              "894634  Murder and non-negligent manslaughter   \n",
              "894635  Murder and non-negligent manslaughter   \n",
              "\n",
              "                                Situation  VicAge  VicSex  \\\n",
              "0           Single victim/single offender      48    Male   \n",
              "1           Single victim/single offender      33  Female   \n",
              "2           Single victim/single offender      38    Male   \n",
              "3           Single victim/single offender      41    Male   \n",
              "4           Single victim/single offender      33    Male   \n",
              "...                                   ...     ...     ...   \n",
              "894631  Single victim/unknown offender(s)      29    Male   \n",
              "894632      Single victim/single offender      29    Male   \n",
              "894633      Single victim/single offender      44    Male   \n",
              "894634      Single victim/single offender      37    Male   \n",
              "894635      Single victim/single offender      42    Male   \n",
              "\n",
              "                                  VicRace                VicEthnic  OffAge  \\\n",
              "0                                 Unknown  Unknown or not reported      68   \n",
              "1                                   White  Unknown or not reported      44   \n",
              "2                                   White  Unknown or not reported      27   \n",
              "3                                   White  Unknown or not reported      34   \n",
              "4       American Indian or Alaskan Native  Unknown or not reported      37   \n",
              "...                                   ...                      ...     ...   \n",
              "894631  American Indian or Alaskan Native   Not of Hispanic origin     999   \n",
              "894632  American Indian or Alaskan Native   Not of Hispanic origin      30   \n",
              "894633  American Indian or Alaskan Native   Not of Hispanic origin      33   \n",
              "894634  American Indian or Alaskan Native   Not of Hispanic origin      29   \n",
              "894635  American Indian or Alaskan Native   Not of Hispanic origin      59   \n",
              "\n",
              "         OffSex                            OffRace                OffEthnic  \\\n",
              "0          Male                              Black  Unknown or not reported   \n",
              "1          Male                              White  Unknown or not reported   \n",
              "2          Male                              Black  Unknown or not reported   \n",
              "3          Male                              White  Unknown or not reported   \n",
              "4        Female  American Indian or Alaskan Native  Unknown or not reported   \n",
              "...         ...                                ...                      ...   \n",
              "894631  Unknown                            Unknown  Unknown or not reported   \n",
              "894632     Male  American Indian or Alaskan Native   Not of Hispanic origin   \n",
              "894633     Male  American Indian or Alaskan Native   Not of Hispanic origin   \n",
              "894634     Male  American Indian or Alaskan Native   Not of Hispanic origin   \n",
              "894635     Male  American Indian or Alaskan Native   Not of Hispanic origin   \n",
              "\n",
              "                                 Weapon                 Relationship  \\\n",
              "0       Handgun - pistol, revolver, etc  Relationship not determined   \n",
              "1       Handgun - pistol, revolver, etc                   Girlfriend   \n",
              "2       Handgun - pistol, revolver, etc                     Stranger   \n",
              "3       Handgun - pistol, revolver, etc      Other - known to victim   \n",
              "4           Knife or cutting instrument                      Brother   \n",
              "...                                 ...                          ...   \n",
              "894631                          Shotgun      Other - known to victim   \n",
              "894632         Firearm, type not stated                 Acquaintance   \n",
              "894633         Firearm, type not stated      Other - known to victim   \n",
              "894634            Other or type unknown  Relationship not determined   \n",
              "894635  Handgun - pistol, revolver, etc      Other - known to victim   \n",
              "\n",
              "        VicCount  OffCount  \n",
              "0              0         0  \n",
              "1              0         0  \n",
              "2              0         0  \n",
              "3              0         0  \n",
              "4              0         0  \n",
              "...          ...       ...  \n",
              "894631         0         0  \n",
              "894632         0         0  \n",
              "894633         0         0  \n",
              "894634         0         0  \n",
              "894635         0         0  \n",
              "\n",
              "[894636 rows x 20 columns]"
            ],
            "text/html": [
              "\n",
              "  <div id=\"df-c8ea753b-af8b-4732-9f9e-944dd6a39a28\" class=\"colab-df-container\">\n",
              "    <div>\n",
              "<style scoped>\n",
              "    .dataframe tbody tr th:only-of-type {\n",
              "        vertical-align: middle;\n",
              "    }\n",
              "\n",
              "    .dataframe tbody tr th {\n",
              "        vertical-align: top;\n",
              "    }\n",
              "\n",
              "    .dataframe thead th {\n",
              "        text-align: right;\n",
              "    }\n",
              "</style>\n",
              "<table border=\"1\" class=\"dataframe\">\n",
              "  <thead>\n",
              "    <tr style=\"text-align: right;\">\n",
              "      <th></th>\n",
              "      <th>State</th>\n",
              "      <th>Agency</th>\n",
              "      <th>Source</th>\n",
              "      <th>Solved</th>\n",
              "      <th>Year</th>\n",
              "      <th>Month</th>\n",
              "      <th>Homicide</th>\n",
              "      <th>Situation</th>\n",
              "      <th>VicAge</th>\n",
              "      <th>VicSex</th>\n",
              "      <th>VicRace</th>\n",
              "      <th>VicEthnic</th>\n",
              "      <th>OffAge</th>\n",
              "      <th>OffSex</th>\n",
              "      <th>OffRace</th>\n",
              "      <th>OffEthnic</th>\n",
              "      <th>Weapon</th>\n",
              "      <th>Relationship</th>\n",
              "      <th>VicCount</th>\n",
              "      <th>OffCount</th>\n",
              "    </tr>\n",
              "  </thead>\n",
              "  <tbody>\n",
              "    <tr>\n",
              "      <th>0</th>\n",
              "      <td>Alaska</td>\n",
              "      <td>Anchorage</td>\n",
              "      <td>FBI</td>\n",
              "      <td>Yes</td>\n",
              "      <td>1976</td>\n",
              "      <td>March</td>\n",
              "      <td>Murder and non-negligent manslaughter</td>\n",
              "      <td>Single victim/single offender</td>\n",
              "      <td>48</td>\n",
              "      <td>Male</td>\n",
              "      <td>Unknown</td>\n",
              "      <td>Unknown or not reported</td>\n",
              "      <td>68</td>\n",
              "      <td>Male</td>\n",
              "      <td>Black</td>\n",
              "      <td>Unknown or not reported</td>\n",
              "      <td>Handgun - pistol, revolver, etc</td>\n",
              "      <td>Relationship not determined</td>\n",
              "      <td>0</td>\n",
              "      <td>0</td>\n",
              "    </tr>\n",
              "    <tr>\n",
              "      <th>1</th>\n",
              "      <td>Alaska</td>\n",
              "      <td>Anchorage</td>\n",
              "      <td>FBI</td>\n",
              "      <td>Yes</td>\n",
              "      <td>1976</td>\n",
              "      <td>April</td>\n",
              "      <td>Murder and non-negligent manslaughter</td>\n",
              "      <td>Single victim/single offender</td>\n",
              "      <td>33</td>\n",
              "      <td>Female</td>\n",
              "      <td>White</td>\n",
              "      <td>Unknown or not reported</td>\n",
              "      <td>44</td>\n",
              "      <td>Male</td>\n",
              "      <td>White</td>\n",
              "      <td>Unknown or not reported</td>\n",
              "      <td>Handgun - pistol, revolver, etc</td>\n",
              "      <td>Girlfriend</td>\n",
              "      <td>0</td>\n",
              "      <td>0</td>\n",
              "    </tr>\n",
              "    <tr>\n",
              "      <th>2</th>\n",
              "      <td>Alaska</td>\n",
              "      <td>Anchorage</td>\n",
              "      <td>FBI</td>\n",
              "      <td>Yes</td>\n",
              "      <td>1976</td>\n",
              "      <td>June</td>\n",
              "      <td>Murder and non-negligent manslaughter</td>\n",
              "      <td>Single victim/single offender</td>\n",
              "      <td>38</td>\n",
              "      <td>Male</td>\n",
              "      <td>White</td>\n",
              "      <td>Unknown or not reported</td>\n",
              "      <td>27</td>\n",
              "      <td>Male</td>\n",
              "      <td>Black</td>\n",
              "      <td>Unknown or not reported</td>\n",
              "      <td>Handgun - pistol, revolver, etc</td>\n",
              "      <td>Stranger</td>\n",
              "      <td>0</td>\n",
              "      <td>0</td>\n",
              "    </tr>\n",
              "    <tr>\n",
              "      <th>3</th>\n",
              "      <td>Alaska</td>\n",
              "      <td>Anchorage</td>\n",
              "      <td>FBI</td>\n",
              "      <td>Yes</td>\n",
              "      <td>1976</td>\n",
              "      <td>June</td>\n",
              "      <td>Murder and non-negligent manslaughter</td>\n",
              "      <td>Single victim/single offender</td>\n",
              "      <td>41</td>\n",
              "      <td>Male</td>\n",
              "      <td>White</td>\n",
              "      <td>Unknown or not reported</td>\n",
              "      <td>34</td>\n",
              "      <td>Male</td>\n",
              "      <td>White</td>\n",
              "      <td>Unknown or not reported</td>\n",
              "      <td>Handgun - pistol, revolver, etc</td>\n",
              "      <td>Other - known to victim</td>\n",
              "      <td>0</td>\n",
              "      <td>0</td>\n",
              "    </tr>\n",
              "    <tr>\n",
              "      <th>4</th>\n",
              "      <td>Alaska</td>\n",
              "      <td>Anchorage</td>\n",
              "      <td>FBI</td>\n",
              "      <td>Yes</td>\n",
              "      <td>1976</td>\n",
              "      <td>July</td>\n",
              "      <td>Murder and non-negligent manslaughter</td>\n",
              "      <td>Single victim/single offender</td>\n",
              "      <td>33</td>\n",
              "      <td>Male</td>\n",
              "      <td>American Indian or Alaskan Native</td>\n",
              "      <td>Unknown or not reported</td>\n",
              "      <td>37</td>\n",
              "      <td>Female</td>\n",
              "      <td>American Indian or Alaskan Native</td>\n",
              "      <td>Unknown or not reported</td>\n",
              "      <td>Knife or cutting instrument</td>\n",
              "      <td>Brother</td>\n",
              "      <td>0</td>\n",
              "      <td>0</td>\n",
              "    </tr>\n",
              "    <tr>\n",
              "      <th>...</th>\n",
              "      <td>...</td>\n",
              "      <td>...</td>\n",
              "      <td>...</td>\n",
              "      <td>...</td>\n",
              "      <td>...</td>\n",
              "      <td>...</td>\n",
              "      <td>...</td>\n",
              "      <td>...</td>\n",
              "      <td>...</td>\n",
              "      <td>...</td>\n",
              "      <td>...</td>\n",
              "      <td>...</td>\n",
              "      <td>...</td>\n",
              "      <td>...</td>\n",
              "      <td>...</td>\n",
              "      <td>...</td>\n",
              "      <td>...</td>\n",
              "      <td>...</td>\n",
              "      <td>...</td>\n",
              "      <td>...</td>\n",
              "    </tr>\n",
              "    <tr>\n",
              "      <th>894631</th>\n",
              "      <td>Wyoming</td>\n",
              "      <td>Wind River Agency</td>\n",
              "      <td>FBI</td>\n",
              "      <td>No</td>\n",
              "      <td>2018</td>\n",
              "      <td>August</td>\n",
              "      <td>Murder and non-negligent manslaughter</td>\n",
              "      <td>Single victim/unknown offender(s)</td>\n",
              "      <td>29</td>\n",
              "      <td>Male</td>\n",
              "      <td>American Indian or Alaskan Native</td>\n",
              "      <td>Not of Hispanic origin</td>\n",
              "      <td>999</td>\n",
              "      <td>Unknown</td>\n",
              "      <td>Unknown</td>\n",
              "      <td>Unknown or not reported</td>\n",
              "      <td>Shotgun</td>\n",
              "      <td>Other - known to victim</td>\n",
              "      <td>0</td>\n",
              "      <td>0</td>\n",
              "    </tr>\n",
              "    <tr>\n",
              "      <th>894632</th>\n",
              "      <td>Wyoming</td>\n",
              "      <td>Wind River Agency</td>\n",
              "      <td>FBI</td>\n",
              "      <td>Yes</td>\n",
              "      <td>2019</td>\n",
              "      <td>August</td>\n",
              "      <td>Murder and non-negligent manslaughter</td>\n",
              "      <td>Single victim/single offender</td>\n",
              "      <td>29</td>\n",
              "      <td>Male</td>\n",
              "      <td>American Indian or Alaskan Native</td>\n",
              "      <td>Not of Hispanic origin</td>\n",
              "      <td>30</td>\n",
              "      <td>Male</td>\n",
              "      <td>American Indian or Alaskan Native</td>\n",
              "      <td>Not of Hispanic origin</td>\n",
              "      <td>Firearm, type not stated</td>\n",
              "      <td>Acquaintance</td>\n",
              "      <td>0</td>\n",
              "      <td>0</td>\n",
              "    </tr>\n",
              "    <tr>\n",
              "      <th>894633</th>\n",
              "      <td>Wyoming</td>\n",
              "      <td>Wind River Agency</td>\n",
              "      <td>FBI</td>\n",
              "      <td>Yes</td>\n",
              "      <td>2023</td>\n",
              "      <td>March</td>\n",
              "      <td>Murder and non-negligent manslaughter</td>\n",
              "      <td>Single victim/single offender</td>\n",
              "      <td>44</td>\n",
              "      <td>Male</td>\n",
              "      <td>American Indian or Alaskan Native</td>\n",
              "      <td>Not of Hispanic origin</td>\n",
              "      <td>33</td>\n",
              "      <td>Male</td>\n",
              "      <td>American Indian or Alaskan Native</td>\n",
              "      <td>Not of Hispanic origin</td>\n",
              "      <td>Firearm, type not stated</td>\n",
              "      <td>Other - known to victim</td>\n",
              "      <td>0</td>\n",
              "      <td>0</td>\n",
              "    </tr>\n",
              "    <tr>\n",
              "      <th>894634</th>\n",
              "      <td>Wyoming</td>\n",
              "      <td>Wind River Agency</td>\n",
              "      <td>FBI</td>\n",
              "      <td>Yes</td>\n",
              "      <td>2023</td>\n",
              "      <td>March</td>\n",
              "      <td>Murder and non-negligent manslaughter</td>\n",
              "      <td>Single victim/single offender</td>\n",
              "      <td>37</td>\n",
              "      <td>Male</td>\n",
              "      <td>American Indian or Alaskan Native</td>\n",
              "      <td>Not of Hispanic origin</td>\n",
              "      <td>29</td>\n",
              "      <td>Male</td>\n",
              "      <td>American Indian or Alaskan Native</td>\n",
              "      <td>Not of Hispanic origin</td>\n",
              "      <td>Other or type unknown</td>\n",
              "      <td>Relationship not determined</td>\n",
              "      <td>0</td>\n",
              "      <td>0</td>\n",
              "    </tr>\n",
              "    <tr>\n",
              "      <th>894635</th>\n",
              "      <td>Wyoming</td>\n",
              "      <td>Wind River Agency</td>\n",
              "      <td>FBI</td>\n",
              "      <td>Yes</td>\n",
              "      <td>2023</td>\n",
              "      <td>August</td>\n",
              "      <td>Murder and non-negligent manslaughter</td>\n",
              "      <td>Single victim/single offender</td>\n",
              "      <td>42</td>\n",
              "      <td>Male</td>\n",
              "      <td>American Indian or Alaskan Native</td>\n",
              "      <td>Not of Hispanic origin</td>\n",
              "      <td>59</td>\n",
              "      <td>Male</td>\n",
              "      <td>American Indian or Alaskan Native</td>\n",
              "      <td>Not of Hispanic origin</td>\n",
              "      <td>Handgun - pistol, revolver, etc</td>\n",
              "      <td>Other - known to victim</td>\n",
              "      <td>0</td>\n",
              "      <td>0</td>\n",
              "    </tr>\n",
              "  </tbody>\n",
              "</table>\n",
              "<p>894636 rows × 20 columns</p>\n",
              "</div>\n",
              "    <div class=\"colab-df-buttons\">\n",
              "\n",
              "  <div class=\"colab-df-container\">\n",
              "    <button class=\"colab-df-convert\" onclick=\"convertToInteractive('df-c8ea753b-af8b-4732-9f9e-944dd6a39a28')\"\n",
              "            title=\"Convert this dataframe to an interactive table.\"\n",
              "            style=\"display:none;\">\n",
              "\n",
              "  <svg xmlns=\"http://www.w3.org/2000/svg\" height=\"24px\" viewBox=\"0 -960 960 960\">\n",
              "    <path d=\"M120-120v-720h720v720H120Zm60-500h600v-160H180v160Zm220 220h160v-160H400v160Zm0 220h160v-160H400v160ZM180-400h160v-160H180v160Zm440 0h160v-160H620v160ZM180-180h160v-160H180v160Zm440 0h160v-160H620v160Z\"/>\n",
              "  </svg>\n",
              "    </button>\n",
              "\n",
              "  <style>\n",
              "    .colab-df-container {\n",
              "      display:flex;\n",
              "      gap: 12px;\n",
              "    }\n",
              "\n",
              "    .colab-df-convert {\n",
              "      background-color: #E8F0FE;\n",
              "      border: none;\n",
              "      border-radius: 50%;\n",
              "      cursor: pointer;\n",
              "      display: none;\n",
              "      fill: #1967D2;\n",
              "      height: 32px;\n",
              "      padding: 0 0 0 0;\n",
              "      width: 32px;\n",
              "    }\n",
              "\n",
              "    .colab-df-convert:hover {\n",
              "      background-color: #E2EBFA;\n",
              "      box-shadow: 0px 1px 2px rgba(60, 64, 67, 0.3), 0px 1px 3px 1px rgba(60, 64, 67, 0.15);\n",
              "      fill: #174EA6;\n",
              "    }\n",
              "\n",
              "    .colab-df-buttons div {\n",
              "      margin-bottom: 4px;\n",
              "    }\n",
              "\n",
              "    [theme=dark] .colab-df-convert {\n",
              "      background-color: #3B4455;\n",
              "      fill: #D2E3FC;\n",
              "    }\n",
              "\n",
              "    [theme=dark] .colab-df-convert:hover {\n",
              "      background-color: #434B5C;\n",
              "      box-shadow: 0px 1px 3px 1px rgba(0, 0, 0, 0.15);\n",
              "      filter: drop-shadow(0px 1px 2px rgba(0, 0, 0, 0.3));\n",
              "      fill: #FFFFFF;\n",
              "    }\n",
              "  </style>\n",
              "\n",
              "    <script>\n",
              "      const buttonEl =\n",
              "        document.querySelector('#df-c8ea753b-af8b-4732-9f9e-944dd6a39a28 button.colab-df-convert');\n",
              "      buttonEl.style.display =\n",
              "        google.colab.kernel.accessAllowed ? 'block' : 'none';\n",
              "\n",
              "      async function convertToInteractive(key) {\n",
              "        const element = document.querySelector('#df-c8ea753b-af8b-4732-9f9e-944dd6a39a28');\n",
              "        const dataTable =\n",
              "          await google.colab.kernel.invokeFunction('convertToInteractive',\n",
              "                                                    [key], {});\n",
              "        if (!dataTable) return;\n",
              "\n",
              "        const docLinkHtml = 'Like what you see? Visit the ' +\n",
              "          '<a target=\"_blank\" href=https://colab.research.google.com/notebooks/data_table.ipynb>data table notebook</a>'\n",
              "          + ' to learn more about interactive tables.';\n",
              "        element.innerHTML = '';\n",
              "        dataTable['output_type'] = 'display_data';\n",
              "        await google.colab.output.renderOutput(dataTable, element);\n",
              "        const docLink = document.createElement('div');\n",
              "        docLink.innerHTML = docLinkHtml;\n",
              "        element.appendChild(docLink);\n",
              "      }\n",
              "    </script>\n",
              "  </div>\n",
              "\n",
              "\n",
              "<div id=\"df-416fadd4-f761-40f6-af1c-621bb31e496e\">\n",
              "  <button class=\"colab-df-quickchart\" onclick=\"quickchart('df-416fadd4-f761-40f6-af1c-621bb31e496e')\"\n",
              "            title=\"Suggest charts\"\n",
              "            style=\"display:none;\">\n",
              "\n",
              "<svg xmlns=\"http://www.w3.org/2000/svg\" height=\"24px\"viewBox=\"0 0 24 24\"\n",
              "     width=\"24px\">\n",
              "    <g>\n",
              "        <path d=\"M19 3H5c-1.1 0-2 .9-2 2v14c0 1.1.9 2 2 2h14c1.1 0 2-.9 2-2V5c0-1.1-.9-2-2-2zM9 17H7v-7h2v7zm4 0h-2V7h2v10zm4 0h-2v-4h2v4z\"/>\n",
              "    </g>\n",
              "</svg>\n",
              "  </button>\n",
              "\n",
              "<style>\n",
              "  .colab-df-quickchart {\n",
              "      --bg-color: #E8F0FE;\n",
              "      --fill-color: #1967D2;\n",
              "      --hover-bg-color: #E2EBFA;\n",
              "      --hover-fill-color: #174EA6;\n",
              "      --disabled-fill-color: #AAA;\n",
              "      --disabled-bg-color: #DDD;\n",
              "  }\n",
              "\n",
              "  [theme=dark] .colab-df-quickchart {\n",
              "      --bg-color: #3B4455;\n",
              "      --fill-color: #D2E3FC;\n",
              "      --hover-bg-color: #434B5C;\n",
              "      --hover-fill-color: #FFFFFF;\n",
              "      --disabled-bg-color: #3B4455;\n",
              "      --disabled-fill-color: #666;\n",
              "  }\n",
              "\n",
              "  .colab-df-quickchart {\n",
              "    background-color: var(--bg-color);\n",
              "    border: none;\n",
              "    border-radius: 50%;\n",
              "    cursor: pointer;\n",
              "    display: none;\n",
              "    fill: var(--fill-color);\n",
              "    height: 32px;\n",
              "    padding: 0;\n",
              "    width: 32px;\n",
              "  }\n",
              "\n",
              "  .colab-df-quickchart:hover {\n",
              "    background-color: var(--hover-bg-color);\n",
              "    box-shadow: 0 1px 2px rgba(60, 64, 67, 0.3), 0 1px 3px 1px rgba(60, 64, 67, 0.15);\n",
              "    fill: var(--button-hover-fill-color);\n",
              "  }\n",
              "\n",
              "  .colab-df-quickchart-complete:disabled,\n",
              "  .colab-df-quickchart-complete:disabled:hover {\n",
              "    background-color: var(--disabled-bg-color);\n",
              "    fill: var(--disabled-fill-color);\n",
              "    box-shadow: none;\n",
              "  }\n",
              "\n",
              "  .colab-df-spinner {\n",
              "    border: 2px solid var(--fill-color);\n",
              "    border-color: transparent;\n",
              "    border-bottom-color: var(--fill-color);\n",
              "    animation:\n",
              "      spin 1s steps(1) infinite;\n",
              "  }\n",
              "\n",
              "  @keyframes spin {\n",
              "    0% {\n",
              "      border-color: transparent;\n",
              "      border-bottom-color: var(--fill-color);\n",
              "      border-left-color: var(--fill-color);\n",
              "    }\n",
              "    20% {\n",
              "      border-color: transparent;\n",
              "      border-left-color: var(--fill-color);\n",
              "      border-top-color: var(--fill-color);\n",
              "    }\n",
              "    30% {\n",
              "      border-color: transparent;\n",
              "      border-left-color: var(--fill-color);\n",
              "      border-top-color: var(--fill-color);\n",
              "      border-right-color: var(--fill-color);\n",
              "    }\n",
              "    40% {\n",
              "      border-color: transparent;\n",
              "      border-right-color: var(--fill-color);\n",
              "      border-top-color: var(--fill-color);\n",
              "    }\n",
              "    60% {\n",
              "      border-color: transparent;\n",
              "      border-right-color: var(--fill-color);\n",
              "    }\n",
              "    80% {\n",
              "      border-color: transparent;\n",
              "      border-right-color: var(--fill-color);\n",
              "      border-bottom-color: var(--fill-color);\n",
              "    }\n",
              "    90% {\n",
              "      border-color: transparent;\n",
              "      border-bottom-color: var(--fill-color);\n",
              "    }\n",
              "  }\n",
              "</style>\n",
              "\n",
              "  <script>\n",
              "    async function quickchart(key) {\n",
              "      const quickchartButtonEl =\n",
              "        document.querySelector('#' + key + ' button');\n",
              "      quickchartButtonEl.disabled = true;  // To prevent multiple clicks.\n",
              "      quickchartButtonEl.classList.add('colab-df-spinner');\n",
              "      try {\n",
              "        const charts = await google.colab.kernel.invokeFunction(\n",
              "            'suggestCharts', [key], {});\n",
              "      } catch (error) {\n",
              "        console.error('Error during call to suggestCharts:', error);\n",
              "      }\n",
              "      quickchartButtonEl.classList.remove('colab-df-spinner');\n",
              "      quickchartButtonEl.classList.add('colab-df-quickchart-complete');\n",
              "    }\n",
              "    (() => {\n",
              "      let quickchartButtonEl =\n",
              "        document.querySelector('#df-416fadd4-f761-40f6-af1c-621bb31e496e button');\n",
              "      quickchartButtonEl.style.display =\n",
              "        google.colab.kernel.accessAllowed ? 'block' : 'none';\n",
              "    })();\n",
              "  </script>\n",
              "</div>\n",
              "\n",
              "  <div id=\"id_25c929ed-cae4-46f1-8dce-5086eacc69d5\">\n",
              "    <style>\n",
              "      .colab-df-generate {\n",
              "        background-color: #E8F0FE;\n",
              "        border: none;\n",
              "        border-radius: 50%;\n",
              "        cursor: pointer;\n",
              "        display: none;\n",
              "        fill: #1967D2;\n",
              "        height: 32px;\n",
              "        padding: 0 0 0 0;\n",
              "        width: 32px;\n",
              "      }\n",
              "\n",
              "      .colab-df-generate:hover {\n",
              "        background-color: #E2EBFA;\n",
              "        box-shadow: 0px 1px 2px rgba(60, 64, 67, 0.3), 0px 1px 3px 1px rgba(60, 64, 67, 0.15);\n",
              "        fill: #174EA6;\n",
              "      }\n",
              "\n",
              "      [theme=dark] .colab-df-generate {\n",
              "        background-color: #3B4455;\n",
              "        fill: #D2E3FC;\n",
              "      }\n",
              "\n",
              "      [theme=dark] .colab-df-generate:hover {\n",
              "        background-color: #434B5C;\n",
              "        box-shadow: 0px 1px 3px 1px rgba(0, 0, 0, 0.15);\n",
              "        filter: drop-shadow(0px 1px 2px rgba(0, 0, 0, 0.3));\n",
              "        fill: #FFFFFF;\n",
              "      }\n",
              "    </style>\n",
              "    <button class=\"colab-df-generate\" onclick=\"generateWithVariable('new_df')\"\n",
              "            title=\"Generate code using this dataframe.\"\n",
              "            style=\"display:none;\">\n",
              "\n",
              "  <svg xmlns=\"http://www.w3.org/2000/svg\" height=\"24px\"viewBox=\"0 0 24 24\"\n",
              "       width=\"24px\">\n",
              "    <path d=\"M7,19H8.4L18.45,9,17,7.55,7,17.6ZM5,21V16.75L18.45,3.32a2,2,0,0,1,2.83,0l1.4,1.43a1.91,1.91,0,0,1,.58,1.4,1.91,1.91,0,0,1-.58,1.4L9.25,21ZM18.45,9,17,7.55Zm-12,3A5.31,5.31,0,0,0,4.9,8.1,5.31,5.31,0,0,0,1,6.5,5.31,5.31,0,0,0,4.9,4.9,5.31,5.31,0,0,0,6.5,1,5.31,5.31,0,0,0,8.1,4.9,5.31,5.31,0,0,0,12,6.5,5.46,5.46,0,0,0,6.5,12Z\"/>\n",
              "  </svg>\n",
              "    </button>\n",
              "    <script>\n",
              "      (() => {\n",
              "      const buttonEl =\n",
              "        document.querySelector('#id_25c929ed-cae4-46f1-8dce-5086eacc69d5 button.colab-df-generate');\n",
              "      buttonEl.style.display =\n",
              "        google.colab.kernel.accessAllowed ? 'block' : 'none';\n",
              "\n",
              "      buttonEl.onclick = () => {\n",
              "        google.colab.notebook.generateWithVariable('new_df');\n",
              "      }\n",
              "      })();\n",
              "    </script>\n",
              "  </div>\n",
              "\n",
              "    </div>\n",
              "  </div>\n"
            ],
            "application/vnd.google.colaboratory.intrinsic+json": {
              "type": "dataframe",
              "variable_name": "new_df"
            }
          },
          "metadata": {},
          "execution_count": 55
        }
      ],
      "source": [
        "#subset for columns that are important\n",
        "new_df = df[['State', \"Agency\", \"Source\", \"Solved\", \"Year\", \"Month\", \"Homicide\", \"Situation\", \"VicAge\", \"VicSex\", \"VicRace\", \"VicEthnic\", \"OffAge\", \"OffSex\", \"OffRace\", \"OffEthnic\", \"Weapon\", \"Relationship\", \"VicCount\", \"OffCount\"  ]]\n",
        "new_df"
      ]
    },
    {
      "cell_type": "markdown",
      "metadata": {
        "id": "MaJg6sxASz-s"
      },
      "source": [
        "Now we can check if there are any missing values"
      ]
    },
    {
      "cell_type": "code",
      "execution_count": 56,
      "metadata": {
        "colab": {
          "base_uri": "https://localhost:8080/"
        },
        "id": "u-VpulpzNjsE",
        "outputId": "071d8a11-7830-4dfb-95d3-a427c1556b0c"
      },
      "outputs": [
        {
          "output_type": "stream",
          "name": "stdout",
          "text": [
            "State\n",
            "0\n",
            "Agency\n",
            "0\n",
            "Source\n",
            "0\n",
            "Solved\n",
            "0\n",
            "Year\n",
            "0\n",
            "Month\n",
            "0\n",
            "Homicide\n",
            "0\n",
            "Situation\n",
            "0\n",
            "VicAge\n",
            "0\n",
            "VicSex\n",
            "0\n",
            "VicRace\n",
            "0\n",
            "VicEthnic\n",
            "0\n",
            "OffAge\n",
            "0\n",
            "OffSex\n",
            "0\n",
            "OffRace\n",
            "0\n",
            "OffEthnic\n",
            "0\n",
            "Weapon\n",
            "0\n",
            "Relationship\n",
            "0\n",
            "VicCount\n",
            "0\n",
            "OffCount\n",
            "0\n"
          ]
        }
      ],
      "source": [
        "#Checking for any missing values in the data\n",
        "\n",
        "for col in new_df.columns:\n",
        "  print(col)\n",
        "  print(new_df[col].isna().sum())"
      ]
    },
    {
      "cell_type": "markdown",
      "metadata": {
        "id": "11Bj_A68S23A"
      },
      "source": [
        "\n",
        "\n",
        "```\n",
        "# This is formatted as code\n",
        "```\n",
        "\n",
        "There are some missing values"
      ]
    },
    {
      "cell_type": "code",
      "execution_count": 57,
      "metadata": {
        "colab": {
          "base_uri": "https://localhost:8080/"
        },
        "id": "laODWsnMOCej",
        "outputId": "bb9c55b0-9411-4ba8-dfce-bd3af74a52e4"
      },
      "outputs": [
        {
          "output_type": "stream",
          "name": "stdout",
          "text": [
            "[2015 2016 2017 2018 2019 2020 2022 2023 2021]\n"
          ]
        }
      ],
      "source": [
        "#subset the data based on year\n",
        "new_df = new_df[new_df['Year']>=2015]\n",
        "#check for weird values\n",
        "print(new_df['Year'].unique())"
      ]
    },
    {
      "cell_type": "code",
      "execution_count": 58,
      "metadata": {
        "colab": {
          "base_uri": "https://localhost:8080/"
        },
        "id": "7lEUga-VSrMb",
        "outputId": "6010c00b-daee-477e-b916-e4018f9e877e"
      },
      "outputs": [
        {
          "output_type": "stream",
          "name": "stdout",
          "text": [
            "['Alaska' 'Alabama' 'Arkansas' 'Arizona' 'California' 'Colorado'\n",
            " 'Connecticut' 'District of Columbia' 'Delaware' 'Florida' 'Georgia'\n",
            " 'Hawaii' 'Iowa' 'Idaho' 'Illinois' 'Indiana' 'Kansas' 'Kentucky'\n",
            " 'Louisiana' 'Massachusetts' 'Maryland' 'Maine' 'Michigan' 'Minnesota'\n",
            " 'Missouri' 'Mississippi' 'Montana' 'Nebraska' 'North Carolina'\n",
            " 'North Dakota' 'New Hampshire' 'New Jersey' 'New Mexico' 'Nevada'\n",
            " 'New York' 'Ohio' 'Oklahoma' 'Oregon' 'Pennsylvania' 'Rhodes Island'\n",
            " 'South Carolina' 'South Dakota' 'Tennessee' 'Texas' 'Utah' 'Virginia'\n",
            " 'Vermont' 'Washington' 'Wisconsin' 'West Virginia' 'Wyoming']\n"
          ]
        }
      ],
      "source": [
        "#check for weird values\n",
        "print(new_df['State'].unique())"
      ]
    },
    {
      "cell_type": "code",
      "execution_count": 59,
      "metadata": {
        "colab": {
          "base_uri": "https://localhost:8080/"
        },
        "id": "2LtRa8PaTDDC",
        "outputId": "c12d3af7-82f2-466c-a981-cab402cd16d4"
      },
      "outputs": [
        {
          "output_type": "stream",
          "name": "stdout",
          "text": [
            "['FBI' 'MAP']\n"
          ]
        }
      ],
      "source": [
        "#check for weird values\n",
        "print(new_df['Source'].unique())"
      ]
    },
    {
      "cell_type": "code",
      "execution_count": 60,
      "metadata": {
        "colab": {
          "base_uri": "https://localhost:8080/"
        },
        "id": "smgcddc8TSAY",
        "outputId": "5ec9ba55-0437-460d-9f70-e44c74d90a48"
      },
      "outputs": [
        {
          "output_type": "stream",
          "name": "stdout",
          "text": [
            "['Yes' 'No']\n"
          ]
        }
      ],
      "source": [
        "#check for weird values\n",
        "print(new_df['Solved'].unique())"
      ]
    },
    {
      "cell_type": "code",
      "execution_count": 61,
      "metadata": {
        "colab": {
          "base_uri": "https://localhost:8080/"
        },
        "id": "90PHbzyoTg72",
        "outputId": "8e1e3f25-08c5-450c-fd8a-f1ee19a2f918"
      },
      "outputs": [
        {
          "output_type": "stream",
          "name": "stdout",
          "text": [
            "['Single victim/multiple offenders' 'Multiple victims/unknown offender(s)'\n",
            " 'Single victim/single offender' 'Single victim/unknown offender(s)'\n",
            " 'Multiple victims/single offender' 'Multiple victims/multiple offenders']\n"
          ]
        }
      ],
      "source": [
        "#check for weird values\n",
        "print(new_df['Situation'].unique())"
      ]
    },
    {
      "cell_type": "code",
      "execution_count": 62,
      "metadata": {
        "colab": {
          "base_uri": "https://localhost:8080/"
        },
        "id": "H__OqXR-Ttv3",
        "outputId": "178e7caa-fe2a-4ccd-d815-195dca4b3cb6"
      },
      "outputs": [
        {
          "output_type": "stream",
          "name": "stdout",
          "text": [
            "[ 0  1  2  3  4  6  5 10  8 11  9  7 21 20 52]\n"
          ]
        }
      ],
      "source": [
        "#check for weird values\n",
        "print(new_df['VicCount'].unique())"
      ]
    },
    {
      "cell_type": "code",
      "execution_count": 63,
      "metadata": {
        "colab": {
          "base_uri": "https://localhost:8080/"
        },
        "id": "9JolRTbxT8GR",
        "outputId": "fb6a6850-fd31-4420-f253-abc812fb4777"
      },
      "outputs": [
        {
          "output_type": "stream",
          "name": "stdout",
          "text": [
            "[ 3  0  1  4  5  2  8  6  7 11 15 12  9 10 17 40 13 14 21]\n"
          ]
        }
      ],
      "source": [
        "#check for weird values\n",
        "print(new_df['OffCount'].unique())"
      ]
    },
    {
      "cell_type": "code",
      "execution_count": 64,
      "metadata": {
        "colab": {
          "base_uri": "https://localhost:8080/"
        },
        "id": "aF_br4zygL1v",
        "outputId": "f7de31a2-4006-41cb-efd5-326eefc37528"
      },
      "outputs": [
        {
          "output_type": "stream",
          "name": "stdout",
          "text": [
            "[ 18  20  27  23  74  33  30  56  54  39   4   1  11  19  41  26  57  29\n",
            "  60  22   2  40  49  32  24  48   0  21  17  25  34  69  51  31  38  50\n",
            "  37  70  63  92  76  28  35  65  46  52  42  36   6  15  45  59  61   3\n",
            "  44  53  13  16  71  66  43   5  14  62  12  55  88  73  47  77  75  64\n",
            "  58  10 999   7   9  72   8  81  80  79  86  85  89  68  67  83  84  82\n",
            "  91  78  99  95  90  87  94  93  97  96  98]\n",
            "[18. 20. 27. 23. 74. 33. 30. 56. 54. 39.  4.  1. 11. 19. 41. 26. 57. 29.\n",
            " 60. 22.  2. 40. 49. 32. 24. 48.  0. 21. 17. 25. 34. 69. 51. 31. 38. 50.\n",
            " 37. 70. 63. 92. 76. 28. 35. 65. 46. 52. 42. 36.  6. 15. 45. 59. 61.  3.\n",
            " 44. 53. 13. 16. 71. 66. 43.  5. 14. 62. 12. 55. 88. 73. 47. 77. 75. 64.\n",
            " 58. 10. nan  7.  9. 72.  8. 81. 80. 79. 86. 85. 89. 68. 67. 83. 84. 82.\n",
            " 91. 78. 99. 95. 90. 87. 94. 93. 97. 96. 98.]\n"
          ]
        }
      ],
      "source": [
        "#check for weird values\n",
        "print(new_df['VicAge'].unique())\n",
        "#see the value 999, which is a place holder\n",
        "new_df[\"VicAge\"] = new_df['VicAge'].replace(999, np.nan)\n",
        "print(new_df['VicAge'].unique())"
      ]
    },
    {
      "cell_type": "code",
      "execution_count": 65,
      "metadata": {
        "colab": {
          "base_uri": "https://localhost:8080/"
        },
        "id": "0BmXLfFOhc8u",
        "outputId": "842acd71-ecfa-4ce9-9d3b-690f73c0636a"
      },
      "outputs": [
        {
          "output_type": "stream",
          "name": "stdout",
          "text": [
            "[ 19  15 999  47  49  33  32  27  40  24  29  35  44  26  25  28  71  21\n",
            "  34  17  46  23  37  22  45  18  57  31  38  55  51  63  91  75  39  43\n",
            "  42  20  30  68  50  16  36  61  12  48  53  73  56  66  13  41  64  59\n",
            "  14  67   9  11  62  99  54  58  52   7  80  60  82  10   1   8  70  72\n",
            "  76  69  74  84  65  77  78  89  79   5  87  85  81  86  93  96  90  92\n",
            "  83  88  95  97   0   3   6  94  98   2   4]\n",
            "[19. 15. nan 47. 49. 33. 32. 27. 40. 24. 29. 35. 44. 26. 25. 28. 71. 21.\n",
            " 34. 17. 46. 23. 37. 22. 45. 18. 57. 31. 38. 55. 51. 63. 91. 75. 39. 43.\n",
            " 42. 20. 30. 68. 50. 16. 36. 61. 12. 48. 53. 73. 56. 66. 13. 41. 64. 59.\n",
            " 14. 67.  9. 11. 62. 99. 54. 58. 52.  7. 80. 60. 82. 10.  1.  8. 70. 72.\n",
            " 76. 69. 74. 84. 65. 77. 78. 89. 79.  5. 87. 85. 81. 86. 93. 96. 90. 92.\n",
            " 83. 88. 95. 97.  0.  3.  6. 94. 98.  2.  4.]\n"
          ]
        }
      ],
      "source": [
        "#check for weird values\n",
        "print(new_df['OffAge'].unique())\n",
        "#see the value 999, which is a place holder\n",
        "new_df[\"OffAge\"] = new_df['OffAge'].replace(999, np.nan)\n",
        "print(new_df['OffAge'].unique())"
      ]
    },
    {
      "cell_type": "code",
      "execution_count": 66,
      "metadata": {
        "colab": {
          "base_uri": "https://localhost:8080/"
        },
        "id": "rE_I6Hrahx_3",
        "outputId": "69f9b261-b8d4-49ec-f94b-b42267e62c3e"
      },
      "outputs": [
        {
          "output_type": "stream",
          "name": "stdout",
          "text": [
            "['January' 'February' 'March' 'May' 'July' 'August' 'September' 'October'\n",
            " 'November' 'December' 'June' 'April']\n"
          ]
        }
      ],
      "source": [
        "#check for weird values\n",
        "print(new_df['Month'].unique())"
      ]
    },
    {
      "cell_type": "code",
      "execution_count": 42,
      "metadata": {
        "colab": {
          "base_uri": "https://localhost:8080/"
        },
        "id": "6igwEeLSh8uR",
        "outputId": "dae444b5-0401-4ae6-baf9-86157e1702fa"
      },
      "outputs": [
        {
          "output_type": "stream",
          "name": "stdout",
          "text": [
            "['Murder and non-negligent manslaughter' 'Manslaughter by negligence']\n"
          ]
        }
      ],
      "source": [
        "#check for weird values\n",
        "print(new_df['Homicide'].unique())"
      ]
    },
    {
      "cell_type": "code",
      "execution_count": 67,
      "metadata": {
        "colab": {
          "base_uri": "https://localhost:8080/"
        },
        "id": "TdXDooaZiIUW",
        "outputId": "238eaa80-c18b-467c-c19b-6c270e8421df"
      },
      "outputs": [
        {
          "output_type": "stream",
          "name": "stdout",
          "text": [
            "['Male' 'Female' 'Unknown']\n",
            "['Male' 'Female' nan]\n"
          ]
        }
      ],
      "source": [
        "#check for weird values\n",
        "print(new_df['VicSex'].unique())\n",
        "new_df[\"VicSex\"] = new_df['VicSex'].replace(\"Unknown\", np.nan)\n",
        "print(new_df['VicSex'].unique())"
      ]
    },
    {
      "cell_type": "code",
      "execution_count": 68,
      "metadata": {
        "colab": {
          "base_uri": "https://localhost:8080/"
        },
        "id": "GdZq92U6iS33",
        "outputId": "94339c7d-19a0-4b4b-ad2b-f81011b7b5ff"
      },
      "outputs": [
        {
          "output_type": "stream",
          "name": "stdout",
          "text": [
            "['Male' 'Unknown' 'Female']\n",
            "['Male' nan 'Female']\n"
          ]
        }
      ],
      "source": [
        "#check for weird values\n",
        "print(new_df['OffSex'].unique())\n",
        "new_df[\"OffSex\"] = new_df['OffSex'].replace(\"Unknown\", np.nan)\n",
        "print(new_df['OffSex'].unique())"
      ]
    },
    {
      "cell_type": "code",
      "execution_count": 69,
      "metadata": {
        "colab": {
          "base_uri": "https://localhost:8080/"
        },
        "id": "VS6Y32TAibrZ",
        "outputId": "9e589632-d8d9-439b-cfdd-798952cc5cd1"
      },
      "outputs": [
        {
          "output_type": "stream",
          "name": "stdout",
          "text": [
            "['American Indian or Alaskan Native' 'White' 'Black' 'Asian' 'Unknown'\n",
            " 'Native Hawaiian or Pacific Islander']\n",
            "['American Indian or Alaskan Native' 'White' 'Black' 'Asian' nan\n",
            " 'Native Hawaiian or Pacific Islander']\n"
          ]
        }
      ],
      "source": [
        "#check for weird values\n",
        "print(new_df['VicRace'].unique())\n",
        "new_df[\"VicRace\"] = new_df['VicRace'].replace(\"Unknown\", np.nan)\n",
        "print(new_df['VicRace'].unique())"
      ]
    },
    {
      "cell_type": "code",
      "execution_count": 70,
      "metadata": {
        "colab": {
          "base_uri": "https://localhost:8080/"
        },
        "id": "SQr3qDI2itzF",
        "outputId": "4fd64f32-3d7b-4298-b436-29b81837cf57"
      },
      "outputs": [
        {
          "output_type": "stream",
          "name": "stdout",
          "text": [
            "['Black' 'American Indian or Alaskan Native' 'Unknown' 'White' 'Asian'\n",
            " 'Native Hawaiian or Pacific Islander']\n",
            "['Black' 'American Indian or Alaskan Native' nan 'White' 'Asian'\n",
            " 'Native Hawaiian or Pacific Islander']\n"
          ]
        }
      ],
      "source": [
        "#check for weird values\n",
        "print(new_df['OffRace'].unique())\n",
        "new_df[\"OffRace\"] = new_df['OffRace'].replace(\"Unknown\", np.nan)\n",
        "print(new_df['OffRace'].unique())"
      ]
    },
    {
      "cell_type": "code",
      "execution_count": 71,
      "metadata": {
        "colab": {
          "base_uri": "https://localhost:8080/"
        },
        "id": "yOMI6W85ixpi",
        "outputId": "9d39387e-3fe3-4350-a7e7-54b2f7bd4905"
      },
      "outputs": [
        {
          "output_type": "stream",
          "name": "stdout",
          "text": [
            "['Unknown or not reported' 'Not of Hispanic origin' 'Hispanic origin']\n",
            "[nan 'Not of Hispanic origin' 'Hispanic origin']\n"
          ]
        }
      ],
      "source": [
        "#check for weird values\n",
        "print(new_df['VicEthnic'].unique())\n",
        "new_df[\"VicEthnic\"] = new_df['VicEthnic'].replace(\"Unknown or not reported\", np.nan)\n",
        "print(new_df['VicEthnic'].unique())"
      ]
    },
    {
      "cell_type": "code",
      "execution_count": 72,
      "metadata": {
        "colab": {
          "base_uri": "https://localhost:8080/"
        },
        "id": "wlYdwQmhi6IC",
        "outputId": "21c30512-6c40-47ca-8388-f5127c637a70"
      },
      "outputs": [
        {
          "output_type": "stream",
          "name": "stdout",
          "text": [
            "['Unknown or not reported' 'Not of Hispanic origin' 'Hispanic origin']\n",
            "[nan 'Not of Hispanic origin' 'Hispanic origin']\n"
          ]
        }
      ],
      "source": [
        "#check for weird values\n",
        "print(new_df['OffEthnic'].unique())\n",
        "new_df[\"OffEthnic\"] = new_df['OffEthnic'].replace(\"Unknown or not reported\", np.nan)\n",
        "print(new_df['OffEthnic'].unique())"
      ]
    },
    {
      "cell_type": "code",
      "execution_count": 73,
      "metadata": {
        "colab": {
          "base_uri": "https://localhost:8080/"
        },
        "id": "OV6xPZy1jXZo",
        "outputId": "d8386c19-62f5-4e7a-b5ef-217f4695e1e4"
      },
      "outputs": [
        {
          "output_type": "stream",
          "name": "stdout",
          "text": [
            "['Stranger' 'Acquaintance' 'Relationship not determined' 'Mother'\n",
            " 'Other - known to victim' 'Daughter' 'Wife' 'Ex-husband' 'Son' 'Sister'\n",
            " 'Friend' 'Girlfriend' 'Ex-wife' 'Boyfriend' 'Brother' 'Neighbor'\n",
            " 'Common-law wife' 'Father' 'Homosexual relationship' 'In-law' 'Husband'\n",
            " 'Other family' 'Stepfather' 'Employee' 'Stepson' 'Stepmother'\n",
            " 'Common-law husband' 'Stepdaughter' 'Employer']\n",
            "['Other' 'Friend' nan 'Parents' 'Offspring' 'Romantic Relation' 'Sibling'\n",
            " 'Distant Family' 'Step Family']\n"
          ]
        }
      ],
      "source": [
        "#check for weird values\n",
        "print(new_df['Relationship'].unique())\n",
        "new_df[\"Relationship\"] = new_df['Relationship'].replace([\"Wife\", \"Girlfriend\", \"Boyfriend\", \"Common-law husband\", \"Common-law wife\", \"Homosexual relationship\", \"Ex-husband\", \"Ex-wife\", \"Husband\" ], 'Romantic Relation')\n",
        "new_df[\"Relationship\"] = new_df['Relationship'].replace([\"Son\", \"Daughter\"], 'Offspring')\n",
        "new_df[\"Relationship\"] = new_df['Relationship'].replace([\"Father\", \"Mother\"], 'Parents')\n",
        "new_df[\"Relationship\"] = new_df['Relationship'].replace([\"Stepmother\", \"Stepfather\", \"Stepdaughter\", \"Stepson\"], 'Step Family')\n",
        "new_df[\"Relationship\"] = new_df['Relationship'].replace([\"Brother\", \"Sister\"], 'Sibling')\n",
        "new_df[\"Relationship\"] = new_df['Relationship'].replace([\"Friend\", \"Acquaintance\"], 'Friend')\n",
        "new_df[\"Relationship\"] = new_df['Relationship'].replace([\"Other family\", \"In-law\"], 'Distant Family')\n",
        "new_df[\"Relationship\"] = new_df['Relationship'].replace([\"Stranger\", \"Employer\", \"Neighbor\", \"Other - known to victim\", \"Employee\"], 'Other')\n",
        "new_df[\"Relationship\"] = new_df['Relationship'].replace([\"Relationship not determined\"], np.nan)\n",
        "print(new_df['Relationship'].unique())"
      ]
    },
    {
      "cell_type": "code",
      "execution_count": 74,
      "metadata": {
        "colab": {
          "base_uri": "https://localhost:8080/"
        },
        "id": "P5g4kUdbjo6D",
        "outputId": "a322d03a-83b1-41e1-e3a7-835abba67e9a"
      },
      "outputs": [
        {
          "output_type": "stream",
          "name": "stdout",
          "text": [
            "['Firearm, type not stated' 'Blunt object - hammer, club, etc'\n",
            " 'Knife or cutting instrument' 'Fire' 'Other or type unknown'\n",
            " 'Strangulation - hanging' 'Handgun - pistol, revolver, etc'\n",
            " 'Personal weapons, includes beating' 'Rifle' 'Shotgun'\n",
            " 'Narcotics or drugs, sleeping pills'\n",
            " 'Asphyxiation - includes death by gas' 'Weapon Not Reported' 'Other gun'\n",
            " 'Poison - does not include gas' 'Explosives' 'Drowning'\n",
            " 'Pushed or thrown out window']\n"
          ]
        }
      ],
      "source": [
        "#check for weird values\n",
        "print(new_df['Weapon'].unique())\n",
        "new_df[\"Weapon\"] = new_df['Weapon'].replace([\"Firearm, type not stated\", \"Handgun - pistol, revolver, etc\", \"Other gun\", \"Rifle\", \"Shotgun\"], 'Firearm')\n",
        "new_df[\"Weapon\"] = new_df['Weapon'].replace([\"Personal weapons, includes beating\", \"Blunt object - hammer, club, etc\", \"Pushed or thrown out window\", \"Strangulation - hanging\"], 'Interpersonal Violence')\n",
        "new_df[\"Weapon\"] = new_df['Weapon'].replace([\"Narcotics or drugs, sleeping pills\", \"Poison - does not include gas\"], 'Substance')\n",
        "new_df[\"Weapon\"] = new_df['Weapon'].replace([\"Weapon Not Reported\"], np.nan)\n",
        "new_df[\"Weapon\"] = new_df['Weapon'].replace([\"Other or type unknown\", \"Asphyxiation - includes death by gas\"], \"Other\")"
      ]
    },
    {
      "cell_type": "code",
      "execution_count": 75,
      "metadata": {
        "colab": {
          "base_uri": "https://localhost:8080/"
        },
        "id": "BUAXfr4yPczY",
        "outputId": "316963a2-3eb5-4f85-82d9-16320b93f4e3"
      },
      "outputs": [
        {
          "output_type": "stream",
          "name": "stdout",
          "text": [
            "Rows dropped: 16263\n"
          ]
        }
      ],
      "source": [
        "# Removing any rows that are missing more than 5 values\n",
        "\n",
        "# create drop_df to SAVE only rows with LESS than 5 missing values\n",
        "drop_df = new_df[new_df.isnull().sum(axis=1) <= 5]\n",
        "\n",
        "# Count how many rows were dropped -> new_df length - drop_df length\n",
        "rows_dropped = len(new_df) - len(drop_df)\n",
        "\n",
        "# print how many rows were dropped\n",
        "print(f\"Rows dropped: {rows_dropped}\")"
      ]
    },
    {
      "cell_type": "code",

      ]
    }
  ],
  "metadata": {
    "colab": {
      "provenance": []
    },
    "kernelspec": {
      "display_name": "Python 3",
      "name": "python3"
    },
    "language_info": {
      "codemirror_mode": {
        "name": "ipython",
        "version": 3
      },
      "file_extension": ".py",
      "mimetype": "text/x-python",
      "name": "python",
      "nbconvert_exporter": "python",
      "pygments_lexer": "ipython3",
      "version": "3.12.5"
    }
  },
  "nbformat": 4,
  "nbformat_minor": 0
}