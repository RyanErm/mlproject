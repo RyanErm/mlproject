{
  "nbformat": 4,
  "nbformat_minor": 0,
  "metadata": {
    "colab": {
      "provenance": []
    },
    "kernelspec": {
      "name": "python3",
      "display_name": "Python 3"
    },
    "language_info": {
      "name": "python"
    }
  },
  "cells": [
    {
      "cell_type": "markdown",
      "source": [
        "Questions about the dataset\n",
        "\n",
        "1. What is in your data?\n",
        "\n",
        "Our dataset is about murders throughout the U.S. The dataset spans from 1976 to 2023, but for the purposes of this project we will be focusing on data from after the year 2010. This subset the data to a more manageable range. In the original dataset, there were some columns that were dropped due to them not being relevant, such as the filedata or the MSA. The columns in the current data set are:\n",
        "- State - The state of the Crime.\n",
        "- Agency - The city of the Crime.\n",
        "- Source - Where this data came from (i.e. the FBI)\n",
        "- Solved - Was the case solved?\n",
        "- Year - Year of Crime.\n",
        "- Month - Month of Crime.\n",
        "- Homicide - Type of Crime.\n",
        "- Situation - Situation in which the crime occurred.\n",
        "- VicAge - Age of Victim.\n",
        "- VicSex - Sex of Victim.\n",
        "- VicRace - Race of Victim.\n",
        "- VicEthnic - Ethnicity of Victim.\n",
        "- OffAge - Age of Offender.\n",
        "- OffSex - Sex of Offender.\n",
        "- OffRace - Race of Offender.\n",
        "- OffEthnic - Ethnicity of Offender.\n",
        "- Weapon - Weapon Used.\n",
        "- Relationship - Relationship between Victim and Offender.\n",
        "- Circumstance - Situation of Crime.\n",
        "- VicCount - Amount of Victims.\n",
        "- OffCount - Amount of Offenders.\n",
        "\n",
        "\n",
        "\n",
        "\n",
        "\n",
        "2. How will these data be useful for studying the phenomenon you're interested in?\n",
        "\n",
        "Some general thoughts (need to reword)\n",
        "- Looking at age of a offender based on their location\n",
        "- looking at how covid has affected murder and who is doing the crime and where it is happeneing\n",
        "- looking if certain places are more inclined to use a certain type of weapon.\n",
        "\n",
        "3. What are the challenges you've resolved or expect to face in using them?\n",
        "\n"
      ],
      "metadata": {
        "id": "x8o4A5_-OMwr"
      }
    },
    {
      "cell_type": "code",
      "execution_count": 25,
      "metadata": {
        "id": "FJ8O4GAWH3Aa"
      },
      "outputs": [],
      "source": [
        "import pandas as pd\n",
        "import seaborn as sns\n",
        "import numpy as np"
      ]
    },
    {
      "cell_type": "code",
      "source": [
        "df = pd.read_csv(\"SHR65_23.csv\")"
      ],
      "metadata": {
        "id": "wKHsPxi_ISqW"
      },
      "execution_count": 48,
      "outputs": []
    },
    {
      "cell_type": "code",
      "source": [
        "print(df.columns)"
      ],
      "metadata": {
        "id": "CrdoNM0kPQG6",
        "outputId": "19cb88d2-18f3-4ed0-b62c-f60508954eab",
        "colab": {
          "base_uri": "https://localhost:8080/"
        }
      },
      "execution_count": 5,
      "outputs": [
        {
          "output_type": "stream",
          "name": "stdout",
          "text": [
            "Index(['ID', 'CNTYFIPS', 'Ori', 'State', 'Agency', 'Agentype', 'Source',\n",
            "       'Solved', 'Year', 'Month', 'Incident', 'ActionType', 'Homicide',\n",
            "       'Situation', 'VicAge', 'VicSex', 'VicRace', 'VicEthnic', 'OffAge',\n",
            "       'OffSex', 'OffRace', 'OffEthnic', 'Weapon', 'Relationship',\n",
            "       'Circumstance', 'Subcircum', 'VicCount', 'OffCount', 'FileDate', 'MSA'],\n",
            "      dtype='object')\n"
          ]
        }
      ]
    },
    {
      "cell_type": "code",
      "source": [
        "#subset for columns that are important\n",
        "new_df = df[['State', \"Agency\", \"Source\", \"Solved\", \"Year\", \"Month\", \"Homicide\", \"Situation\", \"VicAge\", \"VicSex\", \"VicRace\", \"VicEthnic\", \"OffAge\", \"OffSex\", \"OffRace\", \"OffEthnic\", \"Weapon\", \"Relationship\", \"Circumstance\", \"VicCount\", \"OffCount\"  ]]\n",
        "new_df"
      ],
      "metadata": {
        "id": "ZxBdKWi8JqfL",
        "outputId": "108a3b19-6c74-481a-d0b2-ca88ecb0ee0d",
        "colab": {
          "base_uri": "https://localhost:8080/",
          "height": 964
        }
      },
      "execution_count": 49,
      "outputs": [
        {
          "output_type": "execute_result",
          "data": {
            "text/plain": [
              "          State             Agency Source Solved  Year   Month  \\\n",
              "0        Alaska          Anchorage    FBI    Yes  1976   March   \n",
              "1        Alaska          Anchorage    FBI    Yes  1976   April   \n",
              "2        Alaska          Anchorage    FBI    Yes  1976    June   \n",
              "3        Alaska          Anchorage    FBI    Yes  1976    June   \n",
              "4        Alaska          Anchorage    FBI    Yes  1976    July   \n",
              "...         ...                ...    ...    ...   ...     ...   \n",
              "894631  Wyoming  Wind River Agency    FBI     No  2018  August   \n",
              "894632  Wyoming  Wind River Agency    FBI    Yes  2019  August   \n",
              "894633  Wyoming  Wind River Agency    FBI    Yes  2023   March   \n",
              "894634  Wyoming  Wind River Agency    FBI    Yes  2023   March   \n",
              "894635  Wyoming  Wind River Agency    FBI    Yes  2023  August   \n",
              "\n",
              "                                     Homicide  \\\n",
              "0       Murder and non-negligent manslaughter   \n",
              "1       Murder and non-negligent manslaughter   \n",
              "2       Murder and non-negligent manslaughter   \n",
              "3       Murder and non-negligent manslaughter   \n",
              "4       Murder and non-negligent manslaughter   \n",
              "...                                       ...   \n",
              "894631  Murder and non-negligent manslaughter   \n",
              "894632  Murder and non-negligent manslaughter   \n",
              "894633  Murder and non-negligent manslaughter   \n",
              "894634  Murder and non-negligent manslaughter   \n",
              "894635  Murder and non-negligent manslaughter   \n",
              "\n",
              "                                Situation  VicAge  VicSex  ...  \\\n",
              "0           Single victim/single offender      48    Male  ...   \n",
              "1           Single victim/single offender      33  Female  ...   \n",
              "2           Single victim/single offender      38    Male  ...   \n",
              "3           Single victim/single offender      41    Male  ...   \n",
              "4           Single victim/single offender      33    Male  ...   \n",
              "...                                   ...     ...     ...  ...   \n",
              "894631  Single victim/unknown offender(s)      29    Male  ...   \n",
              "894632      Single victim/single offender      29    Male  ...   \n",
              "894633      Single victim/single offender      44    Male  ...   \n",
              "894634      Single victim/single offender      37    Male  ...   \n",
              "894635      Single victim/single offender      42    Male  ...   \n",
              "\n",
              "                      VicEthnic OffAge   OffSex  \\\n",
              "0       Unknown or not reported     68     Male   \n",
              "1       Unknown or not reported     44     Male   \n",
              "2       Unknown or not reported     27     Male   \n",
              "3       Unknown or not reported     34     Male   \n",
              "4       Unknown or not reported     37   Female   \n",
              "...                         ...    ...      ...   \n",
              "894631   Not of Hispanic origin    999  Unknown   \n",
              "894632   Not of Hispanic origin     30     Male   \n",
              "894633   Not of Hispanic origin     33     Male   \n",
              "894634   Not of Hispanic origin     29     Male   \n",
              "894635   Not of Hispanic origin     59     Male   \n",
              "\n",
              "                                  OffRace                OffEthnic  \\\n",
              "0                                   Black  Unknown or not reported   \n",
              "1                                   White  Unknown or not reported   \n",
              "2                                   Black  Unknown or not reported   \n",
              "3                                   White  Unknown or not reported   \n",
              "4       American Indian or Alaskan Native  Unknown or not reported   \n",
              "...                                   ...                      ...   \n",
              "894631                            Unknown  Unknown or not reported   \n",
              "894632  American Indian or Alaskan Native   Not of Hispanic origin   \n",
              "894633  American Indian or Alaskan Native   Not of Hispanic origin   \n",
              "894634  American Indian or Alaskan Native   Not of Hispanic origin   \n",
              "894635  American Indian or Alaskan Native   Not of Hispanic origin   \n",
              "\n",
              "                                 Weapon                 Relationship  \\\n",
              "0       Handgun - pistol, revolver, etc  Relationship not determined   \n",
              "1       Handgun - pistol, revolver, etc                   Girlfriend   \n",
              "2       Handgun - pistol, revolver, etc                     Stranger   \n",
              "3       Handgun - pistol, revolver, etc      Other - known to victim   \n",
              "4           Knife or cutting instrument                      Brother   \n",
              "...                                 ...                          ...   \n",
              "894631                          Shotgun      Other - known to victim   \n",
              "894632         Firearm, type not stated                 Acquaintance   \n",
              "894633         Firearm, type not stated      Other - known to victim   \n",
              "894634            Other or type unknown  Relationship not determined   \n",
              "894635  Handgun - pistol, revolver, etc      Other - known to victim   \n",
              "\n",
              "                      Circumstance VicCount  OffCount  \n",
              "0                  Other arguments        0         0  \n",
              "1                  Other arguments        0         0  \n",
              "2                            Other        0         0  \n",
              "3                  Other arguments        0         0  \n",
              "4                  Other arguments        0         0  \n",
              "...                            ...      ...       ...  \n",
              "894631          Narcotic drug laws        0         0  \n",
              "894632                       Other        0         0  \n",
              "894633  Circumstances undetermined        0         0  \n",
              "894634                       Other        0         0  \n",
              "894635             Other arguments        0         0  \n",
              "\n",
              "[894636 rows x 21 columns]"
            ],
            "text/html": [
              "\n",
              "  <div id=\"df-362674fe-ef47-4afd-8a5e-c534eb2ee53b\" class=\"colab-df-container\">\n",
              "    <div>\n",
              "<style scoped>\n",
              "    .dataframe tbody tr th:only-of-type {\n",
              "        vertical-align: middle;\n",
              "    }\n",
              "\n",
              "    .dataframe tbody tr th {\n",
              "        vertical-align: top;\n",
              "    }\n",
              "\n",
              "    .dataframe thead th {\n",
              "        text-align: right;\n",
              "    }\n",
              "</style>\n",
              "<table border=\"1\" class=\"dataframe\">\n",
              "  <thead>\n",
              "    <tr style=\"text-align: right;\">\n",
              "      <th></th>\n",
              "      <th>State</th>\n",
              "      <th>Agency</th>\n",
              "      <th>Source</th>\n",
              "      <th>Solved</th>\n",
              "      <th>Year</th>\n",
              "      <th>Month</th>\n",
              "      <th>Homicide</th>\n",
              "      <th>Situation</th>\n",
              "      <th>VicAge</th>\n",
              "      <th>VicSex</th>\n",
              "      <th>...</th>\n",
              "      <th>VicEthnic</th>\n",
              "      <th>OffAge</th>\n",
              "      <th>OffSex</th>\n",
              "      <th>OffRace</th>\n",
              "      <th>OffEthnic</th>\n",
              "      <th>Weapon</th>\n",
              "      <th>Relationship</th>\n",
              "      <th>Circumstance</th>\n",
              "      <th>VicCount</th>\n",
              "      <th>OffCount</th>\n",
              "    </tr>\n",
              "  </thead>\n",
              "  <tbody>\n",
              "    <tr>\n",
              "      <th>0</th>\n",
              "      <td>Alaska</td>\n",
              "      <td>Anchorage</td>\n",
              "      <td>FBI</td>\n",
              "      <td>Yes</td>\n",
              "      <td>1976</td>\n",
              "      <td>March</td>\n",
              "      <td>Murder and non-negligent manslaughter</td>\n",
              "      <td>Single victim/single offender</td>\n",
              "      <td>48</td>\n",
              "      <td>Male</td>\n",
              "      <td>...</td>\n",
              "      <td>Unknown or not reported</td>\n",
              "      <td>68</td>\n",
              "      <td>Male</td>\n",
              "      <td>Black</td>\n",
              "      <td>Unknown or not reported</td>\n",
              "      <td>Handgun - pistol, revolver, etc</td>\n",
              "      <td>Relationship not determined</td>\n",
              "      <td>Other arguments</td>\n",
              "      <td>0</td>\n",
              "      <td>0</td>\n",
              "    </tr>\n",
              "    <tr>\n",
              "      <th>1</th>\n",
              "      <td>Alaska</td>\n",
              "      <td>Anchorage</td>\n",
              "      <td>FBI</td>\n",
              "      <td>Yes</td>\n",
              "      <td>1976</td>\n",
              "      <td>April</td>\n",
              "      <td>Murder and non-negligent manslaughter</td>\n",
              "      <td>Single victim/single offender</td>\n",
              "      <td>33</td>\n",
              "      <td>Female</td>\n",
              "      <td>...</td>\n",
              "      <td>Unknown or not reported</td>\n",
              "      <td>44</td>\n",
              "      <td>Male</td>\n",
              "      <td>White</td>\n",
              "      <td>Unknown or not reported</td>\n",
              "      <td>Handgun - pistol, revolver, etc</td>\n",
              "      <td>Girlfriend</td>\n",
              "      <td>Other arguments</td>\n",
              "      <td>0</td>\n",
              "      <td>0</td>\n",
              "    </tr>\n",
              "    <tr>\n",
              "      <th>2</th>\n",
              "      <td>Alaska</td>\n",
              "      <td>Anchorage</td>\n",
              "      <td>FBI</td>\n",
              "      <td>Yes</td>\n",
              "      <td>1976</td>\n",
              "      <td>June</td>\n",
              "      <td>Murder and non-negligent manslaughter</td>\n",
              "      <td>Single victim/single offender</td>\n",
              "      <td>38</td>\n",
              "      <td>Male</td>\n",
              "      <td>...</td>\n",
              "      <td>Unknown or not reported</td>\n",
              "      <td>27</td>\n",
              "      <td>Male</td>\n",
              "      <td>Black</td>\n",
              "      <td>Unknown or not reported</td>\n",
              "      <td>Handgun - pistol, revolver, etc</td>\n",
              "      <td>Stranger</td>\n",
              "      <td>Other</td>\n",
              "      <td>0</td>\n",
              "      <td>0</td>\n",
              "    </tr>\n",
              "    <tr>\n",
              "      <th>3</th>\n",
              "      <td>Alaska</td>\n",
              "      <td>Anchorage</td>\n",
              "      <td>FBI</td>\n",
              "      <td>Yes</td>\n",
              "      <td>1976</td>\n",
              "      <td>June</td>\n",
              "      <td>Murder and non-negligent manslaughter</td>\n",
              "      <td>Single victim/single offender</td>\n",
              "      <td>41</td>\n",
              "      <td>Male</td>\n",
              "      <td>...</td>\n",
              "      <td>Unknown or not reported</td>\n",
              "      <td>34</td>\n",
              "      <td>Male</td>\n",
              "      <td>White</td>\n",
              "      <td>Unknown or not reported</td>\n",
              "      <td>Handgun - pistol, revolver, etc</td>\n",
              "      <td>Other - known to victim</td>\n",
              "      <td>Other arguments</td>\n",
              "      <td>0</td>\n",
              "      <td>0</td>\n",
              "    </tr>\n",
              "    <tr>\n",
              "      <th>4</th>\n",
              "      <td>Alaska</td>\n",
              "      <td>Anchorage</td>\n",
              "      <td>FBI</td>\n",
              "      <td>Yes</td>\n",
              "      <td>1976</td>\n",
              "      <td>July</td>\n",
              "      <td>Murder and non-negligent manslaughter</td>\n",
              "      <td>Single victim/single offender</td>\n",
              "      <td>33</td>\n",
              "      <td>Male</td>\n",
              "      <td>...</td>\n",
              "      <td>Unknown or not reported</td>\n",
              "      <td>37</td>\n",
              "      <td>Female</td>\n",
              "      <td>American Indian or Alaskan Native</td>\n",
              "      <td>Unknown or not reported</td>\n",
              "      <td>Knife or cutting instrument</td>\n",
              "      <td>Brother</td>\n",
              "      <td>Other arguments</td>\n",
              "      <td>0</td>\n",
              "      <td>0</td>\n",
              "    </tr>\n",
              "    <tr>\n",
              "      <th>...</th>\n",
              "      <td>...</td>\n",
              "      <td>...</td>\n",
              "      <td>...</td>\n",
              "      <td>...</td>\n",
              "      <td>...</td>\n",
              "      <td>...</td>\n",
              "      <td>...</td>\n",
              "      <td>...</td>\n",
              "      <td>...</td>\n",
              "      <td>...</td>\n",
              "      <td>...</td>\n",
              "      <td>...</td>\n",
              "      <td>...</td>\n",
              "      <td>...</td>\n",
              "      <td>...</td>\n",
              "      <td>...</td>\n",
              "      <td>...</td>\n",
              "      <td>...</td>\n",
              "      <td>...</td>\n",
              "      <td>...</td>\n",
              "      <td>...</td>\n",
              "    </tr>\n",
              "    <tr>\n",
              "      <th>894631</th>\n",
              "      <td>Wyoming</td>\n",
              "      <td>Wind River Agency</td>\n",
              "      <td>FBI</td>\n",
              "      <td>No</td>\n",
              "      <td>2018</td>\n",
              "      <td>August</td>\n",
              "      <td>Murder and non-negligent manslaughter</td>\n",
              "      <td>Single victim/unknown offender(s)</td>\n",
              "      <td>29</td>\n",
              "      <td>Male</td>\n",
              "      <td>...</td>\n",
              "      <td>Not of Hispanic origin</td>\n",
              "      <td>999</td>\n",
              "      <td>Unknown</td>\n",
              "      <td>Unknown</td>\n",
              "      <td>Unknown or not reported</td>\n",
              "      <td>Shotgun</td>\n",
              "      <td>Other - known to victim</td>\n",
              "      <td>Narcotic drug laws</td>\n",
              "      <td>0</td>\n",
              "      <td>0</td>\n",
              "    </tr>\n",
              "    <tr>\n",
              "      <th>894632</th>\n",
              "      <td>Wyoming</td>\n",
              "      <td>Wind River Agency</td>\n",
              "      <td>FBI</td>\n",
              "      <td>Yes</td>\n",
              "      <td>2019</td>\n",
              "      <td>August</td>\n",
              "      <td>Murder and non-negligent manslaughter</td>\n",
              "      <td>Single victim/single offender</td>\n",
              "      <td>29</td>\n",
              "      <td>Male</td>\n",
              "      <td>...</td>\n",
              "      <td>Not of Hispanic origin</td>\n",
              "      <td>30</td>\n",
              "      <td>Male</td>\n",
              "      <td>American Indian or Alaskan Native</td>\n",
              "      <td>Not of Hispanic origin</td>\n",
              "      <td>Firearm, type not stated</td>\n",
              "      <td>Acquaintance</td>\n",
              "      <td>Other</td>\n",
              "      <td>0</td>\n",
              "      <td>0</td>\n",
              "    </tr>\n",
              "    <tr>\n",
              "      <th>894633</th>\n",
              "      <td>Wyoming</td>\n",
              "      <td>Wind River Agency</td>\n",
              "      <td>FBI</td>\n",
              "      <td>Yes</td>\n",
              "      <td>2023</td>\n",
              "      <td>March</td>\n",
              "      <td>Murder and non-negligent manslaughter</td>\n",
              "      <td>Single victim/single offender</td>\n",
              "      <td>44</td>\n",
              "      <td>Male</td>\n",
              "      <td>...</td>\n",
              "      <td>Not of Hispanic origin</td>\n",
              "      <td>33</td>\n",
              "      <td>Male</td>\n",
              "      <td>American Indian or Alaskan Native</td>\n",
              "      <td>Not of Hispanic origin</td>\n",
              "      <td>Firearm, type not stated</td>\n",
              "      <td>Other - known to victim</td>\n",
              "      <td>Circumstances undetermined</td>\n",
              "      <td>0</td>\n",
              "      <td>0</td>\n",
              "    </tr>\n",
              "    <tr>\n",
              "      <th>894634</th>\n",
              "      <td>Wyoming</td>\n",
              "      <td>Wind River Agency</td>\n",
              "      <td>FBI</td>\n",
              "      <td>Yes</td>\n",
              "      <td>2023</td>\n",
              "      <td>March</td>\n",
              "      <td>Murder and non-negligent manslaughter</td>\n",
              "      <td>Single victim/single offender</td>\n",
              "      <td>37</td>\n",
              "      <td>Male</td>\n",
              "      <td>...</td>\n",
              "      <td>Not of Hispanic origin</td>\n",
              "      <td>29</td>\n",
              "      <td>Male</td>\n",
              "      <td>American Indian or Alaskan Native</td>\n",
              "      <td>Not of Hispanic origin</td>\n",
              "      <td>Other or type unknown</td>\n",
              "      <td>Relationship not determined</td>\n",
              "      <td>Other</td>\n",
              "      <td>0</td>\n",
              "      <td>0</td>\n",
              "    </tr>\n",
              "    <tr>\n",
              "      <th>894635</th>\n",
              "      <td>Wyoming</td>\n",
              "      <td>Wind River Agency</td>\n",
              "      <td>FBI</td>\n",
              "      <td>Yes</td>\n",
              "      <td>2023</td>\n",
              "      <td>August</td>\n",
              "      <td>Murder and non-negligent manslaughter</td>\n",
              "      <td>Single victim/single offender</td>\n",
              "      <td>42</td>\n",
              "      <td>Male</td>\n",
              "      <td>...</td>\n",
              "      <td>Not of Hispanic origin</td>\n",
              "      <td>59</td>\n",
              "      <td>Male</td>\n",
              "      <td>American Indian or Alaskan Native</td>\n",
              "      <td>Not of Hispanic origin</td>\n",
              "      <td>Handgun - pistol, revolver, etc</td>\n",
              "      <td>Other - known to victim</td>\n",
              "      <td>Other arguments</td>\n",
              "      <td>0</td>\n",
              "      <td>0</td>\n",
              "    </tr>\n",
              "  </tbody>\n",
              "</table>\n",
              "<p>894636 rows × 21 columns</p>\n",
              "</div>\n",
              "    <div class=\"colab-df-buttons\">\n",
              "\n",
              "  <div class=\"colab-df-container\">\n",
              "    <button class=\"colab-df-convert\" onclick=\"convertToInteractive('df-362674fe-ef47-4afd-8a5e-c534eb2ee53b')\"\n",
              "            title=\"Convert this dataframe to an interactive table.\"\n",
              "            style=\"display:none;\">\n",
              "\n",
              "  <svg xmlns=\"http://www.w3.org/2000/svg\" height=\"24px\" viewBox=\"0 -960 960 960\">\n",
              "    <path d=\"M120-120v-720h720v720H120Zm60-500h600v-160H180v160Zm220 220h160v-160H400v160Zm0 220h160v-160H400v160ZM180-400h160v-160H180v160Zm440 0h160v-160H620v160ZM180-180h160v-160H180v160Zm440 0h160v-160H620v160Z\"/>\n",
              "  </svg>\n",
              "    </button>\n",
              "\n",
              "  <style>\n",
              "    .colab-df-container {\n",
              "      display:flex;\n",
              "      gap: 12px;\n",
              "    }\n",
              "\n",
              "    .colab-df-convert {\n",
              "      background-color: #E8F0FE;\n",
              "      border: none;\n",
              "      border-radius: 50%;\n",
              "      cursor: pointer;\n",
              "      display: none;\n",
              "      fill: #1967D2;\n",
              "      height: 32px;\n",
              "      padding: 0 0 0 0;\n",
              "      width: 32px;\n",
              "    }\n",
              "\n",
              "    .colab-df-convert:hover {\n",
              "      background-color: #E2EBFA;\n",
              "      box-shadow: 0px 1px 2px rgba(60, 64, 67, 0.3), 0px 1px 3px 1px rgba(60, 64, 67, 0.15);\n",
              "      fill: #174EA6;\n",
              "    }\n",
              "\n",
              "    .colab-df-buttons div {\n",
              "      margin-bottom: 4px;\n",
              "    }\n",
              "\n",
              "    [theme=dark] .colab-df-convert {\n",
              "      background-color: #3B4455;\n",
              "      fill: #D2E3FC;\n",
              "    }\n",
              "\n",
              "    [theme=dark] .colab-df-convert:hover {\n",
              "      background-color: #434B5C;\n",
              "      box-shadow: 0px 1px 3px 1px rgba(0, 0, 0, 0.15);\n",
              "      filter: drop-shadow(0px 1px 2px rgba(0, 0, 0, 0.3));\n",
              "      fill: #FFFFFF;\n",
              "    }\n",
              "  </style>\n",
              "\n",
              "    <script>\n",
              "      const buttonEl =\n",
              "        document.querySelector('#df-362674fe-ef47-4afd-8a5e-c534eb2ee53b button.colab-df-convert');\n",
              "      buttonEl.style.display =\n",
              "        google.colab.kernel.accessAllowed ? 'block' : 'none';\n",
              "\n",
              "      async function convertToInteractive(key) {\n",
              "        const element = document.querySelector('#df-362674fe-ef47-4afd-8a5e-c534eb2ee53b');\n",
              "        const dataTable =\n",
              "          await google.colab.kernel.invokeFunction('convertToInteractive',\n",
              "                                                    [key], {});\n",
              "        if (!dataTable) return;\n",
              "\n",
              "        const docLinkHtml = 'Like what you see? Visit the ' +\n",
              "          '<a target=\"_blank\" href=https://colab.research.google.com/notebooks/data_table.ipynb>data table notebook</a>'\n",
              "          + ' to learn more about interactive tables.';\n",
              "        element.innerHTML = '';\n",
              "        dataTable['output_type'] = 'display_data';\n",
              "        await google.colab.output.renderOutput(dataTable, element);\n",
              "        const docLink = document.createElement('div');\n",
              "        docLink.innerHTML = docLinkHtml;\n",
              "        element.appendChild(docLink);\n",
              "      }\n",
              "    </script>\n",
              "  </div>\n",
              "\n",
              "\n",
              "<div id=\"df-d64d2e7e-a577-4ea5-aaf2-06fc424037f9\">\n",
              "  <button class=\"colab-df-quickchart\" onclick=\"quickchart('df-d64d2e7e-a577-4ea5-aaf2-06fc424037f9')\"\n",
              "            title=\"Suggest charts\"\n",
              "            style=\"display:none;\">\n",
              "\n",
              "<svg xmlns=\"http://www.w3.org/2000/svg\" height=\"24px\"viewBox=\"0 0 24 24\"\n",
              "     width=\"24px\">\n",
              "    <g>\n",
              "        <path d=\"M19 3H5c-1.1 0-2 .9-2 2v14c0 1.1.9 2 2 2h14c1.1 0 2-.9 2-2V5c0-1.1-.9-2-2-2zM9 17H7v-7h2v7zm4 0h-2V7h2v10zm4 0h-2v-4h2v4z\"/>\n",
              "    </g>\n",
              "</svg>\n",
              "  </button>\n",
              "\n",
              "<style>\n",
              "  .colab-df-quickchart {\n",
              "      --bg-color: #E8F0FE;\n",
              "      --fill-color: #1967D2;\n",
              "      --hover-bg-color: #E2EBFA;\n",
              "      --hover-fill-color: #174EA6;\n",
              "      --disabled-fill-color: #AAA;\n",
              "      --disabled-bg-color: #DDD;\n",
              "  }\n",
              "\n",
              "  [theme=dark] .colab-df-quickchart {\n",
              "      --bg-color: #3B4455;\n",
              "      --fill-color: #D2E3FC;\n",
              "      --hover-bg-color: #434B5C;\n",
              "      --hover-fill-color: #FFFFFF;\n",
              "      --disabled-bg-color: #3B4455;\n",
              "      --disabled-fill-color: #666;\n",
              "  }\n",
              "\n",
              "  .colab-df-quickchart {\n",
              "    background-color: var(--bg-color);\n",
              "    border: none;\n",
              "    border-radius: 50%;\n",
              "    cursor: pointer;\n",
              "    display: none;\n",
              "    fill: var(--fill-color);\n",
              "    height: 32px;\n",
              "    padding: 0;\n",
              "    width: 32px;\n",
              "  }\n",
              "\n",
              "  .colab-df-quickchart:hover {\n",
              "    background-color: var(--hover-bg-color);\n",
              "    box-shadow: 0 1px 2px rgba(60, 64, 67, 0.3), 0 1px 3px 1px rgba(60, 64, 67, 0.15);\n",
              "    fill: var(--button-hover-fill-color);\n",
              "  }\n",
              "\n",
              "  .colab-df-quickchart-complete:disabled,\n",
              "  .colab-df-quickchart-complete:disabled:hover {\n",
              "    background-color: var(--disabled-bg-color);\n",
              "    fill: var(--disabled-fill-color);\n",
              "    box-shadow: none;\n",
              "  }\n",
              "\n",
              "  .colab-df-spinner {\n",
              "    border: 2px solid var(--fill-color);\n",
              "    border-color: transparent;\n",
              "    border-bottom-color: var(--fill-color);\n",
              "    animation:\n",
              "      spin 1s steps(1) infinite;\n",
              "  }\n",
              "\n",
              "  @keyframes spin {\n",
              "    0% {\n",
              "      border-color: transparent;\n",
              "      border-bottom-color: var(--fill-color);\n",
              "      border-left-color: var(--fill-color);\n",
              "    }\n",
              "    20% {\n",
              "      border-color: transparent;\n",
              "      border-left-color: var(--fill-color);\n",
              "      border-top-color: var(--fill-color);\n",
              "    }\n",
              "    30% {\n",
              "      border-color: transparent;\n",
              "      border-left-color: var(--fill-color);\n",
              "      border-top-color: var(--fill-color);\n",
              "      border-right-color: var(--fill-color);\n",
              "    }\n",
              "    40% {\n",
              "      border-color: transparent;\n",
              "      border-right-color: var(--fill-color);\n",
              "      border-top-color: var(--fill-color);\n",
              "    }\n",
              "    60% {\n",
              "      border-color: transparent;\n",
              "      border-right-color: var(--fill-color);\n",
              "    }\n",
              "    80% {\n",
              "      border-color: transparent;\n",
              "      border-right-color: var(--fill-color);\n",
              "      border-bottom-color: var(--fill-color);\n",
              "    }\n",
              "    90% {\n",
              "      border-color: transparent;\n",
              "      border-bottom-color: var(--fill-color);\n",
              "    }\n",
              "  }\n",
              "</style>\n",
              "\n",
              "  <script>\n",
              "    async function quickchart(key) {\n",
              "      const quickchartButtonEl =\n",
              "        document.querySelector('#' + key + ' button');\n",
              "      quickchartButtonEl.disabled = true;  // To prevent multiple clicks.\n",
              "      quickchartButtonEl.classList.add('colab-df-spinner');\n",
              "      try {\n",
              "        const charts = await google.colab.kernel.invokeFunction(\n",
              "            'suggestCharts', [key], {});\n",
              "      } catch (error) {\n",
              "        console.error('Error during call to suggestCharts:', error);\n",
              "      }\n",
              "      quickchartButtonEl.classList.remove('colab-df-spinner');\n",
              "      quickchartButtonEl.classList.add('colab-df-quickchart-complete');\n",
              "    }\n",
              "    (() => {\n",
              "      let quickchartButtonEl =\n",
              "        document.querySelector('#df-d64d2e7e-a577-4ea5-aaf2-06fc424037f9 button');\n",
              "      quickchartButtonEl.style.display =\n",
              "        google.colab.kernel.accessAllowed ? 'block' : 'none';\n",
              "    })();\n",
              "  </script>\n",
              "</div>\n",
              "\n",
              "  <div id=\"id_69eecd24-c629-4e58-9671-39d5079f15d5\">\n",
              "    <style>\n",
              "      .colab-df-generate {\n",
              "        background-color: #E8F0FE;\n",
              "        border: none;\n",
              "        border-radius: 50%;\n",
              "        cursor: pointer;\n",
              "        display: none;\n",
              "        fill: #1967D2;\n",
              "        height: 32px;\n",
              "        padding: 0 0 0 0;\n",
              "        width: 32px;\n",
              "      }\n",
              "\n",
              "      .colab-df-generate:hover {\n",
              "        background-color: #E2EBFA;\n",
              "        box-shadow: 0px 1px 2px rgba(60, 64, 67, 0.3), 0px 1px 3px 1px rgba(60, 64, 67, 0.15);\n",
              "        fill: #174EA6;\n",
              "      }\n",
              "\n",
              "      [theme=dark] .colab-df-generate {\n",
              "        background-color: #3B4455;\n",
              "        fill: #D2E3FC;\n",
              "      }\n",
              "\n",
              "      [theme=dark] .colab-df-generate:hover {\n",
              "        background-color: #434B5C;\n",
              "        box-shadow: 0px 1px 3px 1px rgba(0, 0, 0, 0.15);\n",
              "        filter: drop-shadow(0px 1px 2px rgba(0, 0, 0, 0.3));\n",
              "        fill: #FFFFFF;\n",
              "      }\n",
              "    </style>\n",
              "    <button class=\"colab-df-generate\" onclick=\"generateWithVariable('new_df')\"\n",
              "            title=\"Generate code using this dataframe.\"\n",
              "            style=\"display:none;\">\n",
              "\n",
              "  <svg xmlns=\"http://www.w3.org/2000/svg\" height=\"24px\"viewBox=\"0 0 24 24\"\n",
              "       width=\"24px\">\n",
              "    <path d=\"M7,19H8.4L18.45,9,17,7.55,7,17.6ZM5,21V16.75L18.45,3.32a2,2,0,0,1,2.83,0l1.4,1.43a1.91,1.91,0,0,1,.58,1.4,1.91,1.91,0,0,1-.58,1.4L9.25,21ZM18.45,9,17,7.55Zm-12,3A5.31,5.31,0,0,0,4.9,8.1,5.31,5.31,0,0,0,1,6.5,5.31,5.31,0,0,0,4.9,4.9,5.31,5.31,0,0,0,6.5,1,5.31,5.31,0,0,0,8.1,4.9,5.31,5.31,0,0,0,12,6.5,5.46,5.46,0,0,0,6.5,12Z\"/>\n",
              "  </svg>\n",
              "    </button>\n",
              "    <script>\n",
              "      (() => {\n",
              "      const buttonEl =\n",
              "        document.querySelector('#id_69eecd24-c629-4e58-9671-39d5079f15d5 button.colab-df-generate');\n",
              "      buttonEl.style.display =\n",
              "        google.colab.kernel.accessAllowed ? 'block' : 'none';\n",
              "\n",
              "      buttonEl.onclick = () => {\n",
              "        google.colab.notebook.generateWithVariable('new_df');\n",
              "      }\n",
              "      })();\n",
              "    </script>\n",
              "  </div>\n",
              "\n",
              "    </div>\n",
              "  </div>\n"
            ],
            "application/vnd.google.colaboratory.intrinsic+json": {
              "type": "dataframe",
              "variable_name": "new_df"
            }
          },
          "metadata": {},
          "execution_count": 49
        }
      ]
    },
    {
      "cell_type": "markdown",
      "source": [
        "Now we can check if there are any missing values"
      ],
      "metadata": {
        "id": "MaJg6sxASz-s"
      }
    },
    {
      "cell_type": "code",
      "source": [
        "#Checking for any missing values in the data\n",
        "\n",
        "for col in new_df.columns:\n",
        "  print(col)\n",
        "  print(new_df[col].isna().sum())"
      ],
      "metadata": {
        "id": "u-VpulpzNjsE",
        "outputId": "614ce0c7-104b-41e4-ae0e-af49587a1a7d",
        "colab": {
          "base_uri": "https://localhost:8080/"
        }
      },
      "execution_count": 42,
      "outputs": [
        {
          "output_type": "stream",
          "name": "stdout",
          "text": [
            "State\n",
            "0\n",
            "Agency\n",
            "0\n",
            "Source\n",
            "0\n",
            "Solved\n",
            "0\n",
            "Year\n",
            "0\n",
            "Month\n",
            "0\n",
            "Homicide\n",
            "1\n",
            "Situation\n",
            "1\n",
            "VicAge\n",
            "1320\n",
            "VicSex\n",
            "382\n",
            "VicRace\n",
            "2280\n",
            "VicEthnic\n",
            "56069\n",
            "OffAge\n",
            "49244\n",
            "OffSex\n",
            "45731\n",
            "OffRace\n",
            "47507\n",
            "OffEthnic\n",
            "88750\n",
            "Weapon\n",
            "1\n",
            "Relationship\n",
            "1\n",
            "Circumstance\n",
            "1\n",
            "VicCount\n",
            "1\n",
            "OffCount\n",
            "1\n"
          ]
        }
      ]
    },
    {
      "cell_type": "markdown",
      "source": [
        "\n",
        "\n",
        "```\n",
        "# This is formatted as code\n",
        "```\n",
        "\n",
        "There are some missing values"
      ],
      "metadata": {
        "id": "11Bj_A68S23A"
      }
    },
    {
      "cell_type": "markdown",
      "source": [
        "Now we can start cleaning our columns\n",
        "The clean columns so far are (DELETE ONCE DONE, just for our reference)\n",
        "- State, Year, Source, Solved, Situation, VicCount, OffCount, VicAge, OffAge, Agency, Month, Homicide, VicSex, OffSex, VicRace, OffRace, VicEthnic, OffEthnic"
      ],
      "metadata": {
        "id": "O-9XwlK4S4wR"
      }
    },
    {
      "cell_type": "code",
      "source": [
        "#subset the data based on year\n",
        "new_df = new_df[new_df['Year']>=2010]\n",
        "#check for weird values\n",
        "print(new_df['Year'].unique())"
      ],
      "metadata": {
        "id": "laODWsnMOCej",
        "outputId": "9a985dc3-6000-44bd-d534-4795de21f25f",
        "colab": {
          "base_uri": "https://localhost:8080/"
        }
      },
      "execution_count": 15,
      "outputs": [
        {
          "output_type": "stream",
          "name": "stdout",
          "text": [
            "[2010 2011 2012 2013 2014 2015 2016 2017 2018 2019 2020 2022 2023 2021]\n"
          ]
        }
      ]
    },
    {
      "cell_type": "code",
      "source": [
        "#check for weird values\n",
        "print(new_df['State'].unique())"
      ],
      "metadata": {
        "id": "7lEUga-VSrMb",
        "outputId": "cf7c1d43-b6dd-4960-a00c-a5e7ffdb53a0",
        "colab": {
          "base_uri": "https://localhost:8080/"
        }
      },
      "execution_count": 16,
      "outputs": [
        {
          "output_type": "stream",
          "name": "stdout",
          "text": [
            "['Alaska' 'Alabama' 'Arkansas' 'Arizona' 'California' 'Colorado'\n",
            " 'Connecticut' 'District of Columbia' 'Delaware' 'Florida' 'Georgia'\n",
            " 'Hawaii' 'Iowa' 'Idaho' 'Illinois' 'Indiana' 'Kansas' 'Kentucky'\n",
            " 'Louisiana' 'Massachusetts' 'Maryland' 'Maine' 'Michigan']\n"
          ]
        }
      ]
    },
    {
      "cell_type": "code",
      "source": [
        "#check for weird values\n",
        "print(new_df['Source'].unique())"
      ],
      "metadata": {
        "id": "2LtRa8PaTDDC",
        "outputId": "6414682d-65cb-4a00-d534-b45c4bb3454e",
        "colab": {
          "base_uri": "https://localhost:8080/"
        }
      },
      "execution_count": 17,
      "outputs": [
        {
          "output_type": "stream",
          "name": "stdout",
          "text": [
            "['FBI' 'MAP']\n"
          ]
        }
      ]
    },
    {
      "cell_type": "code",
      "source": [
        "#check for weird values\n",
        "print(new_df['Solved'].unique())"
      ],
      "metadata": {
        "id": "smgcddc8TSAY",
        "outputId": "94d145c1-dbcf-4291-94bb-ead84a38c957",
        "colab": {
          "base_uri": "https://localhost:8080/"
        }
      },
      "execution_count": 18,
      "outputs": [
        {
          "output_type": "stream",
          "name": "stdout",
          "text": [
            "['No' 'Yes']\n"
          ]
        }
      ]
    },
    {
      "cell_type": "code",
      "source": [
        "#check for weird values\n",
        "print(new_df['Situation'].unique())"
      ],
      "metadata": {
        "id": "90PHbzyoTg72",
        "outputId": "51b3937d-1ac9-481d-c8a0-7d89ac605e7b",
        "colab": {
          "base_uri": "https://localhost:8080/"
        }
      },
      "execution_count": 19,
      "outputs": [
        {
          "output_type": "stream",
          "name": "stdout",
          "text": [
            "['Single victim/unknown offender(s)' 'Single victim/single offender'\n",
            " 'Single victim/multiple offenders' 'Multiple victims/single offender'\n",
            " 'Multiple victims/unknown offender(s)'\n",
            " 'Multiple victims/multiple offenders' nan]\n"
          ]
        }
      ]
    },
    {
      "cell_type": "code",
      "source": [
        "#check for weird values\n",
        "print(new_df['VicCount'].unique())"
      ],
      "metadata": {
        "id": "H__OqXR-Ttv3",
        "outputId": "3e5666f0-34df-4562-a179-5285a2c2ce69",
        "colab": {
          "base_uri": "https://localhost:8080/"
        }
      },
      "execution_count": 20,
      "outputs": [
        {
          "output_type": "stream",
          "name": "stdout",
          "text": [
            "[ 0.  1.  2.  3.  4.  9.  5.  6. 10.  7.  8. 11. nan]\n"
          ]
        }
      ]
    },
    {
      "cell_type": "code",
      "source": [
        "#check for weird values\n",
        "print(new_df['OffCount'].unique())"
      ],
      "metadata": {
        "id": "9JolRTbxT8GR",
        "outputId": "ad1a05ac-7683-4cf2-ddfa-49dad6f323b9",
        "colab": {
          "base_uri": "https://localhost:8080/"
        }
      },
      "execution_count": 21,
      "outputs": [
        {
          "output_type": "stream",
          "name": "stdout",
          "text": [
            "[ 0.  1.  2.  3.  4.  5.  8.  7.  6.  9. 11. 15. 12. 10. 17. 40. 13. nan]\n"
          ]
        }
      ]
    },
    {
      "cell_type": "code",
      "source": [
        "#check for weird values\n",
        "print(new_df['VicAge'].unique())\n",
        "#see the value 999, which is a place holder\n",
        "new_df[\"VicAge\"] = new_df['VicAge'].replace(999, np.nan)\n",
        "print(new_df['VicAge'].unique())"
      ],
      "metadata": {
        "id": "aF_br4zygL1v",
        "outputId": "a5e35164-556d-4950-c149-dfdc2c554be7",
        "colab": {
          "base_uri": "https://localhost:8080/"
        }
      },
      "execution_count": 28,
      "outputs": [
        {
          "output_type": "stream",
          "name": "stdout",
          "text": [
            "[44. 29. 26. 40. 34. 48. 19.  0. 24. 30. 57. 23. 54. 42. 58. 52. 20. 28.\n",
            " 55. 35. 38.  1. 33. 14. 50. 67. 18. 27. 47. 43. 59. 31. 21. 73. 71. 53.\n",
            " 36. 22. 15. 51. 63. 64. 74. 56. 39.  4. 11. 41. 60.  2. 49. 32. 17. 25.\n",
            " 69. 37. 70. 92. 76. 65. 46.  6. 45. 61.  3. 13. 16. 66.  5. 62. 12. 88.\n",
            " 77. 75. 10. nan  7. 68.  8. 81.  9. 72. 80. 79. 78. 83. 90. 86. 85. 89.\n",
            " 82. 84. 91. 99. 87. 95. 94. 93. 96. 97. 98.]\n",
            "[44. 29. 26. 40. 34. 48. 19.  0. 24. 30. 57. 23. 54. 42. 58. 52. 20. 28.\n",
            " 55. 35. 38.  1. 33. 14. 50. 67. 18. 27. 47. 43. 59. 31. 21. 73. 71. 53.\n",
            " 36. 22. 15. 51. 63. 64. 74. 56. 39.  4. 11. 41. 60.  2. 49. 32. 17. 25.\n",
            " 69. 37. 70. 92. 76. 65. 46.  6. 45. 61.  3. 13. 16. 66.  5. 62. 12. 88.\n",
            " 77. 75. 10. nan  7. 68.  8. 81.  9. 72. 80. 79. 78. 83. 90. 86. 85. 89.\n",
            " 82. 84. 91. 99. 87. 95. 94. 93. 96. 97. 98.]\n"
          ]
        },
        {
          "output_type": "stream",
          "name": "stderr",
          "text": [
            "<ipython-input-28-8902a9993ebf>:3: SettingWithCopyWarning: \n",
            "A value is trying to be set on a copy of a slice from a DataFrame.\n",
            "Try using .loc[row_indexer,col_indexer] = value instead\n",
            "\n",
            "See the caveats in the documentation: https://pandas.pydata.org/pandas-docs/stable/user_guide/indexing.html#returning-a-view-versus-a-copy\n",
            "  new_df[\"VicAge\"] = new_df['VicAge'].replace(999, np.nan)\n"
          ]
        }
      ]
    },
    {
      "cell_type": "code",
      "source": [
        "#check for weird values\n",
        "print(new_df['OffAge'].unique())\n",
        "#see the value 999, which is a place holder\n",
        "new_df[\"OffAge\"] = new_df['OffAge'].replace(999, np.nan)\n",
        "print(new_df['OffAge'].unique())"
      ],
      "metadata": {
        "id": "0BmXLfFOhc8u",
        "outputId": "9a36d02a-e027-4266-e6e2-5ae3666cd7ed",
        "colab": {
          "base_uri": "https://localhost:8080/"
        }
      },
      "execution_count": 29,
      "outputs": [
        {
          "output_type": "stream",
          "name": "stdout",
          "text": [
            "[999.  28.  26.  35.  38.  21.  23.  45.  27.  24.  62.  43.  17.  66.\n",
            "  22.  33.  31.  47.  25.  34.  30.  55.  40.  29.  50.  41.  61.  20.\n",
            "  49.  18.  73.  64.  19.  39.  51.  16.  46.  15.  32.  44.  71.  37.\n",
            "  57.  63.  91.  75.  42.  68.  36.  12.  48.  53.  56.  13.  59.  14.\n",
            "  67.   9.   8.  69.   6.  11.  99.  54.  58.  52.   7.  80.  60.  76.\n",
            "  82.  10.   1.  70.  72.  89.  81.  74.  84.  65.  77.  78.  79.   5.\n",
            "  83.  90.  85.  87.  86.  93.  96.  92.  88.   4.  95.  97.   0.   3.\n",
            "  94.  98.   2.  nan]\n",
            "[nan 28. 26. 35. 38. 21. 23. 45. 27. 24. 62. 43. 17. 66. 22. 33. 31. 47.\n",
            " 25. 34. 30. 55. 40. 29. 50. 41. 61. 20. 49. 18. 73. 64. 19. 39. 51. 16.\n",
            " 46. 15. 32. 44. 71. 37. 57. 63. 91. 75. 42. 68. 36. 12. 48. 53. 56. 13.\n",
            " 59. 14. 67.  9.  8. 69.  6. 11. 99. 54. 58. 52.  7. 80. 60. 76. 82. 10.\n",
            "  1. 70. 72. 89. 81. 74. 84. 65. 77. 78. 79.  5. 83. 90. 85. 87. 86. 93.\n",
            " 96. 92. 88.  4. 95. 97.  0.  3. 94. 98.  2.]\n"
          ]
        },
        {
          "output_type": "stream",
          "name": "stderr",
          "text": [
            "<ipython-input-29-73e220225853>:4: SettingWithCopyWarning: \n",
            "A value is trying to be set on a copy of a slice from a DataFrame.\n",
            "Try using .loc[row_indexer,col_indexer] = value instead\n",
            "\n",
            "See the caveats in the documentation: https://pandas.pydata.org/pandas-docs/stable/user_guide/indexing.html#returning-a-view-versus-a-copy\n",
            "  new_df[\"OffAge\"] = new_df['OffAge'].replace(999, np.nan)\n"
          ]
        }
      ]
    },
    {
      "cell_type": "code",
      "source": [
        "#check for weird values\n",
        "print(new_df['Month'].unique())"
      ],
      "metadata": {
        "id": "rE_I6Hrahx_3",
        "outputId": "99c8bba4-fa70-4470-e167-31763862867d",
        "colab": {
          "base_uri": "https://localhost:8080/"
        }
      },
      "execution_count": 30,
      "outputs": [
        {
          "output_type": "stream",
          "name": "stdout",
          "text": [
            "['January' 'February' 'March' 'April' 'May' 'June' 'July' 'August'\n",
            " 'September' 'October' 'December' 'November']\n"
          ]
        }
      ]
    },
    {
      "cell_type": "code",
      "source": [
        "#check for weird values\n",
        "print(new_df['Homicide'].unique())"
      ],
      "metadata": {
        "id": "6igwEeLSh8uR",
        "outputId": "6016b20b-27ab-4145-b5f5-37be86fc0f83",
        "colab": {
          "base_uri": "https://localhost:8080/"
        }
      },
      "execution_count": 31,
      "outputs": [
        {
          "output_type": "stream",
          "name": "stdout",
          "text": [
            "['Murder and non-negligent manslaughter' 'Manslaughter by negligence' nan]\n"
          ]
        }
      ]
    },
    {
      "cell_type": "code",
      "source": [
        "#check for weird values\n",
        "print(new_df['VicSex'].unique())\n",
        "new_df[\"VicSex\"] = new_df['VicSex'].replace(\"Unknown\", np.nan)\n",
        "print(new_df['VicSex'].unique())"
      ],
      "metadata": {
        "id": "TdXDooaZiIUW",
        "outputId": "2445a927-0acb-4ff3-aa8d-7fc166e878b7",
        "colab": {
          "base_uri": "https://localhost:8080/"
        }
      },
      "execution_count": 33,
      "outputs": [
        {
          "output_type": "stream",
          "name": "stdout",
          "text": [
            "['Male' 'Female' 'Unknown' nan]\n",
            "['Male' 'Female' nan]\n"
          ]
        },
        {
          "output_type": "stream",
          "name": "stderr",
          "text": [
            "<ipython-input-33-733e1e290131>:3: SettingWithCopyWarning: \n",
            "A value is trying to be set on a copy of a slice from a DataFrame.\n",
            "Try using .loc[row_indexer,col_indexer] = value instead\n",
            "\n",
            "See the caveats in the documentation: https://pandas.pydata.org/pandas-docs/stable/user_guide/indexing.html#returning-a-view-versus-a-copy\n",
            "  new_df[\"VicSex\"] = new_df['VicSex'].replace(\"Unknown\", np.nan)\n"
          ]
        }
      ]
    },
    {
      "cell_type": "code",
      "source": [
        "#check for weird values\n",
        "print(new_df['OffSex'].unique())\n",
        "new_df[\"OffSex\"] = new_df['OffSex'].replace(\"Unknown\", np.nan)\n",
        "print(new_df['OffSex'].unique())"
      ],
      "metadata": {
        "id": "GdZq92U6iS33",
        "outputId": "53666ca3-dbb8-4be4-bebb-34aad2269767",
        "colab": {
          "base_uri": "https://localhost:8080/"
        }
      },
      "execution_count": 35,
      "outputs": [
        {
          "output_type": "stream",
          "name": "stdout",
          "text": [
            "['Unknown' 'Male' 'Female' nan]\n",
            "[nan 'Male' 'Female']\n"
          ]
        },
        {
          "output_type": "stream",
          "name": "stderr",
          "text": [
            "<ipython-input-35-199f251c06c1>:3: SettingWithCopyWarning: \n",
            "A value is trying to be set on a copy of a slice from a DataFrame.\n",
            "Try using .loc[row_indexer,col_indexer] = value instead\n",
            "\n",
            "See the caveats in the documentation: https://pandas.pydata.org/pandas-docs/stable/user_guide/indexing.html#returning-a-view-versus-a-copy\n",
            "  new_df[\"OffSex\"] = new_df['OffSex'].replace(\"Unknown\", np.nan)\n"
          ]
        }
      ]
    },
    {
      "cell_type": "code",
      "source": [
        "#check for weird values\n",
        "print(new_df['VicRace'].unique())\n",
        "new_df[\"VicRace\"] = new_df['VicRace'].replace(\"Unknown\", np.nan)\n",
        "print(new_df['VicRace'].unique())"
      ],
      "metadata": {
        "id": "VS6Y32TAibrZ",
        "outputId": "bd5a984d-a34b-4885-a6c1-d312f695818a",
        "colab": {
          "base_uri": "https://localhost:8080/"
        }
      },
      "execution_count": 36,
      "outputs": [
        {
          "output_type": "stream",
          "name": "stdout",
          "text": [
            "['White' 'Black' 'Asian' 'American Indian or Alaskan Native' 'Unknown'\n",
            " 'Native Hawaiian or Pacific Islander' nan]\n",
            "['White' 'Black' 'Asian' 'American Indian or Alaskan Native' nan\n",
            " 'Native Hawaiian or Pacific Islander']\n"
          ]
        },
        {
          "output_type": "stream",
          "name": "stderr",
          "text": [
            "<ipython-input-36-635bdbcd262c>:3: SettingWithCopyWarning: \n",
            "A value is trying to be set on a copy of a slice from a DataFrame.\n",
            "Try using .loc[row_indexer,col_indexer] = value instead\n",
            "\n",
            "See the caveats in the documentation: https://pandas.pydata.org/pandas-docs/stable/user_guide/indexing.html#returning-a-view-versus-a-copy\n",
            "  new_df[\"VicRace\"] = new_df['VicRace'].replace(\"Unknown\", np.nan)\n"
          ]
        }
      ]
    },
    {
      "cell_type": "code",
      "source": [
        "#check for weird values\n",
        "print(new_df['OffRace'].unique())\n",
        "new_df[\"OffRace\"] = new_df['OffRace'].replace(\"Unknown\", np.nan)\n",
        "print(new_df['OffRace'].unique())"
      ],
      "metadata": {
        "id": "SQr3qDI2itzF",
        "outputId": "a108446a-cdf7-4245-a7da-896cf0e5efac",
        "colab": {
          "base_uri": "https://localhost:8080/"
        }
      },
      "execution_count": 37,
      "outputs": [
        {
          "output_type": "stream",
          "name": "stdout",
          "text": [
            "['Unknown' 'Black' 'White' 'Asian' 'American Indian or Alaskan Native'\n",
            " 'Native Hawaiian or Pacific Islander' nan]\n",
            "[nan 'Black' 'White' 'Asian' 'American Indian or Alaskan Native'\n",
            " 'Native Hawaiian or Pacific Islander']\n"
          ]
        },
        {
          "output_type": "stream",
          "name": "stderr",
          "text": [
            "<ipython-input-37-58075c07cf0b>:3: SettingWithCopyWarning: \n",
            "A value is trying to be set on a copy of a slice from a DataFrame.\n",
            "Try using .loc[row_indexer,col_indexer] = value instead\n",
            "\n",
            "See the caveats in the documentation: https://pandas.pydata.org/pandas-docs/stable/user_guide/indexing.html#returning-a-view-versus-a-copy\n",
            "  new_df[\"OffRace\"] = new_df['OffRace'].replace(\"Unknown\", np.nan)\n"
          ]
        }
      ]
    },
    {
      "cell_type": "code",
      "source": [
        "#check for weird values\n",
        "print(new_df['VicEthnic'].unique())\n",
        "new_df[\"VicEthnic\"] = new_df['VicEthnic'].replace(\"Unknown or not reported\", np.nan)\n",
        "print(new_df['VicEthnic'].unique())"
      ],
      "metadata": {
        "id": "yOMI6W85ixpi",
        "outputId": "091c43ba-41da-4bbb-a87e-0f69b10dd6a4",
        "colab": {
          "base_uri": "https://localhost:8080/"
        }
      },
      "execution_count": 39,
      "outputs": [
        {
          "output_type": "stream",
          "name": "stdout",
          "text": [
            "['Unknown or not reported' 'Not of Hispanic origin' 'Hispanic origin' nan]\n",
            "[nan 'Not of Hispanic origin' 'Hispanic origin']\n"
          ]
        },
        {
          "output_type": "stream",
          "name": "stderr",
          "text": [
            "<ipython-input-39-89f2e6e5db58>:3: SettingWithCopyWarning: \n",
            "A value is trying to be set on a copy of a slice from a DataFrame.\n",
            "Try using .loc[row_indexer,col_indexer] = value instead\n",
            "\n",
            "See the caveats in the documentation: https://pandas.pydata.org/pandas-docs/stable/user_guide/indexing.html#returning-a-view-versus-a-copy\n",
            "  new_df[\"VicEthnic\"] = new_df['VicEthnic'].replace(\"Unknown or not reported\", np.nan)\n"
          ]
        }
      ]
    },
    {
      "cell_type": "code",
      "source": [
        "#check for weird values\n",
        "print(new_df['OffEthnic'].unique())\n",
        "new_df[\"OffEthnic\"] = new_df['OffEthnic'].replace(\"Unknown or not reported\", np.nan)\n",
        "print(new_df['OffEthnic'].unique())"
      ],
      "metadata": {
        "id": "wlYdwQmhi6IC",
        "outputId": "6bf1e77a-9917-4de6-90a6-90ed2c0aa1e9",
        "colab": {
          "base_uri": "https://localhost:8080/"
        }
      },
      "execution_count": 40,
      "outputs": [
        {
          "output_type": "stream",
          "name": "stdout",
          "text": [
            "['Unknown or not reported' 'Not of Hispanic origin' 'Hispanic origin' nan]\n",
            "[nan 'Not of Hispanic origin' 'Hispanic origin']\n"
          ]
        },
        {
          "output_type": "stream",
          "name": "stderr",
          "text": [
            "<ipython-input-40-c057bd9f3bca>:3: SettingWithCopyWarning: \n",
            "A value is trying to be set on a copy of a slice from a DataFrame.\n",
            "Try using .loc[row_indexer,col_indexer] = value instead\n",
            "\n",
            "See the caveats in the documentation: https://pandas.pydata.org/pandas-docs/stable/user_guide/indexing.html#returning-a-view-versus-a-copy\n",
            "  new_df[\"OffEthnic\"] = new_df['OffEthnic'].replace(\"Unknown or not reported\", np.nan)\n"
          ]
        }
      ]
    },
    {
      "cell_type": "code",
      "source": [
        "#check for weird values\n",
        "print(new_df['Relationship'].unique())\n",
        "new_df[\"Relationship\"] = new_df['Relationship'].replace([\"Wife\", \"Girlfriend\", \"Boyfriend\", \"Common-law husband\", \"Common-law wife\", \"Homosexual relationship\", \"Ex-husband\", \"Ex-wife\" ], 'Romantic Relation')\n",
        "new_df[\"Relationship\"] = new_df['Relationship'].replace([\"Son\", \"Daughter\", \"Stepdaughter\", \"Stepson\"], 'Offspring')\n",
        "new_df[\"Relationship\"] = new_df['Relationship'].replace([\"Father\", \"Mother\", \"Stepmother\", \"Stepfather\"], 'Parents')\n",
        "new_df[\"Relationship\"] = new_df['Relationship'].replace([\"Brother\", \"Sister\"], 'Sibling')\n",
        "print(new_df['Relationship'].unique())"
      ],
      "metadata": {
        "id": "OV6xPZy1jXZo",
        "outputId": "67899f15-3d6f-4c8c-c155-941f483716d5",
        "colab": {
          "base_uri": "https://localhost:8080/"
        }
      },
      "execution_count": 55,
      "outputs": [
        {
          "output_type": "stream",
          "name": "stdout",
          "text": [
            "['Relationship not determined' 'Romantic Relation' 'Stranger'\n",
            " 'Other - known to victim' 'Sibling' 'Acquaintance' 'Parents'\n",
            " 'Other family' 'Friend' 'Child ' 'Husband' 'Ex-husband' 'Ex-wife'\n",
            " 'Neighbor' 'Employer' 'In-law' 'Employee']\n"
          ]
        },
        {
          "output_type": "stream",
          "name": "stderr",
          "text": [
            "<ipython-input-55-190b49f2fd2e>:3: SettingWithCopyWarning: \n",
            "A value is trying to be set on a copy of a slice from a DataFrame.\n",
            "Try using .loc[row_indexer,col_indexer] = value instead\n",
            "\n",
            "See the caveats in the documentation: https://pandas.pydata.org/pandas-docs/stable/user_guide/indexing.html#returning-a-view-versus-a-copy\n",
            "  new_df[\"Relationship\"] = new_df['Relationship'].replace([\"Wife\", \"Girlfriend\", \"Boyfriend\", \"Common-law husband\", \"Common-law wife\", \"Homosexual relationship\", \"Ex-husband\", \"Ex-wife\" ], 'Romantic Relation')\n",
            "<ipython-input-55-190b49f2fd2e>:4: SettingWithCopyWarning: \n",
            "A value is trying to be set on a copy of a slice from a DataFrame.\n",
            "Try using .loc[row_indexer,col_indexer] = value instead\n",
            "\n",
            "See the caveats in the documentation: https://pandas.pydata.org/pandas-docs/stable/user_guide/indexing.html#returning-a-view-versus-a-copy\n",
            "  new_df[\"Relationship\"] = new_df['Relationship'].replace([\"Son\", \"Daughter\", \"Stepdaughter\", \"Stepson\"], 'Offspring')\n"
          ]
        },
        {
          "output_type": "stream",
          "name": "stdout",
          "text": [
            "['Relationship not determined' 'Romantic Relation' 'Stranger'\n",
            " 'Other - known to victim' 'Sibling' 'Acquaintance' 'Parents'\n",
            " 'Other family' 'Friend' 'Child ' 'Husband' 'Neighbor' 'Employer' 'In-law'\n",
            " 'Employee']\n"
          ]
        },
        {
          "output_type": "stream",
          "name": "stderr",
          "text": [
            "<ipython-input-55-190b49f2fd2e>:5: SettingWithCopyWarning: \n",
            "A value is trying to be set on a copy of a slice from a DataFrame.\n",
            "Try using .loc[row_indexer,col_indexer] = value instead\n",
            "\n",
            "See the caveats in the documentation: https://pandas.pydata.org/pandas-docs/stable/user_guide/indexing.html#returning-a-view-versus-a-copy\n",
            "  new_df[\"Relationship\"] = new_df['Relationship'].replace([\"Father\", \"Mother\", \"Stepmother\", \"Stepfather\"], 'Parents')\n",
            "<ipython-input-55-190b49f2fd2e>:6: SettingWithCopyWarning: \n",
            "A value is trying to be set on a copy of a slice from a DataFrame.\n",
            "Try using .loc[row_indexer,col_indexer] = value instead\n",
            "\n",
            "See the caveats in the documentation: https://pandas.pydata.org/pandas-docs/stable/user_guide/indexing.html#returning-a-view-versus-a-copy\n",
            "  new_df[\"Relationship\"] = new_df['Relationship'].replace([\"Brother\", \"Sister\"], 'Sibling')\n"
          ]
        }
      ]
    },
    {
      "cell_type": "code",
      "source": [],
      "metadata": {
        "id": "P5g4kUdbjo6D"
      },
      "execution_count": null,
      "outputs": []
    }
  ]
}