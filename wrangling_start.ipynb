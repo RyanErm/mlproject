{
  "cells": [
    {
      "cell_type": "markdown",
      "metadata": {
        "id": "x8o4A5_-OMwr"
      },
      "source": [
        "Questions about the dataset\n",
        "\n",
        "1. What is in your data?\n",
        "\n",
        "Our dataset is about murders throughout the U.S. The dataset spans from 1976 to 2023, but for the purposes of this project we will be focusing on data from after the year 2010. This subset the data to a more manageable range. In the original dataset, there were some columns that were dropped due to them not being relevant, such as the filedata or the MSA. The columns in the current data set are:\n",
        "- State - The state of the Crime.\n",
        "- Agency - The city of the Crime.\n",
        "- Source - Where this data came from (i.e. the FBI)\n",
        "- Solved - Was the case solved?\n",
        "- Year - Year of Crime.\n",
        "- Month - Month of Crime.\n",
        "- Homicide - Type of Crime.\n",
        "- Situation - Situation in which the crime occurred.\n",
        "- VicAge - Age of Victim.\n",
        "- VicSex - Sex of Victim.\n",
        "- VicRace - Race of Victim.\n",
        "- VicEthnic - Ethnicity of Victim.\n",
        "- OffAge - Age of Offender.\n",
        "- OffSex - Sex of Offender.\n",
        "- OffRace - Race of Offender.\n",
        "- OffEthnic - Ethnicity of Offender.\n",
        "- Weapon - Weapon Used.\n",
        "- Relationship - Relationship between Victim and Offender.\n",
        "- VicCount - Amount of Victims.\n",
        "- OffCount - Amount of Offenders.\n",
        "\n",
        "\n",
        "\n",
        "\n",
        "\n",
        "2. How will these data be useful for studying the phenomenon you're interested in?\n",
        "\n",
        "\n",
        "\n",
        "Some trends we can use the data to analyze include age of offender based on location, how COVID years have affected crime rates (including who’s doing the crime and where it’s happening), if certain places are more inclined to use a certain type of weapon states with highest crime frequencies, season with highest crime rates and which months, whether or not crime rates have decreased since the start of data gathering, most common types of relationships that incite violence, etc. Many questions can be explored using this dataset.\n",
        "\n",
        "3. What are the challenges you've resolved or expect to face in using them?\n",
        "\n",
        "\n",
        "There are a lot of missing values or placeholder values that would interfere with analysis, so cleaning those and converting values into integers if needed will be a longer process. If an observation has 4+ missing values, it will be dropped. If a column has 20%+ entries missing, it will be removed. Additionally, if it's decided to replace data with means, medians, a range, common values, or simply leave them as unknowns, then we will need to determine what they are first before deciding further action. At the same time, categories like offender race shouldn't be assumed. Missing values will make it hard to tell if there were any preventive or safety measures put in place, and whether or not they have helped at all. So far, similar inputs are grouped like firearms, but more complex relations could be kept separate depending on the specific question to answer.\n",
        "The possible are all listed from the tables after replacing unknown values and grouping other entries together.\n",
        "\n"
      ]
    },
    {
      "cell_type": "code",
      "execution_count": 27,
      "metadata": {
        "id": "FJ8O4GAWH3Aa"
      },
      "outputs": [],
      "source": [
        "import pandas as pd\n",
        "import seaborn as sns\n",
        "import numpy as np\n",
        "\n",
        "# ignore warnings about \"Setting with copy\" and keep all others\n",
        "import warnings\n",
        "warnings.simplefilter(action=\"ignore\", category=pd.errors.SettingWithCopyWarning)"
      ]
    },
    {
      "cell_type": "code",
      "execution_count": 28,
      "metadata": {
        "id": "wKHsPxi_ISqW"
      },
      "outputs": [],
      "source": [
        "df = pd.read_csv(\"SHR65_23.csv\")"
      ]
    },
    {
      "cell_type": "code",
      "execution_count": 29,
      "metadata": {
        "colab": {
          "base_uri": "https://localhost:8080/"
        },
        "id": "CrdoNM0kPQG6",
        "outputId": "6117d604-3c54-4b0e-9e06-c48a5c273372"
      },
      "outputs": [
        {
          "output_type": "stream",
          "name": "stdout",
          "text": [
            "Index(['ID', 'CNTYFIPS', 'Ori', 'State', 'Agency', 'Agentype', 'Source',\n",
            "       'Solved', 'Year', 'Month', 'Incident', 'ActionType', 'Homicide',\n",
            "       'Situation', 'VicAge', 'VicSex', 'VicRace', 'VicEthnic', 'OffAge',\n",
            "       'OffSex', 'OffRace', 'OffEthnic', 'Weapon', 'Relationship',\n",
            "       'Circumstance', 'Subcircum', 'VicCount', 'OffCount', 'FileDate', 'MSA'],\n",
            "      dtype='object')\n"
          ]
        }
      ],
      "source": [
        "print(df.columns)"
      ]
    },
    {
      "cell_type": "code",
      "execution_count": 30,
      "metadata": {
        "colab": {
          "base_uri": "https://localhost:8080/",
          "height": 964
        },
        "id": "ZxBdKWi8JqfL",
        "outputId": "6bfd83cf-4252-41a9-9b75-d66f6d8f127d"
      },
      "outputs": [
        {
          "output_type": "execute_result",
          "data": {
            "text/plain": [
              "          State             Agency Source Solved  Year   Month  \\\n",
              "0        Alaska          Anchorage    FBI    Yes  1976   March   \n",
              "1        Alaska          Anchorage    FBI    Yes  1976   April   \n",
              "2        Alaska          Anchorage    FBI    Yes  1976    June   \n",
              "3        Alaska          Anchorage    FBI    Yes  1976    June   \n",
              "4        Alaska          Anchorage    FBI    Yes  1976    July   \n",
              "...         ...                ...    ...    ...   ...     ...   \n",
              "894631  Wyoming  Wind River Agency    FBI     No  2018  August   \n",
              "894632  Wyoming  Wind River Agency    FBI    Yes  2019  August   \n",
              "894633  Wyoming  Wind River Agency    FBI    Yes  2023   March   \n",
              "894634  Wyoming  Wind River Agency    FBI    Yes  2023   March   \n",
              "894635  Wyoming  Wind River Agency    FBI    Yes  2023  August   \n",
              "\n",
              "                                     Homicide  \\\n",
              "0       Murder and non-negligent manslaughter   \n",
              "1       Murder and non-negligent manslaughter   \n",
              "2       Murder and non-negligent manslaughter   \n",
              "3       Murder and non-negligent manslaughter   \n",
              "4       Murder and non-negligent manslaughter   \n",
              "...                                       ...   \n",
              "894631  Murder and non-negligent manslaughter   \n",
              "894632  Murder and non-negligent manslaughter   \n",
              "894633  Murder and non-negligent manslaughter   \n",
              "894634  Murder and non-negligent manslaughter   \n",
              "894635  Murder and non-negligent manslaughter   \n",
              "\n",
              "                                Situation  VicAge  VicSex  \\\n",
              "0           Single victim/single offender      48    Male   \n",
              "1           Single victim/single offender      33  Female   \n",
              "2           Single victim/single offender      38    Male   \n",
              "3           Single victim/single offender      41    Male   \n",
              "4           Single victim/single offender      33    Male   \n",
              "...                                   ...     ...     ...   \n",
              "894631  Single victim/unknown offender(s)      29    Male   \n",
              "894632      Single victim/single offender      29    Male   \n",
              "894633      Single victim/single offender      44    Male   \n",
              "894634      Single victim/single offender      37    Male   \n",
              "894635      Single victim/single offender      42    Male   \n",
              "\n",
              "                                  VicRace                VicEthnic  OffAge  \\\n",
              "0                                 Unknown  Unknown or not reported      68   \n",
              "1                                   White  Unknown or not reported      44   \n",
              "2                                   White  Unknown or not reported      27   \n",
              "3                                   White  Unknown or not reported      34   \n",
              "4       American Indian or Alaskan Native  Unknown or not reported      37   \n",
              "...                                   ...                      ...     ...   \n",
              "894631  American Indian or Alaskan Native   Not of Hispanic origin     999   \n",
              "894632  American Indian or Alaskan Native   Not of Hispanic origin      30   \n",
              "894633  American Indian or Alaskan Native   Not of Hispanic origin      33   \n",
              "894634  American Indian or Alaskan Native   Not of Hispanic origin      29   \n",
              "894635  American Indian or Alaskan Native   Not of Hispanic origin      59   \n",
              "\n",
              "         OffSex                            OffRace                OffEthnic  \\\n",
              "0          Male                              Black  Unknown or not reported   \n",
              "1          Male                              White  Unknown or not reported   \n",
              "2          Male                              Black  Unknown or not reported   \n",
              "3          Male                              White  Unknown or not reported   \n",
              "4        Female  American Indian or Alaskan Native  Unknown or not reported   \n",
              "...         ...                                ...                      ...   \n",
              "894631  Unknown                            Unknown  Unknown or not reported   \n",
              "894632     Male  American Indian or Alaskan Native   Not of Hispanic origin   \n",
              "894633     Male  American Indian or Alaskan Native   Not of Hispanic origin   \n",
              "894634     Male  American Indian or Alaskan Native   Not of Hispanic origin   \n",
              "894635     Male  American Indian or Alaskan Native   Not of Hispanic origin   \n",
              "\n",
              "                                 Weapon                 Relationship  \\\n",
              "0       Handgun - pistol, revolver, etc  Relationship not determined   \n",
              "1       Handgun - pistol, revolver, etc                   Girlfriend   \n",
              "2       Handgun - pistol, revolver, etc                     Stranger   \n",
              "3       Handgun - pistol, revolver, etc      Other - known to victim   \n",
              "4           Knife or cutting instrument                      Brother   \n",
              "...                                 ...                          ...   \n",
              "894631                          Shotgun      Other - known to victim   \n",
              "894632         Firearm, type not stated                 Acquaintance   \n",
              "894633         Firearm, type not stated      Other - known to victim   \n",
              "894634            Other or type unknown  Relationship not determined   \n",
              "894635  Handgun - pistol, revolver, etc      Other - known to victim   \n",
              "\n",
              "        VicCount  OffCount  \n",
              "0              0         0  \n",
              "1              0         0  \n",
              "2              0         0  \n",
              "3              0         0  \n",
              "4              0         0  \n",
              "...          ...       ...  \n",
              "894631         0         0  \n",
              "894632         0         0  \n",
              "894633         0         0  \n",
              "894634         0         0  \n",
              "894635         0         0  \n",
              "\n",
              "[894636 rows x 20 columns]"
            ],
            "text/html": [
              "\n",
              "  <div id=\"df-4add9e0d-5123-4a5c-ac30-fae8654c0f56\" class=\"colab-df-container\">\n",
              "    <div>\n",
              "<style scoped>\n",
              "    .dataframe tbody tr th:only-of-type {\n",
              "        vertical-align: middle;\n",
              "    }\n",
              "\n",
              "    .dataframe tbody tr th {\n",
              "        vertical-align: top;\n",
              "    }\n",
              "\n",
              "    .dataframe thead th {\n",
              "        text-align: right;\n",
              "    }\n",
              "</style>\n",
              "<table border=\"1\" class=\"dataframe\">\n",
              "  <thead>\n",
              "    <tr style=\"text-align: right;\">\n",
              "      <th></th>\n",
              "      <th>State</th>\n",
              "      <th>Agency</th>\n",
              "      <th>Source</th>\n",
              "      <th>Solved</th>\n",
              "      <th>Year</th>\n",
              "      <th>Month</th>\n",
              "      <th>Homicide</th>\n",
              "      <th>Situation</th>\n",
              "      <th>VicAge</th>\n",
              "      <th>VicSex</th>\n",
              "      <th>VicRace</th>\n",
              "      <th>VicEthnic</th>\n",
              "      <th>OffAge</th>\n",
              "      <th>OffSex</th>\n",
              "      <th>OffRace</th>\n",
              "      <th>OffEthnic</th>\n",
              "      <th>Weapon</th>\n",
              "      <th>Relationship</th>\n",
              "      <th>VicCount</th>\n",
              "      <th>OffCount</th>\n",
              "    </tr>\n",
              "  </thead>\n",
              "  <tbody>\n",
              "    <tr>\n",
              "      <th>0</th>\n",
              "      <td>Alaska</td>\n",
              "      <td>Anchorage</td>\n",
              "      <td>FBI</td>\n",
              "      <td>Yes</td>\n",
              "      <td>1976</td>\n",
              "      <td>March</td>\n",
              "      <td>Murder and non-negligent manslaughter</td>\n",
              "      <td>Single victim/single offender</td>\n",
              "      <td>48</td>\n",
              "      <td>Male</td>\n",
              "      <td>Unknown</td>\n",
              "      <td>Unknown or not reported</td>\n",
              "      <td>68</td>\n",
              "      <td>Male</td>\n",
              "      <td>Black</td>\n",
              "      <td>Unknown or not reported</td>\n",
              "      <td>Handgun - pistol, revolver, etc</td>\n",
              "      <td>Relationship not determined</td>\n",
              "      <td>0</td>\n",
              "      <td>0</td>\n",
              "    </tr>\n",
              "    <tr>\n",
              "      <th>1</th>\n",
              "      <td>Alaska</td>\n",
              "      <td>Anchorage</td>\n",
              "      <td>FBI</td>\n",
              "      <td>Yes</td>\n",
              "      <td>1976</td>\n",
              "      <td>April</td>\n",
              "      <td>Murder and non-negligent manslaughter</td>\n",
              "      <td>Single victim/single offender</td>\n",
              "      <td>33</td>\n",
              "      <td>Female</td>\n",
              "      <td>White</td>\n",
              "      <td>Unknown or not reported</td>\n",
              "      <td>44</td>\n",
              "      <td>Male</td>\n",
              "      <td>White</td>\n",
              "      <td>Unknown or not reported</td>\n",
              "      <td>Handgun - pistol, revolver, etc</td>\n",
              "      <td>Girlfriend</td>\n",
              "      <td>0</td>\n",
              "      <td>0</td>\n",
              "    </tr>\n",
              "    <tr>\n",
              "      <th>2</th>\n",
              "      <td>Alaska</td>\n",
              "      <td>Anchorage</td>\n",
              "      <td>FBI</td>\n",
              "      <td>Yes</td>\n",
              "      <td>1976</td>\n",
              "      <td>June</td>\n",
              "      <td>Murder and non-negligent manslaughter</td>\n",
              "      <td>Single victim/single offender</td>\n",
              "      <td>38</td>\n",
              "      <td>Male</td>\n",
              "      <td>White</td>\n",
              "      <td>Unknown or not reported</td>\n",
              "      <td>27</td>\n",
              "      <td>Male</td>\n",
              "      <td>Black</td>\n",
              "      <td>Unknown or not reported</td>\n",
              "      <td>Handgun - pistol, revolver, etc</td>\n",
              "      <td>Stranger</td>\n",
              "      <td>0</td>\n",
              "      <td>0</td>\n",
              "    </tr>\n",
              "    <tr>\n",
              "      <th>3</th>\n",
              "      <td>Alaska</td>\n",
              "      <td>Anchorage</td>\n",
              "      <td>FBI</td>\n",
              "      <td>Yes</td>\n",
              "      <td>1976</td>\n",
              "      <td>June</td>\n",
              "      <td>Murder and non-negligent manslaughter</td>\n",
              "      <td>Single victim/single offender</td>\n",
              "      <td>41</td>\n",
              "      <td>Male</td>\n",
              "      <td>White</td>\n",
              "      <td>Unknown or not reported</td>\n",
              "      <td>34</td>\n",
              "      <td>Male</td>\n",
              "      <td>White</td>\n",
              "      <td>Unknown or not reported</td>\n",
              "      <td>Handgun - pistol, revolver, etc</td>\n",
              "      <td>Other - known to victim</td>\n",
              "      <td>0</td>\n",
              "      <td>0</td>\n",
              "    </tr>\n",
              "    <tr>\n",
              "      <th>4</th>\n",
              "      <td>Alaska</td>\n",
              "      <td>Anchorage</td>\n",
              "      <td>FBI</td>\n",
              "      <td>Yes</td>\n",
              "      <td>1976</td>\n",
              "      <td>July</td>\n",
              "      <td>Murder and non-negligent manslaughter</td>\n",
              "      <td>Single victim/single offender</td>\n",
              "      <td>33</td>\n",
              "      <td>Male</td>\n",
              "      <td>American Indian or Alaskan Native</td>\n",
              "      <td>Unknown or not reported</td>\n",
              "      <td>37</td>\n",
              "      <td>Female</td>\n",
              "      <td>American Indian or Alaskan Native</td>\n",
              "      <td>Unknown or not reported</td>\n",
              "      <td>Knife or cutting instrument</td>\n",
              "      <td>Brother</td>\n",
              "      <td>0</td>\n",
              "      <td>0</td>\n",
              "    </tr>\n",
              "    <tr>\n",
              "      <th>...</th>\n",
              "      <td>...</td>\n",
              "      <td>...</td>\n",
              "      <td>...</td>\n",
              "      <td>...</td>\n",
              "      <td>...</td>\n",
              "      <td>...</td>\n",
              "      <td>...</td>\n",
              "      <td>...</td>\n",
              "      <td>...</td>\n",
              "      <td>...</td>\n",
              "      <td>...</td>\n",
              "      <td>...</td>\n",
              "      <td>...</td>\n",
              "      <td>...</td>\n",
              "      <td>...</td>\n",
              "      <td>...</td>\n",
              "      <td>...</td>\n",
              "      <td>...</td>\n",
              "      <td>...</td>\n",
              "      <td>...</td>\n",
              "    </tr>\n",
              "    <tr>\n",
              "      <th>894631</th>\n",
              "      <td>Wyoming</td>\n",
              "      <td>Wind River Agency</td>\n",
              "      <td>FBI</td>\n",
              "      <td>No</td>\n",
              "      <td>2018</td>\n",
              "      <td>August</td>\n",
              "      <td>Murder and non-negligent manslaughter</td>\n",
              "      <td>Single victim/unknown offender(s)</td>\n",
              "      <td>29</td>\n",
              "      <td>Male</td>\n",
              "      <td>American Indian or Alaskan Native</td>\n",
              "      <td>Not of Hispanic origin</td>\n",
              "      <td>999</td>\n",
              "      <td>Unknown</td>\n",
              "      <td>Unknown</td>\n",
              "      <td>Unknown or not reported</td>\n",
              "      <td>Shotgun</td>\n",
              "      <td>Other - known to victim</td>\n",
              "      <td>0</td>\n",
              "      <td>0</td>\n",
              "    </tr>\n",
              "    <tr>\n",
              "      <th>894632</th>\n",
              "      <td>Wyoming</td>\n",
              "      <td>Wind River Agency</td>\n",
              "      <td>FBI</td>\n",
              "      <td>Yes</td>\n",
              "      <td>2019</td>\n",
              "      <td>August</td>\n",
              "      <td>Murder and non-negligent manslaughter</td>\n",
              "      <td>Single victim/single offender</td>\n",
              "      <td>29</td>\n",
              "      <td>Male</td>\n",
              "      <td>American Indian or Alaskan Native</td>\n",
              "      <td>Not of Hispanic origin</td>\n",
              "      <td>30</td>\n",
              "      <td>Male</td>\n",
              "      <td>American Indian or Alaskan Native</td>\n",
              "      <td>Not of Hispanic origin</td>\n",
              "      <td>Firearm, type not stated</td>\n",
              "      <td>Acquaintance</td>\n",
              "      <td>0</td>\n",
              "      <td>0</td>\n",
              "    </tr>\n",
              "    <tr>\n",
              "      <th>894633</th>\n",
              "      <td>Wyoming</td>\n",
              "      <td>Wind River Agency</td>\n",
              "      <td>FBI</td>\n",
              "      <td>Yes</td>\n",
              "      <td>2023</td>\n",
              "      <td>March</td>\n",
              "      <td>Murder and non-negligent manslaughter</td>\n",
              "      <td>Single victim/single offender</td>\n",
              "      <td>44</td>\n",
              "      <td>Male</td>\n",
              "      <td>American Indian or Alaskan Native</td>\n",
              "      <td>Not of Hispanic origin</td>\n",
              "      <td>33</td>\n",
              "      <td>Male</td>\n",
              "      <td>American Indian or Alaskan Native</td>\n",
              "      <td>Not of Hispanic origin</td>\n",
              "      <td>Firearm, type not stated</td>\n",
              "      <td>Other - known to victim</td>\n",
              "      <td>0</td>\n",
              "      <td>0</td>\n",
              "    </tr>\n",
              "    <tr>\n",
              "      <th>894634</th>\n",
              "      <td>Wyoming</td>\n",
              "      <td>Wind River Agency</td>\n",
              "      <td>FBI</td>\n",
              "      <td>Yes</td>\n",
              "      <td>2023</td>\n",
              "      <td>March</td>\n",
              "      <td>Murder and non-negligent manslaughter</td>\n",
              "      <td>Single victim/single offender</td>\n",
              "      <td>37</td>\n",
              "      <td>Male</td>\n",
              "      <td>American Indian or Alaskan Native</td>\n",
              "      <td>Not of Hispanic origin</td>\n",
              "      <td>29</td>\n",
              "      <td>Male</td>\n",
              "      <td>American Indian or Alaskan Native</td>\n",
              "      <td>Not of Hispanic origin</td>\n",
              "      <td>Other or type unknown</td>\n",
              "      <td>Relationship not determined</td>\n",
              "      <td>0</td>\n",
              "      <td>0</td>\n",
              "    </tr>\n",
              "    <tr>\n",
              "      <th>894635</th>\n",
              "      <td>Wyoming</td>\n",
              "      <td>Wind River Agency</td>\n",
              "      <td>FBI</td>\n",
              "      <td>Yes</td>\n",
              "      <td>2023</td>\n",
              "      <td>August</td>\n",
              "      <td>Murder and non-negligent manslaughter</td>\n",
              "      <td>Single victim/single offender</td>\n",
              "      <td>42</td>\n",
              "      <td>Male</td>\n",
              "      <td>American Indian or Alaskan Native</td>\n",
              "      <td>Not of Hispanic origin</td>\n",
              "      <td>59</td>\n",
              "      <td>Male</td>\n",
              "      <td>American Indian or Alaskan Native</td>\n",
              "      <td>Not of Hispanic origin</td>\n",
              "      <td>Handgun - pistol, revolver, etc</td>\n",
              "      <td>Other - known to victim</td>\n",
              "      <td>0</td>\n",
              "      <td>0</td>\n",
              "    </tr>\n",
              "  </tbody>\n",
              "</table>\n",
              "<p>894636 rows × 20 columns</p>\n",
              "</div>\n",
              "    <div class=\"colab-df-buttons\">\n",
              "\n",
              "  <div class=\"colab-df-container\">\n",
              "    <button class=\"colab-df-convert\" onclick=\"convertToInteractive('df-4add9e0d-5123-4a5c-ac30-fae8654c0f56')\"\n",
              "            title=\"Convert this dataframe to an interactive table.\"\n",
              "            style=\"display:none;\">\n",
              "\n",
              "  <svg xmlns=\"http://www.w3.org/2000/svg\" height=\"24px\" viewBox=\"0 -960 960 960\">\n",
              "    <path d=\"M120-120v-720h720v720H120Zm60-500h600v-160H180v160Zm220 220h160v-160H400v160Zm0 220h160v-160H400v160ZM180-400h160v-160H180v160Zm440 0h160v-160H620v160ZM180-180h160v-160H180v160Zm440 0h160v-160H620v160Z\"/>\n",
              "  </svg>\n",
              "    </button>\n",
              "\n",
              "  <style>\n",
              "    .colab-df-container {\n",
              "      display:flex;\n",
              "      gap: 12px;\n",
              "    }\n",
              "\n",
              "    .colab-df-convert {\n",
              "      background-color: #E8F0FE;\n",
              "      border: none;\n",
              "      border-radius: 50%;\n",
              "      cursor: pointer;\n",
              "      display: none;\n",
              "      fill: #1967D2;\n",
              "      height: 32px;\n",
              "      padding: 0 0 0 0;\n",
              "      width: 32px;\n",
              "    }\n",
              "\n",
              "    .colab-df-convert:hover {\n",
              "      background-color: #E2EBFA;\n",
              "      box-shadow: 0px 1px 2px rgba(60, 64, 67, 0.3), 0px 1px 3px 1px rgba(60, 64, 67, 0.15);\n",
              "      fill: #174EA6;\n",
              "    }\n",
              "\n",
              "    .colab-df-buttons div {\n",
              "      margin-bottom: 4px;\n",
              "    }\n",
              "\n",
              "    [theme=dark] .colab-df-convert {\n",
              "      background-color: #3B4455;\n",
              "      fill: #D2E3FC;\n",
              "    }\n",
              "\n",
              "    [theme=dark] .colab-df-convert:hover {\n",
              "      background-color: #434B5C;\n",
              "      box-shadow: 0px 1px 3px 1px rgba(0, 0, 0, 0.15);\n",
              "      filter: drop-shadow(0px 1px 2px rgba(0, 0, 0, 0.3));\n",
              "      fill: #FFFFFF;\n",
              "    }\n",
              "  </style>\n",
              "\n",
              "    <script>\n",
              "      const buttonEl =\n",
              "        document.querySelector('#df-4add9e0d-5123-4a5c-ac30-fae8654c0f56 button.colab-df-convert');\n",
              "      buttonEl.style.display =\n",
              "        google.colab.kernel.accessAllowed ? 'block' : 'none';\n",
              "\n",
              "      async function convertToInteractive(key) {\n",
              "        const element = document.querySelector('#df-4add9e0d-5123-4a5c-ac30-fae8654c0f56');\n",
              "        const dataTable =\n",
              "          await google.colab.kernel.invokeFunction('convertToInteractive',\n",
              "                                                    [key], {});\n",
              "        if (!dataTable) return;\n",
              "\n",
              "        const docLinkHtml = 'Like what you see? Visit the ' +\n",
              "          '<a target=\"_blank\" href=https://colab.research.google.com/notebooks/data_table.ipynb>data table notebook</a>'\n",
              "          + ' to learn more about interactive tables.';\n",
              "        element.innerHTML = '';\n",
              "        dataTable['output_type'] = 'display_data';\n",
              "        await google.colab.output.renderOutput(dataTable, element);\n",
              "        const docLink = document.createElement('div');\n",
              "        docLink.innerHTML = docLinkHtml;\n",
              "        element.appendChild(docLink);\n",
              "      }\n",
              "    </script>\n",
              "  </div>\n",
              "\n",
              "\n",
              "<div id=\"df-89262eac-d3e7-46cd-8ed3-57110477dc29\">\n",
              "  <button class=\"colab-df-quickchart\" onclick=\"quickchart('df-89262eac-d3e7-46cd-8ed3-57110477dc29')\"\n",
              "            title=\"Suggest charts\"\n",
              "            style=\"display:none;\">\n",
              "\n",
              "<svg xmlns=\"http://www.w3.org/2000/svg\" height=\"24px\"viewBox=\"0 0 24 24\"\n",
              "     width=\"24px\">\n",
              "    <g>\n",
              "        <path d=\"M19 3H5c-1.1 0-2 .9-2 2v14c0 1.1.9 2 2 2h14c1.1 0 2-.9 2-2V5c0-1.1-.9-2-2-2zM9 17H7v-7h2v7zm4 0h-2V7h2v10zm4 0h-2v-4h2v4z\"/>\n",
              "    </g>\n",
              "</svg>\n",
              "  </button>\n",
              "\n",
              "<style>\n",
              "  .colab-df-quickchart {\n",
              "      --bg-color: #E8F0FE;\n",
              "      --fill-color: #1967D2;\n",
              "      --hover-bg-color: #E2EBFA;\n",
              "      --hover-fill-color: #174EA6;\n",
              "      --disabled-fill-color: #AAA;\n",
              "      --disabled-bg-color: #DDD;\n",
              "  }\n",
              "\n",
              "  [theme=dark] .colab-df-quickchart {\n",
              "      --bg-color: #3B4455;\n",
              "      --fill-color: #D2E3FC;\n",
              "      --hover-bg-color: #434B5C;\n",
              "      --hover-fill-color: #FFFFFF;\n",
              "      --disabled-bg-color: #3B4455;\n",
              "      --disabled-fill-color: #666;\n",
              "  }\n",
              "\n",
              "  .colab-df-quickchart {\n",
              "    background-color: var(--bg-color);\n",
              "    border: none;\n",
              "    border-radius: 50%;\n",
              "    cursor: pointer;\n",
              "    display: none;\n",
              "    fill: var(--fill-color);\n",
              "    height: 32px;\n",
              "    padding: 0;\n",
              "    width: 32px;\n",
              "  }\n",
              "\n",
              "  .colab-df-quickchart:hover {\n",
              "    background-color: var(--hover-bg-color);\n",
              "    box-shadow: 0 1px 2px rgba(60, 64, 67, 0.3), 0 1px 3px 1px rgba(60, 64, 67, 0.15);\n",
              "    fill: var(--button-hover-fill-color);\n",
              "  }\n",
              "\n",
              "  .colab-df-quickchart-complete:disabled,\n",
              "  .colab-df-quickchart-complete:disabled:hover {\n",
              "    background-color: var(--disabled-bg-color);\n",
              "    fill: var(--disabled-fill-color);\n",
              "    box-shadow: none;\n",
              "  }\n",
              "\n",
              "  .colab-df-spinner {\n",
              "    border: 2px solid var(--fill-color);\n",
              "    border-color: transparent;\n",
              "    border-bottom-color: var(--fill-color);\n",
              "    animation:\n",
              "      spin 1s steps(1) infinite;\n",
              "  }\n",
              "\n",
              "  @keyframes spin {\n",
              "    0% {\n",
              "      border-color: transparent;\n",
              "      border-bottom-color: var(--fill-color);\n",
              "      border-left-color: var(--fill-color);\n",
              "    }\n",
              "    20% {\n",
              "      border-color: transparent;\n",
              "      border-left-color: var(--fill-color);\n",
              "      border-top-color: var(--fill-color);\n",
              "    }\n",
              "    30% {\n",
              "      border-color: transparent;\n",
              "      border-left-color: var(--fill-color);\n",
              "      border-top-color: var(--fill-color);\n",
              "      border-right-color: var(--fill-color);\n",
              "    }\n",
              "    40% {\n",
              "      border-color: transparent;\n",
              "      border-right-color: var(--fill-color);\n",
              "      border-top-color: var(--fill-color);\n",
              "    }\n",
              "    60% {\n",
              "      border-color: transparent;\n",
              "      border-right-color: var(--fill-color);\n",
              "    }\n",
              "    80% {\n",
              "      border-color: transparent;\n",
              "      border-right-color: var(--fill-color);\n",
              "      border-bottom-color: var(--fill-color);\n",
              "    }\n",
              "    90% {\n",
              "      border-color: transparent;\n",
              "      border-bottom-color: var(--fill-color);\n",
              "    }\n",
              "  }\n",
              "</style>\n",
              "\n",
              "  <script>\n",
              "    async function quickchart(key) {\n",
              "      const quickchartButtonEl =\n",
              "        document.querySelector('#' + key + ' button');\n",
              "      quickchartButtonEl.disabled = true;  // To prevent multiple clicks.\n",
              "      quickchartButtonEl.classList.add('colab-df-spinner');\n",
              "      try {\n",
              "        const charts = await google.colab.kernel.invokeFunction(\n",
              "            'suggestCharts', [key], {});\n",
              "      } catch (error) {\n",
              "        console.error('Error during call to suggestCharts:', error);\n",
              "      }\n",
              "      quickchartButtonEl.classList.remove('colab-df-spinner');\n",
              "      quickchartButtonEl.classList.add('colab-df-quickchart-complete');\n",
              "    }\n",
              "    (() => {\n",
              "      let quickchartButtonEl =\n",
              "        document.querySelector('#df-89262eac-d3e7-46cd-8ed3-57110477dc29 button');\n",
              "      quickchartButtonEl.style.display =\n",
              "        google.colab.kernel.accessAllowed ? 'block' : 'none';\n",
              "    })();\n",
              "  </script>\n",
              "</div>\n",
              "\n",
              "  <div id=\"id_7d96f0f1-1cf8-44c1-9d53-9e666b4c6098\">\n",
              "    <style>\n",
              "      .colab-df-generate {\n",
              "        background-color: #E8F0FE;\n",
              "        border: none;\n",
              "        border-radius: 50%;\n",
              "        cursor: pointer;\n",
              "        display: none;\n",
              "        fill: #1967D2;\n",
              "        height: 32px;\n",
              "        padding: 0 0 0 0;\n",
              "        width: 32px;\n",
              "      }\n",
              "\n",
              "      .colab-df-generate:hover {\n",
              "        background-color: #E2EBFA;\n",
              "        box-shadow: 0px 1px 2px rgba(60, 64, 67, 0.3), 0px 1px 3px 1px rgba(60, 64, 67, 0.15);\n",
              "        fill: #174EA6;\n",
              "      }\n",
              "\n",
              "      [theme=dark] .colab-df-generate {\n",
              "        background-color: #3B4455;\n",
              "        fill: #D2E3FC;\n",
              "      }\n",
              "\n",
              "      [theme=dark] .colab-df-generate:hover {\n",
              "        background-color: #434B5C;\n",
              "        box-shadow: 0px 1px 3px 1px rgba(0, 0, 0, 0.15);\n",
              "        filter: drop-shadow(0px 1px 2px rgba(0, 0, 0, 0.3));\n",
              "        fill: #FFFFFF;\n",
              "      }\n",
              "    </style>\n",
              "    <button class=\"colab-df-generate\" onclick=\"generateWithVariable('new_df')\"\n",
              "            title=\"Generate code using this dataframe.\"\n",
              "            style=\"display:none;\">\n",
              "\n",
              "  <svg xmlns=\"http://www.w3.org/2000/svg\" height=\"24px\"viewBox=\"0 0 24 24\"\n",
              "       width=\"24px\">\n",
              "    <path d=\"M7,19H8.4L18.45,9,17,7.55,7,17.6ZM5,21V16.75L18.45,3.32a2,2,0,0,1,2.83,0l1.4,1.43a1.91,1.91,0,0,1,.58,1.4,1.91,1.91,0,0,1-.58,1.4L9.25,21ZM18.45,9,17,7.55Zm-12,3A5.31,5.31,0,0,0,4.9,8.1,5.31,5.31,0,0,0,1,6.5,5.31,5.31,0,0,0,4.9,4.9,5.31,5.31,0,0,0,6.5,1,5.31,5.31,0,0,0,8.1,4.9,5.31,5.31,0,0,0,12,6.5,5.46,5.46,0,0,0,6.5,12Z\"/>\n",
              "  </svg>\n",
              "    </button>\n",
              "    <script>\n",
              "      (() => {\n",
              "      const buttonEl =\n",
              "        document.querySelector('#id_7d96f0f1-1cf8-44c1-9d53-9e666b4c6098 button.colab-df-generate');\n",
              "      buttonEl.style.display =\n",
              "        google.colab.kernel.accessAllowed ? 'block' : 'none';\n",
              "\n",
              "      buttonEl.onclick = () => {\n",
              "        google.colab.notebook.generateWithVariable('new_df');\n",
              "      }\n",
              "      })();\n",
              "    </script>\n",
              "  </div>\n",
              "\n",
              "    </div>\n",
              "  </div>\n"
            ],
            "application/vnd.google.colaboratory.intrinsic+json": {
              "type": "dataframe",
              "variable_name": "new_df"
            }
          },
          "metadata": {},
          "execution_count": 30
        }
      ],
      "source": [
        "#subset for columns that are important\n",
        "new_df = df[['State', \"Agency\", \"Source\", \"Solved\", \"Year\", \"Month\", \"Homicide\", \"Situation\", \"VicAge\", \"VicSex\", \"VicRace\", \"VicEthnic\", \"OffAge\", \"OffSex\", \"OffRace\", \"OffEthnic\", \"Weapon\", \"Relationship\", \"VicCount\", \"OffCount\"  ]]\n",
        "new_df"
      ]
    },
    {
      "cell_type": "markdown",
      "metadata": {
        "id": "MaJg6sxASz-s"
      },
      "source": [
        "Now we can check if there are any missing values"
      ]
    },
    {
      "cell_type": "code",
      "execution_count": 31,
      "metadata": {
        "colab": {
          "base_uri": "https://localhost:8080/"
        },
        "id": "u-VpulpzNjsE",
        "outputId": "4b96a2e2-9810-40dc-a921-713f69d401de"
      },
      "outputs": [
        {
          "output_type": "stream",
          "name": "stdout",
          "text": [
            "State\n",
            "0\n",
            "Agency\n",
            "0\n",
            "Source\n",
            "0\n",
            "Solved\n",
            "0\n",
            "Year\n",
            "0\n",
            "Month\n",
            "0\n",
            "Homicide\n",
            "0\n",
            "Situation\n",
            "0\n",
            "VicAge\n",
            "0\n",
            "VicSex\n",
            "0\n",
            "VicRace\n",
            "0\n",
            "VicEthnic\n",
            "0\n",
            "OffAge\n",
            "0\n",
            "OffSex\n",
            "0\n",
            "OffRace\n",
            "0\n",
            "OffEthnic\n",
            "0\n",
            "Weapon\n",
            "0\n",
            "Relationship\n",
            "0\n",
            "VicCount\n",
            "0\n",
            "OffCount\n",
            "0\n"
          ]
        }
      ],
      "source": [
        "#Checking for any missing values in the data\n",
        "\n",
        "for col in new_df.columns:\n",
        "  print(col)\n",
        "  print(new_df[col].isna().sum())"
      ]
    },
    {
      "cell_type": "markdown",
      "metadata": {
        "id": "11Bj_A68S23A"
      },
      "source": [
        "\n",
        "\n",
        "```\n",
        "# This is formatted as code\n",
        "```\n",
        "\n",
        "There are some missing values"
      ]
    },
    {
      "cell_type": "code",
      "execution_count": 32,
      "metadata": {
        "colab": {
          "base_uri": "https://localhost:8080/"
        },
        "id": "laODWsnMOCej",
        "outputId": "32a56479-4fd1-48b4-b6eb-66ffdc603453"
      },
      "outputs": [
        {
          "output_type": "stream",
          "name": "stdout",
          "text": [
            "[2010 2011 2012 2013 2014 2015 2016 2017 2018 2019 2020 2022 2023 2021]\n"
          ]
        }
      ],
      "source": [
        "#subset the data based on year\n",
        "new_df = new_df[new_df['Year']>=2010]\n",
        "#check for weird values\n",
        "print(new_df['Year'].unique())"
      ]
    },
    {
      "cell_type": "code",
      "execution_count": 33,
      "metadata": {
        "colab": {
          "base_uri": "https://localhost:8080/"
        },
        "id": "7lEUga-VSrMb",
        "outputId": "faf50c0e-15ef-4003-99bf-5533b4bfe6cd"
      },
      "outputs": [
        {
          "output_type": "stream",
          "name": "stdout",
          "text": [
            "['Alaska' 'Alabama' 'Arkansas' 'Arizona' 'California' 'Colorado'\n",
            " 'Connecticut' 'District of Columbia' 'Delaware' 'Florida' 'Georgia'\n",
            " 'Hawaii' 'Iowa' 'Idaho' 'Illinois' 'Indiana' 'Kansas' 'Kentucky'\n",
            " 'Louisiana' 'Massachusetts' 'Maryland' 'Maine' 'Michigan' 'Minnesota'\n",
            " 'Missouri' 'Mississippi' 'Montana' 'Nebraska' 'North Carolina'\n",
            " 'North Dakota' 'New Hampshire' 'New Jersey' 'New Mexico' 'Nevada'\n",
            " 'New York' 'Ohio' 'Oklahoma' 'Oregon' 'Pennsylvania' 'Rhodes Island'\n",
            " 'South Carolina' 'South Dakota' 'Tennessee' 'Texas' 'Utah' 'Virginia'\n",
            " 'Vermont' 'Washington' 'Wisconsin' 'West Virginia' 'Wyoming']\n"
          ]
        }
      ],
      "source": [
        "#check for weird values\n",
        "print(new_df['State'].unique())"
      ]
    },
    {
      "cell_type": "code",
      "execution_count": 34,
      "metadata": {
        "colab": {
          "base_uri": "https://localhost:8080/"
        },
        "id": "2LtRa8PaTDDC",
        "outputId": "86479ae3-8c1e-49be-8ce4-3d29f683977f"
      },
      "outputs": [
        {
          "output_type": "stream",
          "name": "stdout",
          "text": [
            "['FBI' 'MAP']\n"
          ]
        }
      ],
      "source": [
        "#check for weird values\n",
        "print(new_df['Source'].unique())"
      ]
    },
    {
      "cell_type": "code",
      "execution_count": 35,
      "metadata": {
        "colab": {
          "base_uri": "https://localhost:8080/"
        },
        "id": "smgcddc8TSAY",
        "outputId": "3dbef5d0-7776-40a7-a5a7-10509dda1b2c"
      },
      "outputs": [
        {
          "output_type": "stream",
          "name": "stdout",
          "text": [
            "['No' 'Yes']\n"
          ]
        }
      ],
      "source": [
        "#check for weird values\n",
        "print(new_df['Solved'].unique())"
      ]
    },
    {
      "cell_type": "code",
      "execution_count": 36,
      "metadata": {
        "colab": {
          "base_uri": "https://localhost:8080/"
        },
        "id": "90PHbzyoTg72",
        "outputId": "c1fb4374-0fff-4c5a-831a-eb46bc03a44e"
      },
      "outputs": [
        {
          "output_type": "stream",
          "name": "stdout",
          "text": [
            "['Single victim/unknown offender(s)' 'Single victim/single offender'\n",
            " 'Single victim/multiple offenders' 'Multiple victims/single offender'\n",
            " 'Multiple victims/unknown offender(s)'\n",
            " 'Multiple victims/multiple offenders']\n"
          ]
        }
      ],
      "source": [
        "#check for weird values\n",
        "print(new_df['Situation'].unique())"
      ]
    },
    {
      "cell_type": "code",
      "execution_count": 37,
      "metadata": {
        "colab": {
          "base_uri": "https://localhost:8080/"
        },
        "id": "H__OqXR-Ttv3",
        "outputId": "096b8599-3114-4ecd-cd40-a4948c96b8fe"
      },
      "outputs": [
        {
          "output_type": "stream",
          "name": "stdout",
          "text": [
            "[ 0  1  2  3  4  9  5  6 10  7  8 11 21 20 52]\n"
          ]
        }
      ],
      "source": [
        "#check for weird values\n",
        "print(new_df['VicCount'].unique())"
      ]
    },
    {
      "cell_type": "code",
      "execution_count": 38,
      "metadata": {
        "colab": {
          "base_uri": "https://localhost:8080/"
        },
        "id": "9JolRTbxT8GR",
        "outputId": "c599e15e-4e13-42e5-f9fb-e7b06adf873f"
      },
      "outputs": [
        {
          "output_type": "stream",
          "name": "stdout",
          "text": [
            "[ 0  1  2  3  4  5  8  7  6  9 11 15 12 10 17 40 13 14 21]\n"
          ]
        }
      ],
      "source": [
        "#check for weird values\n",
        "print(new_df['OffCount'].unique())"
      ]
    },
    {
      "cell_type": "code",
      "execution_count": 39,
      "metadata": {
        "colab": {
          "base_uri": "https://localhost:8080/"
        },
        "id": "aF_br4zygL1v",
        "outputId": "8a043b78-b007-48c4-d959-9b7e5ac01da0"
      },
      "outputs": [
        {
          "output_type": "stream",
          "name": "stdout",
          "text": [
            "[ 44  29  26  40  34  48  19   0  24  30  57  23  54  42  58  52  20  28\n",
            "  55  35  38   1  33  14  50  67  18  27  47  43  59  31  21  73  71  53\n",
            "  36  22  15  51  63  64  74  56  39   4  11  41  60   2  49  32  17  25\n",
            "  69  37  70  92  76  65  46   6  45  61   3  13  16  66   5  62  12  88\n",
            "  77  75  10 999   7  68   8  81   9  72  80  79  78  83  90  86  85  89\n",
            "  82  84  91  99  87  95  94  93  96  97  98]\n",
            "[44. 29. 26. 40. 34. 48. 19.  0. 24. 30. 57. 23. 54. 42. 58. 52. 20. 28.\n",
            " 55. 35. 38.  1. 33. 14. 50. 67. 18. 27. 47. 43. 59. 31. 21. 73. 71. 53.\n",
            " 36. 22. 15. 51. 63. 64. 74. 56. 39.  4. 11. 41. 60.  2. 49. 32. 17. 25.\n",
            " 69. 37. 70. 92. 76. 65. 46.  6. 45. 61.  3. 13. 16. 66.  5. 62. 12. 88.\n",
            " 77. 75. 10. nan  7. 68.  8. 81.  9. 72. 80. 79. 78. 83. 90. 86. 85. 89.\n",
            " 82. 84. 91. 99. 87. 95. 94. 93. 96. 97. 98.]\n"
          ]
        }
      ],
      "source": [
        "#check for weird values\n",
        "print(new_df['VicAge'].unique())\n",
        "#see the value 999, which is a place holder\n",
        "new_df[\"VicAge\"] = new_df['VicAge'].replace(999, np.nan)\n",
        "print(new_df['VicAge'].unique())"
      ]
    },
    {
      "cell_type": "code",
      "execution_count": 40,
      "metadata": {
        "colab": {
          "base_uri": "https://localhost:8080/"
        },
        "id": "0BmXLfFOhc8u",
        "outputId": "a766ccfa-5c01-467f-abf8-e9fdf9381b66"
      },
      "outputs": [
        {
          "output_type": "stream",
          "name": "stdout",
          "text": [
            "[999  28  26  35  38  21  23  45  27  24  62  43  17  66  22  33  31  47\n",
            "  25  34  30  55  40  29  50  41  61  20  49  18  73  64  19  39  51  16\n",
            "  46  15  32  44  71  37  57  63  91  75  42  68  36  12  48  53  56  13\n",
            "  59  14  67   9   8  69   6  11  99  54  58  52   7  80  60  76  82  10\n",
            "   1  70  72  89  81  74  84  65  77  78  79   5  83  90  85  87  86  93\n",
            "  96  92  88   4  95  97   0   3  94  98   2]\n",
            "[nan 28. 26. 35. 38. 21. 23. 45. 27. 24. 62. 43. 17. 66. 22. 33. 31. 47.\n",
            " 25. 34. 30. 55. 40. 29. 50. 41. 61. 20. 49. 18. 73. 64. 19. 39. 51. 16.\n",
            " 46. 15. 32. 44. 71. 37. 57. 63. 91. 75. 42. 68. 36. 12. 48. 53. 56. 13.\n",
            " 59. 14. 67.  9.  8. 69.  6. 11. 99. 54. 58. 52.  7. 80. 60. 76. 82. 10.\n",
            "  1. 70. 72. 89. 81. 74. 84. 65. 77. 78. 79.  5. 83. 90. 85. 87. 86. 93.\n",
            " 96. 92. 88.  4. 95. 97.  0.  3. 94. 98.  2.]\n"
          ]
        }
      ],
      "source": [
        "#check for weird values\n",
        "print(new_df['OffAge'].unique())\n",
        "#see the value 999, which is a place holder\n",
        "new_df[\"OffAge\"] = new_df['OffAge'].replace(999, np.nan)\n",
        "print(new_df['OffAge'].unique())"
      ]
    },
    {
      "cell_type": "code",
      "execution_count": 41,
      "metadata": {
        "colab": {
          "base_uri": "https://localhost:8080/"
        },
        "id": "rE_I6Hrahx_3",
        "outputId": "b011fc15-c631-4d00-d98c-4755e3bdb400"
      },
      "outputs": [
        {
          "output_type": "stream",
          "name": "stdout",
          "text": [
            "['January' 'February' 'March' 'April' 'May' 'June' 'July' 'August'\n",
            " 'September' 'October' 'December' 'November']\n"
          ]
        }
      ],
      "source": [
        "#check for weird values\n",
        "print(new_df['Month'].unique())"
      ]
    },
    {
      "cell_type": "code",
      "execution_count": 42,
      "metadata": {
        "colab": {
          "base_uri": "https://localhost:8080/"
        },
        "id": "6igwEeLSh8uR",
        "outputId": "dae444b5-0401-4ae6-baf9-86157e1702fa"
      },
      "outputs": [
        {
          "output_type": "stream",
          "name": "stdout",
          "text": [
            "['Murder and non-negligent manslaughter' 'Manslaughter by negligence']\n"
          ]
        }
      ],
      "source": [
        "#check for weird values\n",
        "print(new_df['Homicide'].unique())"
      ]
    },
    {
      "cell_type": "code",
      "execution_count": 43,
      "metadata": {
        "colab": {
          "base_uri": "https://localhost:8080/"
        },
        "id": "TdXDooaZiIUW",
        "outputId": "eaa77cb4-81dd-4653-a252-1b6014529d73"
      },
      "outputs": [
        {
          "output_type": "stream",
          "name": "stdout",
          "text": [
            "['Male' 'Female' 'Unknown']\n",
            "['Male' 'Female' nan]\n"
          ]
        }
      ],
      "source": [
        "#check for weird values\n",
        "print(new_df['VicSex'].unique())\n",
        "new_df[\"VicSex\"] = new_df['VicSex'].replace(\"Unknown\", np.nan)\n",
        "print(new_df['VicSex'].unique())"
      ]
    },
    {
      "cell_type": "code",
      "execution_count": 44,
      "metadata": {
        "colab": {
          "base_uri": "https://localhost:8080/"
        },
        "id": "GdZq92U6iS33",
        "outputId": "0caa0242-2179-451e-fe2a-836992fd88b9"
      },
      "outputs": [
        {
          "output_type": "stream",
          "name": "stdout",
          "text": [
            "['Unknown' 'Male' 'Female']\n",
            "[nan 'Male' 'Female']\n"
          ]
        }
      ],
      "source": [
        "#check for weird values\n",
        "print(new_df['OffSex'].unique())\n",
        "new_df[\"OffSex\"] = new_df['OffSex'].replace(\"Unknown\", np.nan)\n",
        "print(new_df['OffSex'].unique())"
      ]
    },
    {
      "cell_type": "code",
      "execution_count": 45,
      "metadata": {
        "colab": {
          "base_uri": "https://localhost:8080/"
        },
        "id": "VS6Y32TAibrZ",
        "outputId": "36b95c3f-f27b-4c95-91fb-4cc916abeb50"
      },
      "outputs": [
        {
          "output_type": "stream",
          "name": "stdout",
          "text": [
            "['White' 'Black' 'Asian' 'American Indian or Alaskan Native' 'Unknown'\n",
            " 'Native Hawaiian or Pacific Islander']\n",
            "['White' 'Black' 'Asian' 'American Indian or Alaskan Native' nan\n",
            " 'Native Hawaiian or Pacific Islander']\n"
          ]
        }
      ],
      "source": [
        "#check for weird values\n",
        "print(new_df['VicRace'].unique())\n",
        "new_df[\"VicRace\"] = new_df['VicRace'].replace(\"Unknown\", np.nan)\n",
        "print(new_df['VicRace'].unique())"
      ]
    },
    {
      "cell_type": "code",
      "execution_count": 46,
      "metadata": {
        "colab": {
          "base_uri": "https://localhost:8080/"
        },
        "id": "SQr3qDI2itzF",
        "outputId": "11d5820d-d3e6-41ef-dc39-768b2f07efd9"
      },
      "outputs": [
        {
          "output_type": "stream",
          "name": "stdout",
          "text": [
            "['Unknown' 'Black' 'White' 'Asian' 'American Indian or Alaskan Native'\n",
            " 'Native Hawaiian or Pacific Islander']\n",
            "[nan 'Black' 'White' 'Asian' 'American Indian or Alaskan Native'\n",
            " 'Native Hawaiian or Pacific Islander']\n"
          ]
        }
      ],
      "source": [
        "#check for weird values\n",
        "print(new_df['OffRace'].unique())\n",
        "new_df[\"OffRace\"] = new_df['OffRace'].replace(\"Unknown\", np.nan)\n",
        "print(new_df['OffRace'].unique())"
      ]
    },
    {
      "cell_type": "code",
      "execution_count": 47,
      "metadata": {
        "colab": {
          "base_uri": "https://localhost:8080/"
        },
        "id": "yOMI6W85ixpi",
        "outputId": "d7e46282-f5a6-47ba-8618-4b86a95ea2eb"
      },
      "outputs": [
        {
          "output_type": "stream",
          "name": "stdout",
          "text": [
            "['Unknown or not reported' 'Not of Hispanic origin' 'Hispanic origin']\n",
            "[nan 'Not of Hispanic origin' 'Hispanic origin']\n"
          ]
        }
      ],
      "source": [
        "#check for weird values\n",
        "print(new_df['VicEthnic'].unique())\n",
        "new_df[\"VicEthnic\"] = new_df['VicEthnic'].replace(\"Unknown or not reported\", np.nan)\n",
        "print(new_df['VicEthnic'].unique())"
      ]
    },
    {
      "cell_type": "code",
      "execution_count": 48,
      "metadata": {
        "colab": {
          "base_uri": "https://localhost:8080/"
        },
        "id": "wlYdwQmhi6IC",
        "outputId": "34a023d1-e3bc-49d8-ea01-fd265caa1cff"
      },
      "outputs": [
        {
          "output_type": "stream",
          "name": "stdout",
          "text": [
            "['Unknown or not reported' 'Not of Hispanic origin' 'Hispanic origin']\n",
            "[nan 'Not of Hispanic origin' 'Hispanic origin']\n"
          ]
        }
      ],
      "source": [
        "#check for weird values\n",
        "print(new_df['OffEthnic'].unique())\n",
        "new_df[\"OffEthnic\"] = new_df['OffEthnic'].replace(\"Unknown or not reported\", np.nan)\n",
        "print(new_df['OffEthnic'].unique())"
      ]
    },
    {
      "cell_type": "code",
      "execution_count": 49,
      "metadata": {
        "colab": {
          "base_uri": "https://localhost:8080/"
        },
        "id": "OV6xPZy1jXZo",
        "outputId": "85884166-e86d-40a7-e073-0518e043b0b8"
      },
      "outputs": [
        {
          "output_type": "stream",
          "name": "stdout",
          "text": [
            "['Relationship not determined' 'Acquaintance' 'Stranger' 'Daughter'\n",
            " 'Other family' 'Other - known to victim' 'Friend' 'Wife' 'Neighbor'\n",
            " 'Employer' 'Son' 'Girlfriend' 'Boyfriend' 'Mother' 'Ex-husband' 'Sister'\n",
            " 'Ex-wife' 'Brother' 'Common-law wife' 'Father' 'Homosexual relationship'\n",
            " 'In-law' 'Husband' 'Stepfather' 'Employee' 'Stepson' 'Stepmother'\n",
            " 'Common-law husband' 'Stepdaughter']\n",
            "[nan 'Friend' 'Other' 'Offspring' 'Distant Family' 'Romantic Relation'\n",
            " 'Parents' 'Sibling' 'Step Family']\n"
          ]
        }
      ],
      "source": [
        "#check for weird values\n",
        "print(new_df['Relationship'].unique())\n",
        "new_df[\"Relationship\"] = new_df['Relationship'].replace([\"Wife\", \"Girlfriend\", \"Boyfriend\", \"Common-law husband\", \"Common-law wife\", \"Homosexual relationship\", \"Ex-husband\", \"Ex-wife\", \"Husband\" ], 'Romantic Relation')\n",
        "new_df[\"Relationship\"] = new_df['Relationship'].replace([\"Son\", \"Daughter\"], 'Offspring')\n",
        "new_df[\"Relationship\"] = new_df['Relationship'].replace([\"Father\", \"Mother\"], 'Parents')\n",
        "new_df[\"Relationship\"] = new_df['Relationship'].replace([\"Stepmother\", \"Stepfather\", \"Stepdaughter\", \"Stepson\"], 'Step Family')\n",
        "new_df[\"Relationship\"] = new_df['Relationship'].replace([\"Brother\", \"Sister\"], 'Sibling')\n",
        "new_df[\"Relationship\"] = new_df['Relationship'].replace([\"Friend\", \"Acquaintance\"], 'Friend')\n",
        "new_df[\"Relationship\"] = new_df['Relationship'].replace([\"Other family\", \"In-law\"], 'Distant Family')\n",
        "new_df[\"Relationship\"] = new_df['Relationship'].replace([\"Stranger\", \"Employer\", \"Neighbor\", \"Other - known to victim\", \"Employee\"], 'Other')\n",
        "new_df[\"Relationship\"] = new_df['Relationship'].replace([\"Relationship not determined\"], np.nan)\n",
        "print(new_df['Relationship'].unique())"
      ]
    },
    {
      "cell_type": "code",
      "execution_count": 50,
      "metadata": {
        "colab": {
          "base_uri": "https://localhost:8080/"
        },
        "id": "P5g4kUdbjo6D",
        "outputId": "f3c5a509-95f2-4c32-ad32-401956ba6230"
      },
      "outputs": [
        {
          "output_type": "stream",
          "name": "stdout",
          "text": [
            "['Firearm, type not stated' 'Personal weapons, includes beating'\n",
            " 'Knife or cutting instrument' 'Handgun - pistol, revolver, etc'\n",
            " 'Blunt object - hammer, club, etc' 'Narcotics or drugs, sleeping pills'\n",
            " 'Strangulation - hanging' 'Asphyxiation - includes death by gas'\n",
            " 'Other or type unknown' 'Fire' 'Other gun' 'Rifle' 'Shotgun' 'Drowning'\n",
            " 'Weapon Not Reported' 'Poison - does not include gas' 'Explosives'\n",
            " 'Pushed or thrown out window']\n"
          ]
        }
      ],
      "source": [
        "#check for weird values\n",
        "print(new_df['Weapon'].unique())\n",
        "new_df[\"Weapon\"] = new_df['Weapon'].replace([\"Firearm, type not stated\", \"Handgun - pistol, revolver, etc\", \"Other gun\", \"Rifle\", \"Shotgun\"], 'Firearm')\n",
        "new_df[\"Weapon\"] = new_df['Weapon'].replace([\"Personal weapons, includes beating\", \"Blunt object - hammer, club, etc\", \"Pushed or thrown out window\", \"Strangulation - hanging\"], 'Interpersonal Violence')\n",
        "new_df[\"Weapon\"] = new_df['Weapon'].replace([\"Narcotics or drugs, sleeping pills\", \"Poison - does not include gas\"], 'Substance')\n",
        "new_df[\"Weapon\"] = new_df['Weapon'].replace([\"Weapon Not Reported\"], np.nan)\n",
        "new_df[\"Weapon\"] = new_df['Weapon'].replace([\"Other or type unknown\", \"Asphyxiation - includes death by gas\"], \"Other\")"
      ]
    },
    {
      "cell_type": "code",
      "execution_count": 51,
      "metadata": {
        "id": "BUAXfr4yPczY",
        "outputId": "61c7b94f-2748-435e-ccd0-9f94625b64f5",
        "colab": {
          "base_uri": "https://localhost:8080/"
        }
      },
      "outputs": [
        {
          "output_type": "stream",
          "name": "stdout",
          "text": [
            "Rows dropped: 29069\n"
          ]
        }
      ],
      "source": [
        "# Removing any rows that are missing more than 5 values\n",
        "\n",
        "# create drop_df to SAVE only rows with LESS than 5 missing values\n",
        "drop_df = new_df[new_df.isnull().sum(axis=1) <= 5]\n",
        "\n",
        "# Count how many rows were dropped -> new_df length - drop_df length\n",
        "rows_dropped = len(new_df) - len(drop_df)\n",
        "\n",
        "# print how many rows were dropped\n",
        "print(f\"Rows dropped: {rows_dropped}\")"
      ]
    }
  ],
  "metadata": {
    "colab": {
      "provenance": []
    },
    "kernelspec": {
      "display_name": "Python 3",
      "name": "python3"
    },
    "language_info": {
      "codemirror_mode": {
        "name": "ipython",
        "version": 3
      },
      "file_extension": ".py",
      "mimetype": "text/x-python",
      "name": "python",
      "nbconvert_exporter": "python",
      "pygments_lexer": "ipython3",
      "version": "3.12.5"
    }
  },
  "nbformat": 4,
  "nbformat_minor": 0
}