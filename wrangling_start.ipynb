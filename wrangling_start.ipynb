{
  "cells": [
    {
      "cell_type": "markdown",
      "metadata": {
        "id": "x8o4A5_-OMwr"
      },
      "source": [
        "Questions about the dataset\n",
        "\n",
        "1. What is in your data?\n",
        "\n",
        "Our dataset is about murders throughout the U.S. The dataset spans from 1976 to 2023, but for the purposes of this project we will be focusing on data from after the year 2010. This subset the data to a more manageable range. In the original dataset, there were some columns that were dropped due to them not being relevant, such as the filedata or the MSA. The columns in the current data set are:\n",
        "- State - The state of the Crime.\n",
        "- Agency - The city of the Crime.\n",
        "- Source - Where this data came from (i.e. the FBI)\n",
        "- Solved - Was the case solved?\n",
        "- Year - Year of Crime.\n",
        "- Month - Month of Crime.\n",
        "- Homicide - Type of Crime.\n",
        "- Situation - Situation in which the crime occurred.\n",
        "- VicAge - Age of Victim.\n",
        "- VicSex - Sex of Victim.\n",
        "- VicRace - Race of Victim.\n",
        "- VicEthnic - Ethnicity of Victim.\n",
        "- OffAge - Age of Offender.\n",
        "- OffSex - Sex of Offender.\n",
        "- OffRace - Race of Offender.\n",
        "- OffEthnic - Ethnicity of Offender.\n",
        "- Weapon - Weapon Used.\n",
        "- Relationship - Relationship between Victim and Offender.\n",
        "- VicCount - Amount of Victims.\n",
        "- OffCount - Amount of Offenders.\n",
        "\n",
        "\n",
        "\n",
        "\n",
        "\n",
        "2. How will these data be useful for studying the phenomenon you're interested in?\n",
        "\n",
        "Some general thoughts (need to reword)\n",
        "- Looking at age of a offender based on their location\n",
        "- looking at how covid has affected murder and who is doing the crime and where it is happeneing\n",
        "- looking if certain places are more inclined to use a certain type of weapon.\n",
        "\n",
        "3. What are the challenges you've resolved or expect to face in using them?\n",
        "\n"
      ]
    },
    {
      "cell_type": "code",
      "execution_count": 1,
      "metadata": {
        "id": "FJ8O4GAWH3Aa"
      },
      "outputs": [],
      "source": [
        "import pandas as pd\n",
        "import seaborn as sns\n",
        "import numpy as np\n",
        "\n",
        "# ignore warnings about \"Setting with copy\" and keep all others\n",
        "import warnings\n",
        "warnings.simplefilter(action=\"ignore\", category=pd.errors.SettingWithCopyWarning)"
      ]
    },
    {
      "cell_type": "code",
      "execution_count": 2,
      "metadata": {
        "id": "wKHsPxi_ISqW"
      },
      "outputs": [],
      "source": [
        "df = pd.read_csv(\"SHR65_23.csv\")"
      ]
    },
    {
      "cell_type": "code",
      "execution_count": 3,
      "metadata": {
        "colab": {
          "base_uri": "https://localhost:8080/"
        },
        "id": "CrdoNM0kPQG6",
        "outputId": "5cd769e8-4e26-417d-ca41-b9359ece0505"
      },
      "outputs": [
        {
          "name": "stdout",
          "output_type": "stream",
          "text": [
            "Index(['ID', 'CNTYFIPS', 'Ori', 'State', 'Agency', 'Agentype', 'Source',\n",
            "       'Solved', 'Year', 'Month', 'Incident', 'ActionType', 'Homicide',\n",
            "       'Situation', 'VicAge', 'VicSex', 'VicRace', 'VicEthnic', 'OffAge',\n",
            "       'OffSex', 'OffRace', 'OffEthnic', 'Weapon', 'Relationship',\n",
            "       'Circumstance', 'Subcircum', 'VicCount', 'OffCount', 'FileDate', 'MSA'],\n",
            "      dtype='object')\n"
          ]
        }
      ],
      "source": [
        "print(df.columns)"
      ]
    },
    {
      "cell_type": "code",
      "execution_count": 4,
      "metadata": {
        "colab": {
          "base_uri": "https://localhost:8080/",
          "height": 964
        },
        "id": "ZxBdKWi8JqfL",
        "outputId": "eb6a76cc-cae2-4b73-a99a-5f4abf725339"
      },
      "outputs": [
        {
          "data": {
            "text/html": [
              "<div>\n",
              "<style scoped>\n",
              "    .dataframe tbody tr th:only-of-type {\n",
              "        vertical-align: middle;\n",
              "    }\n",
              "\n",
              "    .dataframe tbody tr th {\n",
              "        vertical-align: top;\n",
              "    }\n",
              "\n",
              "    .dataframe thead th {\n",
              "        text-align: right;\n",
              "    }\n",
              "</style>\n",
              "<table border=\"1\" class=\"dataframe\">\n",
              "  <thead>\n",
              "    <tr style=\"text-align: right;\">\n",
              "      <th></th>\n",
              "      <th>State</th>\n",
              "      <th>Agency</th>\n",
              "      <th>Source</th>\n",
              "      <th>Solved</th>\n",
              "      <th>Year</th>\n",
              "      <th>Month</th>\n",
              "      <th>Homicide</th>\n",
              "      <th>Situation</th>\n",
              "      <th>VicAge</th>\n",
              "      <th>VicSex</th>\n",
              "      <th>VicRace</th>\n",
              "      <th>VicEthnic</th>\n",
              "      <th>OffAge</th>\n",
              "      <th>OffSex</th>\n",
              "      <th>OffRace</th>\n",
              "      <th>OffEthnic</th>\n",
              "      <th>Weapon</th>\n",
              "      <th>Relationship</th>\n",
              "      <th>VicCount</th>\n",
              "      <th>OffCount</th>\n",
              "    </tr>\n",
              "  </thead>\n",
              "  <tbody>\n",
              "    <tr>\n",
              "      <th>0</th>\n",
              "      <td>Alaska</td>\n",
              "      <td>Anchorage</td>\n",
              "      <td>FBI</td>\n",
              "      <td>Yes</td>\n",
              "      <td>1976</td>\n",
              "      <td>March</td>\n",
              "      <td>Murder and non-negligent manslaughter</td>\n",
              "      <td>Single victim/single offender</td>\n",
              "      <td>48</td>\n",
              "      <td>Male</td>\n",
              "      <td>Unknown</td>\n",
              "      <td>Unknown or not reported</td>\n",
              "      <td>68</td>\n",
              "      <td>Male</td>\n",
              "      <td>Black</td>\n",
              "      <td>Unknown or not reported</td>\n",
              "      <td>Handgun - pistol, revolver, etc</td>\n",
              "      <td>Relationship not determined</td>\n",
              "      <td>0</td>\n",
              "      <td>0</td>\n",
              "    </tr>\n",
              "    <tr>\n",
              "      <th>1</th>\n",
              "      <td>Alaska</td>\n",
              "      <td>Anchorage</td>\n",
              "      <td>FBI</td>\n",
              "      <td>Yes</td>\n",
              "      <td>1976</td>\n",
              "      <td>April</td>\n",
              "      <td>Murder and non-negligent manslaughter</td>\n",
              "      <td>Single victim/single offender</td>\n",
              "      <td>33</td>\n",
              "      <td>Female</td>\n",
              "      <td>White</td>\n",
              "      <td>Unknown or not reported</td>\n",
              "      <td>44</td>\n",
              "      <td>Male</td>\n",
              "      <td>White</td>\n",
              "      <td>Unknown or not reported</td>\n",
              "      <td>Handgun - pistol, revolver, etc</td>\n",
              "      <td>Girlfriend</td>\n",
              "      <td>0</td>\n",
              "      <td>0</td>\n",
              "    </tr>\n",
              "    <tr>\n",
              "      <th>2</th>\n",
              "      <td>Alaska</td>\n",
              "      <td>Anchorage</td>\n",
              "      <td>FBI</td>\n",
              "      <td>Yes</td>\n",
              "      <td>1976</td>\n",
              "      <td>June</td>\n",
              "      <td>Murder and non-negligent manslaughter</td>\n",
              "      <td>Single victim/single offender</td>\n",
              "      <td>38</td>\n",
              "      <td>Male</td>\n",
              "      <td>White</td>\n",
              "      <td>Unknown or not reported</td>\n",
              "      <td>27</td>\n",
              "      <td>Male</td>\n",
              "      <td>Black</td>\n",
              "      <td>Unknown or not reported</td>\n",
              "      <td>Handgun - pistol, revolver, etc</td>\n",
              "      <td>Stranger</td>\n",
              "      <td>0</td>\n",
              "      <td>0</td>\n",
              "    </tr>\n",
              "    <tr>\n",
              "      <th>3</th>\n",
              "      <td>Alaska</td>\n",
              "      <td>Anchorage</td>\n",
              "      <td>FBI</td>\n",
              "      <td>Yes</td>\n",
              "      <td>1976</td>\n",
              "      <td>June</td>\n",
              "      <td>Murder and non-negligent manslaughter</td>\n",
              "      <td>Single victim/single offender</td>\n",
              "      <td>41</td>\n",
              "      <td>Male</td>\n",
              "      <td>White</td>\n",
              "      <td>Unknown or not reported</td>\n",
              "      <td>34</td>\n",
              "      <td>Male</td>\n",
              "      <td>White</td>\n",
              "      <td>Unknown or not reported</td>\n",
              "      <td>Handgun - pistol, revolver, etc</td>\n",
              "      <td>Other - known to victim</td>\n",
              "      <td>0</td>\n",
              "      <td>0</td>\n",
              "    </tr>\n",
              "    <tr>\n",
              "      <th>4</th>\n",
              "      <td>Alaska</td>\n",
              "      <td>Anchorage</td>\n",
              "      <td>FBI</td>\n",
              "      <td>Yes</td>\n",
              "      <td>1976</td>\n",
              "      <td>July</td>\n",
              "      <td>Murder and non-negligent manslaughter</td>\n",
              "      <td>Single victim/single offender</td>\n",
              "      <td>33</td>\n",
              "      <td>Male</td>\n",
              "      <td>American Indian or Alaskan Native</td>\n",
              "      <td>Unknown or not reported</td>\n",
              "      <td>37</td>\n",
              "      <td>Female</td>\n",
              "      <td>American Indian or Alaskan Native</td>\n",
              "      <td>Unknown or not reported</td>\n",
              "      <td>Knife or cutting instrument</td>\n",
              "      <td>Brother</td>\n",
              "      <td>0</td>\n",
              "      <td>0</td>\n",
              "    </tr>\n",
              "    <tr>\n",
              "      <th>...</th>\n",
              "      <td>...</td>\n",
              "      <td>...</td>\n",
              "      <td>...</td>\n",
              "      <td>...</td>\n",
              "      <td>...</td>\n",
              "      <td>...</td>\n",
              "      <td>...</td>\n",
              "      <td>...</td>\n",
              "      <td>...</td>\n",
              "      <td>...</td>\n",
              "      <td>...</td>\n",
              "      <td>...</td>\n",
              "      <td>...</td>\n",
              "      <td>...</td>\n",
              "      <td>...</td>\n",
              "      <td>...</td>\n",
              "      <td>...</td>\n",
              "      <td>...</td>\n",
              "      <td>...</td>\n",
              "      <td>...</td>\n",
              "    </tr>\n",
              "    <tr>\n",
              "      <th>894631</th>\n",
              "      <td>Wyoming</td>\n",
              "      <td>Wind River Agency</td>\n",
              "      <td>FBI</td>\n",
              "      <td>No</td>\n",
              "      <td>2018</td>\n",
              "      <td>August</td>\n",
              "      <td>Murder and non-negligent manslaughter</td>\n",
              "      <td>Single victim/unknown offender(s)</td>\n",
              "      <td>29</td>\n",
              "      <td>Male</td>\n",
              "      <td>American Indian or Alaskan Native</td>\n",
              "      <td>Not of Hispanic origin</td>\n",
              "      <td>999</td>\n",
              "      <td>Unknown</td>\n",
              "      <td>Unknown</td>\n",
              "      <td>Unknown or not reported</td>\n",
              "      <td>Shotgun</td>\n",
              "      <td>Other - known to victim</td>\n",
              "      <td>0</td>\n",
              "      <td>0</td>\n",
              "    </tr>\n",
              "    <tr>\n",
              "      <th>894632</th>\n",
              "      <td>Wyoming</td>\n",
              "      <td>Wind River Agency</td>\n",
              "      <td>FBI</td>\n",
              "      <td>Yes</td>\n",
              "      <td>2019</td>\n",
              "      <td>August</td>\n",
              "      <td>Murder and non-negligent manslaughter</td>\n",
              "      <td>Single victim/single offender</td>\n",
              "      <td>29</td>\n",
              "      <td>Male</td>\n",
              "      <td>American Indian or Alaskan Native</td>\n",
              "      <td>Not of Hispanic origin</td>\n",
              "      <td>30</td>\n",
              "      <td>Male</td>\n",
              "      <td>American Indian or Alaskan Native</td>\n",
              "      <td>Not of Hispanic origin</td>\n",
              "      <td>Firearm, type not stated</td>\n",
              "      <td>Acquaintance</td>\n",
              "      <td>0</td>\n",
              "      <td>0</td>\n",
              "    </tr>\n",
              "    <tr>\n",
              "      <th>894633</th>\n",
              "      <td>Wyoming</td>\n",
              "      <td>Wind River Agency</td>\n",
              "      <td>FBI</td>\n",
              "      <td>Yes</td>\n",
              "      <td>2023</td>\n",
              "      <td>March</td>\n",
              "      <td>Murder and non-negligent manslaughter</td>\n",
              "      <td>Single victim/single offender</td>\n",
              "      <td>44</td>\n",
              "      <td>Male</td>\n",
              "      <td>American Indian or Alaskan Native</td>\n",
              "      <td>Not of Hispanic origin</td>\n",
              "      <td>33</td>\n",
              "      <td>Male</td>\n",
              "      <td>American Indian or Alaskan Native</td>\n",
              "      <td>Not of Hispanic origin</td>\n",
              "      <td>Firearm, type not stated</td>\n",
              "      <td>Other - known to victim</td>\n",
              "      <td>0</td>\n",
              "      <td>0</td>\n",
              "    </tr>\n",
              "    <tr>\n",
              "      <th>894634</th>\n",
              "      <td>Wyoming</td>\n",
              "      <td>Wind River Agency</td>\n",
              "      <td>FBI</td>\n",
              "      <td>Yes</td>\n",
              "      <td>2023</td>\n",
              "      <td>March</td>\n",
              "      <td>Murder and non-negligent manslaughter</td>\n",
              "      <td>Single victim/single offender</td>\n",
              "      <td>37</td>\n",
              "      <td>Male</td>\n",
              "      <td>American Indian or Alaskan Native</td>\n",
              "      <td>Not of Hispanic origin</td>\n",
              "      <td>29</td>\n",
              "      <td>Male</td>\n",
              "      <td>American Indian or Alaskan Native</td>\n",
              "      <td>Not of Hispanic origin</td>\n",
              "      <td>Other or type unknown</td>\n",
              "      <td>Relationship not determined</td>\n",
              "      <td>0</td>\n",
              "      <td>0</td>\n",
              "    </tr>\n",
              "    <tr>\n",
              "      <th>894635</th>\n",
              "      <td>Wyoming</td>\n",
              "      <td>Wind River Agency</td>\n",
              "      <td>FBI</td>\n",
              "      <td>Yes</td>\n",
              "      <td>2023</td>\n",
              "      <td>August</td>\n",
              "      <td>Murder and non-negligent manslaughter</td>\n",
              "      <td>Single victim/single offender</td>\n",
              "      <td>42</td>\n",
              "      <td>Male</td>\n",
              "      <td>American Indian or Alaskan Native</td>\n",
              "      <td>Not of Hispanic origin</td>\n",
              "      <td>59</td>\n",
              "      <td>Male</td>\n",
              "      <td>American Indian or Alaskan Native</td>\n",
              "      <td>Not of Hispanic origin</td>\n",
              "      <td>Handgun - pistol, revolver, etc</td>\n",
              "      <td>Other - known to victim</td>\n",
              "      <td>0</td>\n",
              "      <td>0</td>\n",
              "    </tr>\n",
              "  </tbody>\n",
              "</table>\n",
              "<p>894636 rows × 20 columns</p>\n",
              "</div>"
            ],
            "text/plain": [
              "          State             Agency Source Solved  Year   Month  \\\n",
              "0        Alaska          Anchorage    FBI    Yes  1976   March   \n",
              "1        Alaska          Anchorage    FBI    Yes  1976   April   \n",
              "2        Alaska          Anchorage    FBI    Yes  1976    June   \n",
              "3        Alaska          Anchorage    FBI    Yes  1976    June   \n",
              "4        Alaska          Anchorage    FBI    Yes  1976    July   \n",
              "...         ...                ...    ...    ...   ...     ...   \n",
              "894631  Wyoming  Wind River Agency    FBI     No  2018  August   \n",
              "894632  Wyoming  Wind River Agency    FBI    Yes  2019  August   \n",
              "894633  Wyoming  Wind River Agency    FBI    Yes  2023   March   \n",
              "894634  Wyoming  Wind River Agency    FBI    Yes  2023   March   \n",
              "894635  Wyoming  Wind River Agency    FBI    Yes  2023  August   \n",
              "\n",
              "                                     Homicide  \\\n",
              "0       Murder and non-negligent manslaughter   \n",
              "1       Murder and non-negligent manslaughter   \n",
              "2       Murder and non-negligent manslaughter   \n",
              "3       Murder and non-negligent manslaughter   \n",
              "4       Murder and non-negligent manslaughter   \n",
              "...                                       ...   \n",
              "894631  Murder and non-negligent manslaughter   \n",
              "894632  Murder and non-negligent manslaughter   \n",
              "894633  Murder and non-negligent manslaughter   \n",
              "894634  Murder and non-negligent manslaughter   \n",
              "894635  Murder and non-negligent manslaughter   \n",
              "\n",
              "                                Situation  VicAge  VicSex  \\\n",
              "0           Single victim/single offender      48    Male   \n",
              "1           Single victim/single offender      33  Female   \n",
              "2           Single victim/single offender      38    Male   \n",
              "3           Single victim/single offender      41    Male   \n",
              "4           Single victim/single offender      33    Male   \n",
              "...                                   ...     ...     ...   \n",
              "894631  Single victim/unknown offender(s)      29    Male   \n",
              "894632      Single victim/single offender      29    Male   \n",
              "894633      Single victim/single offender      44    Male   \n",
              "894634      Single victim/single offender      37    Male   \n",
              "894635      Single victim/single offender      42    Male   \n",
              "\n",
              "                                  VicRace                VicEthnic  OffAge  \\\n",
              "0                                 Unknown  Unknown or not reported      68   \n",
              "1                                   White  Unknown or not reported      44   \n",
              "2                                   White  Unknown or not reported      27   \n",
              "3                                   White  Unknown or not reported      34   \n",
              "4       American Indian or Alaskan Native  Unknown or not reported      37   \n",
              "...                                   ...                      ...     ...   \n",
              "894631  American Indian or Alaskan Native   Not of Hispanic origin     999   \n",
              "894632  American Indian or Alaskan Native   Not of Hispanic origin      30   \n",
              "894633  American Indian or Alaskan Native   Not of Hispanic origin      33   \n",
              "894634  American Indian or Alaskan Native   Not of Hispanic origin      29   \n",
              "894635  American Indian or Alaskan Native   Not of Hispanic origin      59   \n",
              "\n",
              "         OffSex                            OffRace                OffEthnic  \\\n",
              "0          Male                              Black  Unknown or not reported   \n",
              "1          Male                              White  Unknown or not reported   \n",
              "2          Male                              Black  Unknown or not reported   \n",
              "3          Male                              White  Unknown or not reported   \n",
              "4        Female  American Indian or Alaskan Native  Unknown or not reported   \n",
              "...         ...                                ...                      ...   \n",
              "894631  Unknown                            Unknown  Unknown or not reported   \n",
              "894632     Male  American Indian or Alaskan Native   Not of Hispanic origin   \n",
              "894633     Male  American Indian or Alaskan Native   Not of Hispanic origin   \n",
              "894634     Male  American Indian or Alaskan Native   Not of Hispanic origin   \n",
              "894635     Male  American Indian or Alaskan Native   Not of Hispanic origin   \n",
              "\n",
              "                                 Weapon                 Relationship  \\\n",
              "0       Handgun - pistol, revolver, etc  Relationship not determined   \n",
              "1       Handgun - pistol, revolver, etc                   Girlfriend   \n",
              "2       Handgun - pistol, revolver, etc                     Stranger   \n",
              "3       Handgun - pistol, revolver, etc      Other - known to victim   \n",
              "4           Knife or cutting instrument                      Brother   \n",
              "...                                 ...                          ...   \n",
              "894631                          Shotgun      Other - known to victim   \n",
              "894632         Firearm, type not stated                 Acquaintance   \n",
              "894633         Firearm, type not stated      Other - known to victim   \n",
              "894634            Other or type unknown  Relationship not determined   \n",
              "894635  Handgun - pistol, revolver, etc      Other - known to victim   \n",
              "\n",
              "        VicCount  OffCount  \n",
              "0              0         0  \n",
              "1              0         0  \n",
              "2              0         0  \n",
              "3              0         0  \n",
              "4              0         0  \n",
              "...          ...       ...  \n",
              "894631         0         0  \n",
              "894632         0         0  \n",
              "894633         0         0  \n",
              "894634         0         0  \n",
              "894635         0         0  \n",
              "\n",
              "[894636 rows x 20 columns]"
            ]
          },
          "execution_count": 4,
          "metadata": {},
          "output_type": "execute_result"
        }
      ],
      "source": [
        "#subset for columns that are important\n",
        "new_df = df[['State', \"Agency\", \"Source\", \"Solved\", \"Year\", \"Month\", \"Homicide\", \"Situation\", \"VicAge\", \"VicSex\", \"VicRace\", \"VicEthnic\", \"OffAge\", \"OffSex\", \"OffRace\", \"OffEthnic\", \"Weapon\", \"Relationship\", \"VicCount\", \"OffCount\"  ]]\n",
        "new_df"
      ]
    },
    {
      "cell_type": "markdown",
      "metadata": {
        "id": "MaJg6sxASz-s"
      },
      "source": [
        "Now we can check if there are any missing values"
      ]
    },
    {
      "cell_type": "code",
      "execution_count": 5,
      "metadata": {
        "colab": {
          "base_uri": "https://localhost:8080/"
        },
        "id": "u-VpulpzNjsE",
        "outputId": "26402aae-aac0-4e0a-c347-ce751a895170"
      },
      "outputs": [
        {
          "name": "stdout",
          "output_type": "stream",
          "text": [
            "State\n",
            "0\n",
            "Agency\n",
            "0\n",
            "Source\n",
            "0\n",
            "Solved\n",
            "0\n",
            "Year\n",
            "0\n",
            "Month\n",
            "0\n",
            "Homicide\n",
            "0\n",
            "Situation\n",
            "0\n",
            "VicAge\n",
            "0\n",
            "VicSex\n",
            "0\n",
            "VicRace\n",
            "0\n",
            "VicEthnic\n",
            "0\n",
            "OffAge\n",
            "0\n",
            "OffSex\n",
            "0\n",
            "OffRace\n",
            "0\n",
            "OffEthnic\n",
            "0\n",
            "Weapon\n",
            "0\n",
            "Relationship\n",
            "0\n",
            "VicCount\n",
            "0\n",
            "OffCount\n",
            "0\n"
          ]
        }
      ],
      "source": [
        "#Checking for any missing values in the data\n",
        "\n",
        "for col in new_df.columns:\n",
        "  print(col)\n",
        "  print(new_df[col].isna().sum())"
      ]
    },
    {
      "cell_type": "markdown",
      "metadata": {
        "id": "11Bj_A68S23A"
      },
      "source": [
        "\n",
        "\n",
        "```\n",
        "# This is formatted as code\n",
        "```\n",
        "\n",
        "There are some missing values"
      ]
    },
    {
      "cell_type": "code",
      "execution_count": 6,
      "metadata": {
        "colab": {
          "base_uri": "https://localhost:8080/"
        },
        "id": "laODWsnMOCej",
        "outputId": "168e554d-1e2c-4f5b-fec5-7fd29be04a2b"
      },
      "outputs": [
        {
          "name": "stdout",
          "output_type": "stream",
          "text": [
            "[2010 2011 2012 2013 2014 2015 2016 2017 2018 2019 2020 2022 2023 2021]\n"
          ]
        }
      ],
      "source": [
        "#subset the data based on year\n",
        "new_df = new_df[new_df['Year']>=2010]\n",
        "#check for weird values\n",
        "print(new_df['Year'].unique())"
      ]
    },
    {
      "cell_type": "code",
      "execution_count": 7,
      "metadata": {
        "colab": {
          "base_uri": "https://localhost:8080/"
        },
        "id": "7lEUga-VSrMb",
        "outputId": "7b2974d7-b78e-4111-bf13-0e5278305676"
      },
      "outputs": [
        {
          "name": "stdout",
          "output_type": "stream",
          "text": [
            "['Alaska' 'Alabama' 'Arkansas' 'Arizona' 'California' 'Colorado'\n",
            " 'Connecticut' 'District of Columbia' 'Delaware' 'Florida' 'Georgia'\n",
            " 'Hawaii' 'Iowa' 'Idaho' 'Illinois' 'Indiana' 'Kansas' 'Kentucky'\n",
            " 'Louisiana' 'Massachusetts' 'Maryland' 'Maine' 'Michigan' 'Minnesota'\n",
            " 'Missouri' 'Mississippi' 'Montana' 'Nebraska' 'North Carolina'\n",
            " 'North Dakota' 'New Hampshire' 'New Jersey' 'New Mexico' 'Nevada'\n",
            " 'New York' 'Ohio' 'Oklahoma' 'Oregon' 'Pennsylvania' 'Rhodes Island'\n",
            " 'South Carolina' 'South Dakota' 'Tennessee' 'Texas' 'Utah' 'Virginia'\n",
            " 'Vermont' 'Washington' 'Wisconsin' 'West Virginia' 'Wyoming']\n"
          ]
        }
      ],
      "source": [
        "#check for weird values\n",
        "print(new_df['State'].unique())"
      ]
    },
    {
      "cell_type": "code",
      "execution_count": 8,
      "metadata": {
        "colab": {
          "base_uri": "https://localhost:8080/"
        },
        "id": "2LtRa8PaTDDC",
        "outputId": "96a27166-99c9-4aa0-971a-01e40bfeccdc"
      },
      "outputs": [
        {
          "name": "stdout",
          "output_type": "stream",
          "text": [
            "['FBI' 'MAP']\n"
          ]
        }
      ],
      "source": [
        "#check for weird values\n",
        "print(new_df['Source'].unique())"
      ]
    },
    {
      "cell_type": "code",
      "execution_count": 9,
      "metadata": {
        "colab": {
          "base_uri": "https://localhost:8080/"
        },
        "id": "smgcddc8TSAY",
        "outputId": "084f7b93-a275-4405-840b-ff5bb7d5b7c2"
      },
      "outputs": [
        {
          "name": "stdout",
          "output_type": "stream",
          "text": [
            "['No' 'Yes']\n"
          ]
        }
      ],
      "source": [
        "#check for weird values\n",
        "print(new_df['Solved'].unique())"
      ]
    },
    {
      "cell_type": "code",
      "execution_count": 10,
      "metadata": {
        "colab": {
          "base_uri": "https://localhost:8080/"
        },
        "id": "90PHbzyoTg72",
        "outputId": "58da0191-f9a1-4091-ba20-de7eff9445ee"
      },
      "outputs": [
        {
          "name": "stdout",
          "output_type": "stream",
          "text": [
            "['Single victim/unknown offender(s)' 'Single victim/single offender'\n",
            " 'Single victim/multiple offenders' 'Multiple victims/single offender'\n",
            " 'Multiple victims/unknown offender(s)'\n",
            " 'Multiple victims/multiple offenders']\n"
          ]
        }
      ],
      "source": [
        "#check for weird values\n",
        "print(new_df['Situation'].unique())"
      ]
    },
    {
      "cell_type": "code",
      "execution_count": 11,
      "metadata": {
        "colab": {
          "base_uri": "https://localhost:8080/"
        },
        "id": "H__OqXR-Ttv3",
        "outputId": "843f4fdc-9ee5-41c7-9e80-8d18149f433d"
      },
      "outputs": [
        {
          "name": "stdout",
          "output_type": "stream",
          "text": [
            "[ 0  1  2  3  4  9  5  6 10  7  8 11 21 20 52]\n"
          ]
        }
      ],
      "source": [
        "#check for weird values\n",
        "print(new_df['VicCount'].unique())"
      ]
    },
    {
      "cell_type": "code",
      "execution_count": 12,
      "metadata": {
        "colab": {
          "base_uri": "https://localhost:8080/"
        },
        "id": "9JolRTbxT8GR",
        "outputId": "3a67eb56-eeaf-48a1-be9c-ef847f362f65"
      },
      "outputs": [
        {
          "name": "stdout",
          "output_type": "stream",
          "text": [
            "[ 0  1  2  3  4  5  8  7  6  9 11 15 12 10 17 40 13 14 21]\n"
          ]
        }
      ],
      "source": [
        "#check for weird values\n",
        "print(new_df['OffCount'].unique())"
      ]
    },
    {
      "cell_type": "code",
      "execution_count": 13,
      "metadata": {
        "colab": {
          "base_uri": "https://localhost:8080/"
        },
        "id": "aF_br4zygL1v",
        "outputId": "681b22c5-6b9b-478a-c1c9-41cb3112350d"
      },
      "outputs": [
        {
          "name": "stdout",
          "output_type": "stream",
          "text": [
            "[ 44  29  26  40  34  48  19   0  24  30  57  23  54  42  58  52  20  28\n",
            "  55  35  38   1  33  14  50  67  18  27  47  43  59  31  21  73  71  53\n",
            "  36  22  15  51  63  64  74  56  39   4  11  41  60   2  49  32  17  25\n",
            "  69  37  70  92  76  65  46   6  45  61   3  13  16  66   5  62  12  88\n",
            "  77  75  10 999   7  68   8  81   9  72  80  79  78  83  90  86  85  89\n",
            "  82  84  91  99  87  95  94  93  96  97  98]\n",
            "[44. 29. 26. 40. 34. 48. 19.  0. 24. 30. 57. 23. 54. 42. 58. 52. 20. 28.\n",
            " 55. 35. 38.  1. 33. 14. 50. 67. 18. 27. 47. 43. 59. 31. 21. 73. 71. 53.\n",
            " 36. 22. 15. 51. 63. 64. 74. 56. 39.  4. 11. 41. 60.  2. 49. 32. 17. 25.\n",
            " 69. 37. 70. 92. 76. 65. 46.  6. 45. 61.  3. 13. 16. 66.  5. 62. 12. 88.\n",
            " 77. 75. 10. nan  7. 68.  8. 81.  9. 72. 80. 79. 78. 83. 90. 86. 85. 89.\n",
            " 82. 84. 91. 99. 87. 95. 94. 93. 96. 97. 98.]\n"
          ]
        }
      ],
      "source": [
        "#check for weird values\n",
        "print(new_df['VicAge'].unique())\n",
        "#see the value 999, which is a place holder\n",
        "new_df[\"VicAge\"] = new_df['VicAge'].replace(999, np.nan)\n",
        "print(new_df['VicAge'].unique())"
      ]
    },
    {
      "cell_type": "code",
      "execution_count": 14,
      "metadata": {
        "colab": {
          "base_uri": "https://localhost:8080/"
        },
        "id": "0BmXLfFOhc8u",
        "outputId": "43b1609d-3195-4deb-fe5d-13cccf7a5798"
      },
      "outputs": [
        {
          "name": "stdout",
          "output_type": "stream",
          "text": [
            "[999  28  26  35  38  21  23  45  27  24  62  43  17  66  22  33  31  47\n",
            "  25  34  30  55  40  29  50  41  61  20  49  18  73  64  19  39  51  16\n",
            "  46  15  32  44  71  37  57  63  91  75  42  68  36  12  48  53  56  13\n",
            "  59  14  67   9   8  69   6  11  99  54  58  52   7  80  60  76  82  10\n",
            "   1  70  72  89  81  74  84  65  77  78  79   5  83  90  85  87  86  93\n",
            "  96  92  88   4  95  97   0   3  94  98   2]\n",
            "[nan 28. 26. 35. 38. 21. 23. 45. 27. 24. 62. 43. 17. 66. 22. 33. 31. 47.\n",
            " 25. 34. 30. 55. 40. 29. 50. 41. 61. 20. 49. 18. 73. 64. 19. 39. 51. 16.\n",
            " 46. 15. 32. 44. 71. 37. 57. 63. 91. 75. 42. 68. 36. 12. 48. 53. 56. 13.\n",
            " 59. 14. 67.  9.  8. 69.  6. 11. 99. 54. 58. 52.  7. 80. 60. 76. 82. 10.\n",
            "  1. 70. 72. 89. 81. 74. 84. 65. 77. 78. 79.  5. 83. 90. 85. 87. 86. 93.\n",
            " 96. 92. 88.  4. 95. 97.  0.  3. 94. 98.  2.]\n"
          ]
        }
      ],
      "source": [
        "#check for weird values\n",
        "print(new_df['OffAge'].unique())\n",
        "#see the value 999, which is a place holder\n",
        "new_df[\"OffAge\"] = new_df['OffAge'].replace(999, np.nan)\n",
        "print(new_df['OffAge'].unique())"
      ]
    },
    {
      "cell_type": "code",
      "execution_count": 15,
      "metadata": {
        "colab": {
          "base_uri": "https://localhost:8080/"
        },
        "id": "rE_I6Hrahx_3",
        "outputId": "804c3346-9745-44ce-a9d2-c355b4b94640"
      },
      "outputs": [
        {
          "name": "stdout",
          "output_type": "stream",
          "text": [
            "['January' 'February' 'March' 'April' 'May' 'June' 'July' 'August'\n",
            " 'September' 'October' 'December' 'November']\n"
          ]
        }
      ],
      "source": [
        "#check for weird values\n",
        "print(new_df['Month'].unique())"
      ]
    },
    {
      "cell_type": "code",
      "execution_count": 16,
      "metadata": {
        "colab": {
          "base_uri": "https://localhost:8080/"
        },
        "id": "6igwEeLSh8uR",
        "outputId": "67991f98-d6d3-405d-ff9b-8639d44420ae"
      },
      "outputs": [
        {
          "name": "stdout",
          "output_type": "stream",
          "text": [
            "['Murder and non-negligent manslaughter' 'Manslaughter by negligence']\n"
          ]
        }
      ],
      "source": [
        "#check for weird values\n",
        "print(new_df['Homicide'].unique())"
      ]
    },
    {
      "cell_type": "code",
      "execution_count": 17,
      "metadata": {
        "colab": {
          "base_uri": "https://localhost:8080/"
        },
        "id": "TdXDooaZiIUW",
        "outputId": "8818a24d-001b-4b86-fd60-c1fc57c41996"
      },
      "outputs": [
        {
          "name": "stdout",
          "output_type": "stream",
          "text": [
            "['Male' 'Female' 'Unknown']\n",
            "['Male' 'Female' nan]\n"
          ]
        }
      ],
      "source": [
        "#check for weird values\n",
        "print(new_df['VicSex'].unique())\n",
        "new_df[\"VicSex\"] = new_df['VicSex'].replace(\"Unknown\", np.nan)\n",
        "print(new_df['VicSex'].unique())"
      ]
    },
    {
      "cell_type": "code",
      "execution_count": 18,
      "metadata": {
        "colab": {
          "base_uri": "https://localhost:8080/"
        },
        "id": "GdZq92U6iS33",
        "outputId": "e3e9db5e-b445-40bd-d315-6a386dc6d1f2"
      },
      "outputs": [
        {
          "name": "stdout",
          "output_type": "stream",
          "text": [
            "['Unknown' 'Male' 'Female']\n",
            "[nan 'Male' 'Female']\n"
          ]
        }
      ],
      "source": [
        "#check for weird values\n",
        "print(new_df['OffSex'].unique())\n",
        "new_df[\"OffSex\"] = new_df['OffSex'].replace(\"Unknown\", np.nan)\n",
        "print(new_df['OffSex'].unique())"
      ]
    },
    {
      "cell_type": "code",
      "execution_count": 19,
      "metadata": {
        "colab": {
          "base_uri": "https://localhost:8080/"
        },
        "id": "VS6Y32TAibrZ",
        "outputId": "d53ba1b2-2b52-4465-8543-934f367d4d28"
      },
      "outputs": [
        {
          "name": "stdout",
          "output_type": "stream",
          "text": [
            "['White' 'Black' 'Asian' 'American Indian or Alaskan Native' 'Unknown'\n",
            " 'Native Hawaiian or Pacific Islander']\n",
            "['White' 'Black' 'Asian' 'American Indian or Alaskan Native' nan\n",
            " 'Native Hawaiian or Pacific Islander']\n"
          ]
        }
      ],
      "source": [
        "#check for weird values\n",
        "print(new_df['VicRace'].unique())\n",
        "new_df[\"VicRace\"] = new_df['VicRace'].replace(\"Unknown\", np.nan)\n",
        "print(new_df['VicRace'].unique())"
      ]
    },
    {
      "cell_type": "code",
      "execution_count": 20,
      "metadata": {
        "colab": {
          "base_uri": "https://localhost:8080/"
        },
        "id": "SQr3qDI2itzF",
        "outputId": "4b190fc2-30b4-4bc6-b1ea-50081688197d"
      },
      "outputs": [
        {
          "name": "stdout",
          "output_type": "stream",
          "text": [
            "['Unknown' 'Black' 'White' 'Asian' 'American Indian or Alaskan Native'\n",
            " 'Native Hawaiian or Pacific Islander']\n",
            "[nan 'Black' 'White' 'Asian' 'American Indian or Alaskan Native'\n",
            " 'Native Hawaiian or Pacific Islander']\n"
          ]
        }
      ],
      "source": [
        "#check for weird values\n",
        "print(new_df['OffRace'].unique())\n",
        "new_df[\"OffRace\"] = new_df['OffRace'].replace(\"Unknown\", np.nan)\n",
        "print(new_df['OffRace'].unique())"
      ]
    },
    {
      "cell_type": "code",
      "execution_count": 21,
      "metadata": {
        "colab": {
          "base_uri": "https://localhost:8080/"
        },
        "id": "yOMI6W85ixpi",
        "outputId": "366afbf2-e7cb-4537-c6c9-2ba6735f11eb"
      },
      "outputs": [
        {
          "name": "stdout",
          "output_type": "stream",
          "text": [
            "['Unknown or not reported' 'Not of Hispanic origin' 'Hispanic origin']\n",
            "[nan 'Not of Hispanic origin' 'Hispanic origin']\n"
          ]
        }
      ],
      "source": [
        "#check for weird values\n",
        "print(new_df['VicEthnic'].unique())\n",
        "new_df[\"VicEthnic\"] = new_df['VicEthnic'].replace(\"Unknown or not reported\", np.nan)\n",
        "print(new_df['VicEthnic'].unique())"
      ]
    },
    {
      "cell_type": "code",
      "execution_count": 22,
      "metadata": {
        "colab": {
          "base_uri": "https://localhost:8080/"
        },
        "id": "wlYdwQmhi6IC",
        "outputId": "f01813e2-4639-4c21-8540-1aa2c0c03e8a"
      },
      "outputs": [
        {
          "name": "stdout",
          "output_type": "stream",
          "text": [
            "['Unknown or not reported' 'Not of Hispanic origin' 'Hispanic origin']\n",
            "[nan 'Not of Hispanic origin' 'Hispanic origin']\n"
          ]
        }
      ],
      "source": [
        "#check for weird values\n",
        "print(new_df['OffEthnic'].unique())\n",
        "new_df[\"OffEthnic\"] = new_df['OffEthnic'].replace(\"Unknown or not reported\", np.nan)\n",
        "print(new_df['OffEthnic'].unique())"
      ]
    },
    {
      "cell_type": "code",
      "execution_count": 23,
      "metadata": {
        "colab": {
          "base_uri": "https://localhost:8080/"
        },
        "id": "OV6xPZy1jXZo",
        "outputId": "80e89ac2-8f6e-48b7-e797-291bdd69d84c"
      },
      "outputs": [
        {
          "name": "stdout",
          "output_type": "stream",
          "text": [
            "['Relationship not determined' 'Acquaintance' 'Stranger' 'Daughter'\n",
            " 'Other family' 'Other - known to victim' 'Friend' 'Wife' 'Neighbor'\n",
            " 'Employer' 'Son' 'Girlfriend' 'Boyfriend' 'Mother' 'Ex-husband' 'Sister'\n",
            " 'Ex-wife' 'Brother' 'Common-law wife' 'Father' 'Homosexual relationship'\n",
            " 'In-law' 'Husband' 'Stepfather' 'Employee' 'Stepson' 'Stepmother'\n",
            " 'Common-law husband' 'Stepdaughter']\n",
            "[nan 'Friend' 'Other' 'Offspring' 'Distant Family' 'Romantic Relation'\n",
            " 'Parents' 'Sibling']\n"
          ]
        }
      ],
      "source": [
        "#check for weird values\n",
        "print(new_df['Relationship'].unique())\n",
        "new_df[\"Relationship\"] = new_df['Relationship'].replace([\"Wife\", \"Girlfriend\", \"Boyfriend\", \"Common-law husband\", \"Common-law wife\", \"Homosexual relationship\", \"Ex-husband\", \"Ex-wife\", \"Husband\" ], 'Romantic Relation')\n",
        "new_df[\"Relationship\"] = new_df['Relationship'].replace([\"Son\", \"Daughter\", \"Stepdaughter\", \"Stepson\"], 'Offspring')\n",
        "new_df[\"Relationship\"] = new_df['Relationship'].replace([\"Father\", \"Mother\", \"Stepmother\", \"Stepfather\"], 'Parents')\n",
        "new_df[\"Relationship\"] = new_df['Relationship'].replace([\"Brother\", \"Sister\"], 'Sibling')\n",
        "new_df[\"Relationship\"] = new_df['Relationship'].replace([\"Friend\", \"Acquaintance\"], 'Friend')\n",
        "new_df[\"Relationship\"] = new_df['Relationship'].replace([\"Other family\", \"In-law\"], 'Distant Family')\n",
        "new_df[\"Relationship\"] = new_df['Relationship'].replace([\"Stranger\", \"Employer\", \"Neighbor\", \"Other - known to victim\", \"Employee\"], 'Other')\n",
        "new_df[\"Relationship\"] = new_df['Relationship'].replace([\"Relationship not determined\"], np.nan)\n",
        "print(new_df['Relationship'].unique())"
      ]
    },
    {
      "cell_type": "code",
      "execution_count": 24,
      "metadata": {
        "colab": {
          "base_uri": "https://localhost:8080/"
        },
        "id": "P5g4kUdbjo6D",
        "outputId": "f0115c32-7931-401e-8499-3fd10fb5d80f"
      },
      "outputs": [
        {
          "name": "stdout",
          "output_type": "stream",
          "text": [
            "['Firearm, type not stated' 'Personal weapons, includes beating'\n",
            " 'Knife or cutting instrument' 'Handgun - pistol, revolver, etc'\n",
            " 'Blunt object - hammer, club, etc' 'Narcotics or drugs, sleeping pills'\n",
            " 'Strangulation - hanging' 'Asphyxiation - includes death by gas'\n",
            " 'Other or type unknown' 'Fire' 'Other gun' 'Rifle' 'Shotgun' 'Drowning'\n",
            " 'Weapon Not Reported' 'Poison - does not include gas' 'Explosives'\n",
            " 'Pushed or thrown out window']\n"
          ]
        }
      ],
      "source": [
        "#check for weird values\n",
        "print(new_df['Weapon'].unique())\n",
        "new_df[\"Weapon\"] = new_df['Weapon'].replace([\"Firearm, type not stated\", \"Handgun - pistol, revolver, etc\", \"Other gun\", \"Rifle\", \"Shotgun\"], 'Firearm')\n",
        "new_df[\"Weapon\"] = new_df['Weapon'].replace([\"Personal weapons, includes beating\", \"Blunt object - hammer, club, etc\", \"Pushed or thrown out window\", \"Strangulation - hanging\"], 'Interpersonal Violence')\n",
        "new_df[\"Weapon\"] = new_df['Weapon'].replace([\"Narcotics or drugs, sleeping pills\", \"Poison - does not include gas\"], 'Substance')\n",
        "new_df[\"Weapon\"] = new_df['Weapon'].replace([\"Weapon Not Reported\"], np.nan)\n",
        "new_df[\"Weapon\"] = new_df['Weapon'].replace([\"Other or type unknown\", \"Asphyxiation - includes death by gas\"], \"Other\")"
      ]
    },
    {
      "cell_type": "code",
      "execution_count": 25,
      "metadata": {},
      "outputs": [
        {
          "name": "stdout",
          "output_type": "stream",
          "text": [
            "Rows dropped: 29069\n"
          ]
        }
      ],
      "source": [
        "# Removing any rows that are missing more than 5 values\n",
        "\n",
        "# create drop_df to SAVE only rows with LESS than 5 missing values\n",
        "drop_df = new_df[new_df.isnull().sum(axis=1) <= 5]\n",
        "\n",
        "# Count how many rows were dropped -> new_df length - drop_df length\n",
        "rows_dropped = len(new_df) - len(drop_df)\n",
        "\n",
        "# print how many rows were dropped \n",
        "print(f\"Rows dropped: {rows_dropped}\")"
      ]
    },
    {
      "cell_type": "code",
      "execution_count": null,
      "metadata": {},
      "outputs": [],
      "source": [
        "# saving drop_df as new csv\n",
        "## will save the csv in whatever folder/directory you're currently working in just fyi\n",
        "drop_df.to_csv(\"cleaned_df\")"
      ]
    }
  ],
  "metadata": {
    "colab": {
      "provenance": []
    },
    "kernelspec": {
      "display_name": "Python 3",
      "name": "python3"
    },
    "language_info": {
      "codemirror_mode": {
        "name": "ipython",
        "version": 3
      },
      "file_extension": ".py",
      "mimetype": "text/x-python",
      "name": "python",
      "nbconvert_exporter": "python",
      "pygments_lexer": "ipython3",
      "version": "3.12.5"
    }
  },
  "nbformat": 4,
  "nbformat_minor": 0
}
