{
 "cells": [
  {
   "cell_type": "markdown",
   "id": "bce79baa",
   "metadata": {},
   "source": [
    "## Incorporating COVID Data set "
   ]
  },
  {
   "cell_type": "markdown",
   "id": "3dea4937",
   "metadata": {},
   "source": [
    "We want to compare the number of COVID cases in different areas during 2020 - 2023 to the number of crimes against Asian individuals during that same time frame. \n",
    "We will use tables and graphs to do the comparison. "
   ]
  },
  {
   "cell_type": "code",
   "execution_count": null,
   "id": "ae8ce3d4",
   "metadata": {},
   "outputs": [],
   "source": []
  }
 ],
 "metadata": {
  "language_info": {
   "name": "python"
  }
 },
 "nbformat": 4,
 "nbformat_minor": 5
}
